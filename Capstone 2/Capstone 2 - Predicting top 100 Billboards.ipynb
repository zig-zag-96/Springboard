{
 "cells": [
  {
   "cell_type": "markdown",
   "id": "16ed0cb3",
   "metadata": {},
   "source": [
    "Data Wrangling Methodology:\n",
    "\n",
    "Billboard Data\n",
    "\n",
    "I first need to make sure the datasets collected from Billboard are clean. The data for each year is kept in CSV files in the Datasets Folder from the root. \n",
    "\n",
    "What I need to check:\n",
    "1. No duplicate values in each file.\n",
    "2. No duplicate values ACROSS files.\n",
    "2. No Missing values (might do this by visual inspection in Excel) \n",
    "3. "
   ]
  },
  {
   "cell_type": "code",
   "execution_count": 3,
   "id": "49a99b6a",
   "metadata": {},
   "outputs": [],
   "source": [
    "\n"
   ]
  },
  {
   "cell_type": "code",
   "execution_count": null,
   "id": "881a24b4",
   "metadata": {},
   "outputs": [],
   "source": []
  }
 ],
 "metadata": {
  "kernelspec": {
   "display_name": "Python 3",
   "language": "python",
   "name": "python3"
  },
  "language_info": {
   "codemirror_mode": {
    "name": "ipython",
    "version": 3
   },
   "file_extension": ".py",
   "mimetype": "text/x-python",
   "name": "python",
   "nbconvert_exporter": "python",
   "pygments_lexer": "ipython3",
   "version": "3.8.8"
  }
 },
 "nbformat": 4,
 "nbformat_minor": 5
}
