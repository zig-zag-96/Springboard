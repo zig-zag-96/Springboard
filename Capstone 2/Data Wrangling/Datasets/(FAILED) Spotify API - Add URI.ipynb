{
 "cells": [
  {
   "cell_type": "code",
   "execution_count": 146,
   "id": "7ca2b3a6",
   "metadata": {},
   "outputs": [
    {
     "name": "stdout",
     "output_type": "stream",
     "text": [
      "3f7295d24d8041688f494196baeb607f\n",
      "42896ec37b22446680c5a485858a4843\n"
     ]
    }
   ],
   "source": [
    "# get api key from your .env file\n",
    "\n",
    "import os\n",
    "\n",
    "from dotenv import load_dotenv\n",
    "\n",
    "from pathlib import Path\n",
    "\n",
    " \n",
    "\n",
    "dotenv_path = Path('./SpotifyAPIKey.env')\n",
    "\n",
    "load_dotenv(dotenv_path=dotenv_path)\n",
    "\n",
    "\n",
    "#load_dotenv()\n",
    "\n",
    "API_CLIENT_ID = os.getenv('SPOTIFY_CLIENT_ID')\n",
    "API_CLIENT_SECRET = os.getenv('SPOTIFY_CLIENT_SECRET')\n",
    " \n",
    "print(API_CLIENT_ID)\n",
    "print(API_CLIENT_SECRET)"
   ]
  },
  {
   "cell_type": "code",
   "execution_count": 147,
   "id": "c3eda9af",
   "metadata": {},
   "outputs": [],
   "source": [
    "import base64\n",
    "import requests\n",
    "import pandas as pd"
   ]
  },
  {
   "cell_type": "code",
   "execution_count": 148,
   "id": "566e2d08",
   "metadata": {},
   "outputs": [],
   "source": [
    "#Client Credential Workflow Setup\n",
    "\n",
    "client_creds = f'{API_CLIENT_ID}:{API_CLIENT_SECRET}'\n",
    "type(client_creds)\n",
    "\n",
    "client_creds_b64 = base64.b64encode(client_creds.encode())"
   ]
  },
  {
   "cell_type": "code",
   "execution_count": 149,
   "id": "ec49784c",
   "metadata": {},
   "outputs": [],
   "source": [
    "#More Workflow setup\n",
    "token_url = 'https://accounts.spotify.com/api/token'\n",
    "method = 'POST'\n",
    "token_data = {\n",
    "    'grant_type' : 'client_credentials'\n",
    "}\n",
    "token_headers = {\n",
    "    'Authorization':f'Basic {client_creds_b64.decode()}',\n",
    "    'Content-Type':'application/x-www-form-urlencoded'\n",
    "}"
   ]
  },
  {
   "cell_type": "code",
   "execution_count": 150,
   "id": "c2f65727",
   "metadata": {},
   "outputs": [],
   "source": [
    "#Authentication request to get bearer token\n",
    "r = requests.post(token_url, data=token_data, headers=token_headers)\n",
    "response = r.json()\n",
    "\n",
    "access_token = response['access_token']"
   ]
  },
  {
   "cell_type": "code",
   "execution_count": 151,
   "id": "09291500",
   "metadata": {},
   "outputs": [],
   "source": [
    "#header for each request using the token as authorization\n",
    "\n",
    "headers = {\n",
    "    'Authorization': 'Bearer {token}'.format(token=access_token)\n",
    "}"
   ]
  },
  {
   "cell_type": "code",
   "execution_count": 152,
   "id": "2ea9c476",
   "metadata": {
    "scrolled": true
   },
   "outputs": [
    {
     "name": "stdout",
     "output_type": "stream",
     "text": [
      "{'tracks': {'href': 'https://api.spotify.com/v1/search?query=artist%3Aamine+track%3A+caroline&type=track&offset=0&limit=20', 'items': [{'album': {'album_type': 'album', 'artists': [{'external_urls': {'spotify': 'https://open.spotify.com/artist/3Gm5F95VdRxW3mqCn8RPBJ'}, 'href': 'https://api.spotify.com/v1/artists/3Gm5F95VdRxW3mqCn8RPBJ', 'id': '3Gm5F95VdRxW3mqCn8RPBJ', 'name': 'Aminé', 'type': 'artist', 'uri': 'spotify:artist:3Gm5F95VdRxW3mqCn8RPBJ'}], 'available_markets': ['AD', 'AE', 'AG', 'AL', 'AM', 'AO', 'AR', 'AT', 'AU', 'AZ', 'BA', 'BB', 'BD', 'BE', 'BG', 'BH', 'BI', 'BJ', 'BO', 'BR', 'BS', 'BT', 'BW', 'BZ', 'CA', 'CD', 'CG', 'CH', 'CI', 'CL', 'CM', 'CO', 'CR', 'CV', 'CW', 'CY', 'CZ', 'DE', 'DJ', 'DK', 'DM', 'DO', 'DZ', 'EC', 'EE', 'EG', 'ES', 'FI', 'FJ', 'FM', 'FR', 'GA', 'GB', 'GD', 'GE', 'GH', 'GM', 'GN', 'GQ', 'GR', 'GT', 'GW', 'GY', 'HK', 'HN', 'HR', 'HT', 'HU', 'ID', 'IE', 'IL', 'IN', 'IQ', 'IS', 'IT', 'JM', 'JO', 'JP', 'KE', 'KG', 'KH', 'KI', 'KM', 'KN', 'KR', 'KW', 'KZ', 'LA', 'LB', 'LC', 'LI', 'LK', 'LR', 'LS', 'LT', 'LU', 'LV', 'LY', 'MA', 'MC', 'MD', 'ME', 'MG', 'MH', 'MK', 'ML', 'MN', 'MO', 'MR', 'MT', 'MU', 'MV', 'MW', 'MX', 'MY', 'MZ', 'NA', 'NE', 'NG', 'NI', 'NL', 'NO', 'NR', 'NZ', 'OM', 'PA', 'PE', 'PG', 'PH', 'PK', 'PL', 'PS', 'PT', 'PW', 'PY', 'QA', 'RO', 'RS', 'RU', 'RW', 'SA', 'SB', 'SC', 'SE', 'SG', 'SI', 'SK', 'SL', 'SM', 'SN', 'SR', 'ST', 'SV', 'SZ', 'TD', 'TG', 'TH', 'TJ', 'TL', 'TN', 'TO', 'TR', 'TT', 'TV', 'TW', 'TZ', 'UA', 'UG', 'US', 'UY', 'VC', 'VE', 'VN', 'VU', 'WS', 'XK', 'ZA', 'ZM', 'ZW'], 'external_urls': {'spotify': 'https://open.spotify.com/album/3lajefIuUk4SfzqVBSJy8p'}, 'href': 'https://api.spotify.com/v1/albums/3lajefIuUk4SfzqVBSJy8p', 'id': '3lajefIuUk4SfzqVBSJy8p', 'images': [{'height': 640, 'url': 'https://i.scdn.co/image/ab67616d0000b27360282020360f5048976275aa', 'width': 640}, {'height': 300, 'url': 'https://i.scdn.co/image/ab67616d00001e0260282020360f5048976275aa', 'width': 300}, {'height': 64, 'url': 'https://i.scdn.co/image/ab67616d0000485160282020360f5048976275aa', 'width': 64}], 'name': 'Good For You', 'release_date': '2017-07-28', 'release_date_precision': 'day', 'total_tracks': 15, 'type': 'album', 'uri': 'spotify:album:3lajefIuUk4SfzqVBSJy8p'}, 'artists': [{'external_urls': {'spotify': 'https://open.spotify.com/artist/3Gm5F95VdRxW3mqCn8RPBJ'}, 'href': 'https://api.spotify.com/v1/artists/3Gm5F95VdRxW3mqCn8RPBJ', 'id': '3Gm5F95VdRxW3mqCn8RPBJ', 'name': 'Aminé', 'type': 'artist', 'uri': 'spotify:artist:3Gm5F95VdRxW3mqCn8RPBJ'}], 'available_markets': ['AD', 'AE', 'AG', 'AL', 'AM', 'AO', 'AR', 'AT', 'AU', 'AZ', 'BA', 'BB', 'BD', 'BE', 'BG', 'BH', 'BI', 'BJ', 'BO', 'BR', 'BS', 'BT', 'BW', 'BZ', 'CA', 'CD', 'CG', 'CH', 'CI', 'CL', 'CM', 'CO', 'CR', 'CV', 'CW', 'CY', 'CZ', 'DE', 'DJ', 'DK', 'DM', 'DO', 'DZ', 'EC', 'EE', 'EG', 'ES', 'FI', 'FJ', 'FM', 'FR', 'GA', 'GB', 'GD', 'GE', 'GH', 'GM', 'GN', 'GQ', 'GR', 'GT', 'GW', 'GY', 'HK', 'HN', 'HR', 'HT', 'HU', 'ID', 'IE', 'IL', 'IN', 'IQ', 'IS', 'IT', 'JM', 'JO', 'JP', 'KE', 'KG', 'KH', 'KI', 'KM', 'KN', 'KR', 'KW', 'KZ', 'LA', 'LB', 'LC', 'LI', 'LK', 'LR', 'LS', 'LT', 'LU', 'LV', 'LY', 'MA', 'MC', 'MD', 'ME', 'MG', 'MH', 'MK', 'ML', 'MN', 'MO', 'MR', 'MT', 'MU', 'MV', 'MW', 'MX', 'MY', 'MZ', 'NA', 'NE', 'NG', 'NI', 'NL', 'NO', 'NR', 'NZ', 'OM', 'PA', 'PE', 'PG', 'PH', 'PK', 'PL', 'PS', 'PT', 'PW', 'PY', 'QA', 'RO', 'RS', 'RU', 'RW', 'SA', 'SB', 'SC', 'SE', 'SG', 'SI', 'SK', 'SL', 'SM', 'SN', 'SR', 'ST', 'SV', 'SZ', 'TD', 'TG', 'TH', 'TJ', 'TL', 'TN', 'TO', 'TR', 'TT', 'TV', 'TW', 'TZ', 'UA', 'UG', 'US', 'UY', 'VC', 'VE', 'VN', 'VU', 'WS', 'XK', 'ZA', 'ZM', 'ZW'], 'disc_number': 1, 'duration_ms': 209640, 'explicit': True, 'external_ids': {'isrc': 'USCGH1697037'}, 'external_urls': {'spotify': 'https://open.spotify.com/track/5hTpBe8h35rJ67eAWHQsJx'}, 'href': 'https://api.spotify.com/v1/tracks/5hTpBe8h35rJ67eAWHQsJx', 'id': '5hTpBe8h35rJ67eAWHQsJx', 'is_local': False, 'name': 'Caroline', 'popularity': 77, 'preview_url': None, 'track_number': 3, 'type': 'track', 'uri': 'spotify:track:5hTpBe8h35rJ67eAWHQsJx'}, {'album': {'album_type': 'album', 'artists': [{'external_urls': {'spotify': 'https://open.spotify.com/artist/3Gm5F95VdRxW3mqCn8RPBJ'}, 'href': 'https://api.spotify.com/v1/artists/3Gm5F95VdRxW3mqCn8RPBJ', 'id': '3Gm5F95VdRxW3mqCn8RPBJ', 'name': 'Aminé', 'type': 'artist', 'uri': 'spotify:artist:3Gm5F95VdRxW3mqCn8RPBJ'}], 'available_markets': ['AE', 'BB', 'BF', 'BH', 'BN', 'BY', 'CA', 'DZ', 'EG', 'GB', 'GH', 'ID', 'IE', 'IN', 'IQ', 'JO', 'KG', 'KR', 'KW', 'KZ', 'LB', 'LY', 'MA', 'MX', 'MY', 'NP', 'OM', 'PS', 'QA', 'RU', 'SA', 'SG', 'TD', 'TN', 'TR', 'UA', 'US', 'UZ'], 'external_urls': {'spotify': 'https://open.spotify.com/album/38yleghRokhggbhJe0O0rI'}, 'href': 'https://api.spotify.com/v1/albums/38yleghRokhggbhJe0O0rI', 'id': '38yleghRokhggbhJe0O0rI', 'images': [{'height': 640, 'url': 'https://i.scdn.co/image/ab67616d0000b273b05a1752de05b5d7fcf87a72', 'width': 640}, {'height': 300, 'url': 'https://i.scdn.co/image/ab67616d00001e02b05a1752de05b5d7fcf87a72', 'width': 300}, {'height': 64, 'url': 'https://i.scdn.co/image/ab67616d00004851b05a1752de05b5d7fcf87a72', 'width': 64}], 'name': 'Good For You', 'release_date': '2017-07-28', 'release_date_precision': 'day', 'total_tracks': 15, 'type': 'album', 'uri': 'spotify:album:38yleghRokhggbhJe0O0rI'}, 'artists': [{'external_urls': {'spotify': 'https://open.spotify.com/artist/3Gm5F95VdRxW3mqCn8RPBJ'}, 'href': 'https://api.spotify.com/v1/artists/3Gm5F95VdRxW3mqCn8RPBJ', 'id': '3Gm5F95VdRxW3mqCn8RPBJ', 'name': 'Aminé', 'type': 'artist', 'uri': 'spotify:artist:3Gm5F95VdRxW3mqCn8RPBJ'}], 'available_markets': ['AE', 'BB', 'BF', 'BH', 'BN', 'BY', 'CA', 'DZ', 'EG', 'GB', 'GH', 'ID', 'IE', 'IN', 'IQ', 'JO', 'KG', 'KR', 'KW', 'KZ', 'LB', 'LY', 'MA', 'MX', 'MY', 'NP', 'OM', 'PS', 'QA', 'RU', 'SA', 'SG', 'TD', 'TN', 'TR', 'UA', 'US', 'UZ'], 'disc_number': 1, 'duration_ms': 209626, 'explicit': False, 'external_ids': {'isrc': 'USUM71609063'}, 'external_urls': {'spotify': 'https://open.spotify.com/track/3LuwzIAhAOPq0sArQwgxpW'}, 'href': 'https://api.spotify.com/v1/tracks/3LuwzIAhAOPq0sArQwgxpW', 'id': '3LuwzIAhAOPq0sArQwgxpW', 'is_local': False, 'name': 'Caroline', 'popularity': 42, 'preview_url': None, 'track_number': 3, 'type': 'track', 'uri': 'spotify:track:3LuwzIAhAOPq0sArQwgxpW'}, {'album': {'album_type': 'compilation', 'artists': [{'external_urls': {'spotify': 'https://open.spotify.com/artist/3Gm5F95VdRxW3mqCn8RPBJ'}, 'href': 'https://api.spotify.com/v1/artists/3Gm5F95VdRxW3mqCn8RPBJ', 'id': '3Gm5F95VdRxW3mqCn8RPBJ', 'name': 'Aminé', 'type': 'artist', 'uri': 'spotify:artist:3Gm5F95VdRxW3mqCn8RPBJ'}], 'available_markets': ['AE', 'AL', 'AR', 'AT', 'AU', 'BA', 'BE', 'BG', 'BH', 'BO', 'BR', 'BY', 'CA', 'CH', 'CI', 'CL', 'CM', 'CO', 'CR', 'CY', 'CZ', 'DE', 'DK', 'DO', 'DZ', 'EC', 'EE', 'EG', 'ES', 'FI', 'FR', 'GB', 'GH', 'GR', 'GT', 'HK', 'HN', 'HR', 'HU', 'ID', 'IE', 'IL', 'IN', 'IS', 'IT', 'JP', 'KE', 'KH', 'KR', 'KW', 'LB', 'LK', 'LT', 'LU', 'LV', 'MA', 'ME', 'MK', 'MT', 'MX', 'MY', 'NG', 'NI', 'NL', 'NO', 'NZ', 'OM', 'PA', 'PE', 'PH', 'PL', 'PT', 'PY', 'QA', 'RO', 'RS', 'RU', 'SA', 'SE', 'SG', 'SI', 'SK', 'SN', 'SV', 'TH', 'TN', 'TR', 'TT', 'TW', 'UA', 'US', 'UY', 'VE', 'VN', 'XK', 'ZA'], 'external_urls': {'spotify': 'https://open.spotify.com/album/3ei7SR4fbRT0dfs20tUsJ8'}, 'href': 'https://api.spotify.com/v1/albums/3ei7SR4fbRT0dfs20tUsJ8', 'id': '3ei7SR4fbRT0dfs20tUsJ8', 'images': [{'height': 640, 'url': 'https://i.scdn.co/image/ab67616d0000b2735fb7e414e0622b15d6939a8b', 'width': 640}, {'height': 300, 'url': 'https://i.scdn.co/image/ab67616d00001e025fb7e414e0622b15d6939a8b', 'width': 300}, {'height': 64, 'url': 'https://i.scdn.co/image/ab67616d000048515fb7e414e0622b15d6939a8b', 'width': 64}], 'name': 'MY BABY', 'release_date': '2021-05-14', 'release_date_precision': 'day', 'total_tracks': 6, 'type': 'album', 'uri': 'spotify:album:3ei7SR4fbRT0dfs20tUsJ8'}, 'artists': [{'external_urls': {'spotify': 'https://open.spotify.com/artist/3Gm5F95VdRxW3mqCn8RPBJ'}, 'href': 'https://api.spotify.com/v1/artists/3Gm5F95VdRxW3mqCn8RPBJ', 'id': '3Gm5F95VdRxW3mqCn8RPBJ', 'name': 'Aminé', 'type': 'artist', 'uri': 'spotify:artist:3Gm5F95VdRxW3mqCn8RPBJ'}], 'available_markets': ['AE', 'AL', 'AR', 'AT', 'AU', 'BA', 'BE', 'BG', 'BH', 'BO', 'BR', 'BY', 'CA', 'CH', 'CI', 'CL', 'CM', 'CO', 'CR', 'CY', 'CZ', 'DE', 'DK', 'DO', 'DZ', 'EC', 'EE', 'EG', 'ES', 'FI', 'FR', 'GB', 'GH', 'GR', 'GT', 'HK', 'HN', 'HR', 'HU', 'ID', 'IE', 'IL', 'IN', 'IS', 'IT', 'JP', 'KE', 'KH', 'KR', 'KW', 'LB', 'LK', 'LT', 'LU', 'LV', 'MA', 'ME', 'MK', 'MT', 'MX', 'MY', 'NG', 'NI', 'NL', 'NO', 'NZ', 'OM', 'PA', 'PE', 'PH', 'PL', 'PT', 'PY', 'QA', 'RO', 'RS', 'RU', 'SA', 'SE', 'SG', 'SI', 'SK', 'SN', 'SV', 'TH', 'TN', 'TR', 'TT', 'TW', 'UA', 'US', 'UY', 'VE', 'VN', 'XK', 'ZA'], 'disc_number': 1, 'duration_ms': 209640, 'explicit': True, 'external_ids': {'isrc': 'USCGH1697037'}, 'external_urls': {'spotify': 'https://open.spotify.com/track/2gl9Lebxz7VYQeAEVPpXxq'}, 'href': 'https://api.spotify.com/v1/tracks/2gl9Lebxz7VYQeAEVPpXxq', 'id': '2gl9Lebxz7VYQeAEVPpXxq', 'is_local': False, 'name': 'Caroline', 'popularity': 21, 'preview_url': None, 'track_number': 1, 'type': 'track', 'uri': 'spotify:track:2gl9Lebxz7VYQeAEVPpXxq'}, {'album': {'album_type': 'compilation', 'artists': [{'external_urls': {'spotify': 'https://open.spotify.com/artist/0LyfQWJT6nXafLPZqxe9Of'}, 'href': 'https://api.spotify.com/v1/artists/0LyfQWJT6nXafLPZqxe9Of', 'id': '0LyfQWJT6nXafLPZqxe9Of', 'name': 'Various Artists', 'type': 'artist', 'uri': 'spotify:artist:0LyfQWJT6nXafLPZqxe9Of'}], 'available_markets': ['AE', 'AL', 'AR', 'AT', 'AU', 'BA', 'BE', 'BG', 'BH', 'BO', 'BR', 'BY', 'CA', 'CH', 'CI', 'CL', 'CM', 'CO', 'CR', 'CY', 'CZ', 'DE', 'DK', 'DO', 'DZ', 'EC', 'EE', 'EG', 'ES', 'FI', 'FR', 'GB', 'GH', 'GR', 'GT', 'HK', 'HN', 'HR', 'HU', 'ID', 'IE', 'IL', 'IN', 'IS', 'IT', 'JP', 'KE', 'KH', 'KR', 'KW', 'LB', 'LK', 'LT', 'LU', 'LV', 'MA', 'ME', 'MK', 'MT', 'MX', 'MY', 'NG', 'NI', 'NL', 'NO', 'NZ', 'OM', 'PA', 'PE', 'PH', 'PL', 'PT', 'PY', 'QA', 'RO', 'RS', 'RU', 'SA', 'SE', 'SG', 'SI', 'SK', 'SN', 'SV', 'TH', 'TN', 'TR', 'TT', 'TW', 'UA', 'US', 'UY', 'VE', 'VN', 'XK', 'ZA'], 'external_urls': {'spotify': 'https://open.spotify.com/album/0VqWssy7SgoNsJuNKbp6Fg'}, 'href': 'https://api.spotify.com/v1/albums/0VqWssy7SgoNsJuNKbp6Fg', 'id': '0VqWssy7SgoNsJuNKbp6Fg', 'images': [{'height': 640, 'url': 'https://i.scdn.co/image/ab67616d0000b273f343a388177562ded70b6c3c', 'width': 640}, {'height': 300, 'url': 'https://i.scdn.co/image/ab67616d00001e02f343a388177562ded70b6c3c', 'width': 300}, {'height': 64, 'url': 'https://i.scdn.co/image/ab67616d00004851f343a388177562ded70b6c3c', 'width': 64}], 'name': 'Alt Rap', 'release_date': '2021-04-19', 'release_date_precision': 'day', 'total_tracks': 23, 'type': 'album', 'uri': 'spotify:album:0VqWssy7SgoNsJuNKbp6Fg'}, 'artists': [{'external_urls': {'spotify': 'https://open.spotify.com/artist/3Gm5F95VdRxW3mqCn8RPBJ'}, 'href': 'https://api.spotify.com/v1/artists/3Gm5F95VdRxW3mqCn8RPBJ', 'id': '3Gm5F95VdRxW3mqCn8RPBJ', 'name': 'Aminé', 'type': 'artist', 'uri': 'spotify:artist:3Gm5F95VdRxW3mqCn8RPBJ'}], 'available_markets': ['AE', 'AL', 'AR', 'AT', 'AU', 'BA', 'BE', 'BG', 'BH', 'BO', 'BR', 'BY', 'CA', 'CH', 'CI', 'CL', 'CM', 'CO', 'CR', 'CY', 'CZ', 'DE', 'DK', 'DO', 'DZ', 'EC', 'EE', 'EG', 'ES', 'FI', 'FR', 'GB', 'GH', 'GR', 'GT', 'HK', 'HN', 'HR', 'HU', 'ID', 'IE', 'IL', 'IN', 'IS', 'IT', 'JP', 'KE', 'KH', 'KR', 'KW', 'LB', 'LK', 'LT', 'LU', 'LV', 'MA', 'ME', 'MK', 'MT', 'MX', 'MY', 'NG', 'NI', 'NL', 'NO', 'NZ', 'OM', 'PA', 'PE', 'PH', 'PL', 'PT', 'PY', 'QA', 'RO', 'RS', 'RU', 'SA', 'SE', 'SG', 'SI', 'SK', 'SN', 'SV', 'TH', 'TN', 'TR', 'TT', 'TW', 'UA', 'US', 'UY', 'VE', 'VN', 'XK', 'ZA'], 'disc_number': 1, 'duration_ms': 209640, 'explicit': True, 'external_ids': {'isrc': 'USCGH1697037'}, 'external_urls': {'spotify': 'https://open.spotify.com/track/5kzmcGdamOq2EVY8qURe5h'}, 'href': 'https://api.spotify.com/v1/tracks/5kzmcGdamOq2EVY8qURe5h', 'id': '5kzmcGdamOq2EVY8qURe5h', 'is_local': False, 'name': 'Caroline', 'popularity': 22, 'preview_url': None, 'track_number': 2, 'type': 'track', 'uri': 'spotify:track:5kzmcGdamOq2EVY8qURe5h'}, {'album': {'album_type': 'compilation', 'artists': [{'external_urls': {'spotify': 'https://open.spotify.com/artist/0LyfQWJT6nXafLPZqxe9Of'}, 'href': 'https://api.spotify.com/v1/artists/0LyfQWJT6nXafLPZqxe9Of', 'id': '0LyfQWJT6nXafLPZqxe9Of', 'name': 'Various Artists', 'type': 'artist', 'uri': 'spotify:artist:0LyfQWJT6nXafLPZqxe9Of'}], 'available_markets': ['AD', 'AE', 'AG', 'AL', 'AM', 'AO', 'AR', 'AT', 'AU', 'AZ', 'BA', 'BB', 'BD', 'BE', 'BG', 'BH', 'BI', 'BJ', 'BO', 'BR', 'BS', 'BT', 'BW', 'BZ', 'CA', 'CD', 'CG', 'CH', 'CI', 'CL', 'CM', 'CO', 'CR', 'CV', 'CW', 'CY', 'CZ', 'DE', 'DJ', 'DK', 'DM', 'DO', 'DZ', 'EC', 'EE', 'EG', 'ES', 'FI', 'FJ', 'FM', 'FR', 'GA', 'GB', 'GD', 'GE', 'GH', 'GM', 'GN', 'GQ', 'GR', 'GT', 'GW', 'GY', 'HK', 'HN', 'HR', 'HT', 'HU', 'ID', 'IE', 'IL', 'IN', 'IQ', 'IS', 'IT', 'JM', 'JO', 'JP', 'KE', 'KG', 'KH', 'KI', 'KM', 'KN', 'KR', 'KW', 'KZ', 'LA', 'LB', 'LC', 'LI', 'LK', 'LR', 'LS', 'LT', 'LU', 'LV', 'LY', 'MA', 'MC', 'MD', 'ME', 'MG', 'MH', 'MK', 'ML', 'MN', 'MO', 'MR', 'MT', 'MU', 'MV', 'MW', 'MX', 'MY', 'MZ', 'NA', 'NE', 'NG', 'NI', 'NL', 'NO', 'NR', 'NZ', 'OM', 'PA', 'PE', 'PG', 'PH', 'PK', 'PL', 'PS', 'PT', 'PW', 'PY', 'QA', 'RO', 'RS', 'RU', 'RW', 'SA', 'SB', 'SC', 'SG', 'SI', 'SK', 'SL', 'SM', 'SN', 'SR', 'ST', 'SV', 'SZ', 'TD', 'TG', 'TH', 'TJ', 'TL', 'TN', 'TO', 'TR', 'TT', 'TV', 'TW', 'TZ', 'UA', 'UG', 'US', 'UY', 'VC', 'VE', 'VN', 'VU', 'WS', 'XK', 'ZM', 'ZW'], 'external_urls': {'spotify': 'https://open.spotify.com/album/2oXpgMarRwPXB2ezYftU9L'}, 'href': 'https://api.spotify.com/v1/albums/2oXpgMarRwPXB2ezYftU9L', 'id': '2oXpgMarRwPXB2ezYftU9L', 'images': [{'height': 640, 'url': 'https://i.scdn.co/image/ab67616d0000b2738c42cd66049561c0c66be902', 'width': 640}, {'height': 300, 'url': 'https://i.scdn.co/image/ab67616d00001e028c42cd66049561c0c66be902', 'width': 300}, {'height': 64, 'url': 'https://i.scdn.co/image/ab67616d000048518c42cd66049561c0c66be902', 'width': 64}], 'name': 'Unforgettable Hip Hop', 'release_date': '2017-09-01', 'release_date_precision': 'day', 'total_tracks': 30, 'type': 'album', 'uri': 'spotify:album:2oXpgMarRwPXB2ezYftU9L'}, 'artists': [{'external_urls': {'spotify': 'https://open.spotify.com/artist/3Gm5F95VdRxW3mqCn8RPBJ'}, 'href': 'https://api.spotify.com/v1/artists/3Gm5F95VdRxW3mqCn8RPBJ', 'id': '3Gm5F95VdRxW3mqCn8RPBJ', 'name': 'Aminé', 'type': 'artist', 'uri': 'spotify:artist:3Gm5F95VdRxW3mqCn8RPBJ'}], 'available_markets': ['AD', 'AE', 'AG', 'AL', 'AM', 'AO', 'AR', 'AT', 'AU', 'AZ', 'BA', 'BB', 'BD', 'BE', 'BG', 'BH', 'BI', 'BJ', 'BO', 'BR', 'BS', 'BT', 'BW', 'BZ', 'CA', 'CD', 'CG', 'CH', 'CI', 'CL', 'CM', 'CO', 'CR', 'CV', 'CW', 'CY', 'CZ', 'DE', 'DJ', 'DK', 'DM', 'DO', 'DZ', 'EC', 'EE', 'EG', 'ES', 'FI', 'FJ', 'FM', 'FR', 'GA', 'GB', 'GD', 'GE', 'GH', 'GM', 'GN', 'GQ', 'GR', 'GT', 'GW', 'GY', 'HK', 'HN', 'HR', 'HT', 'HU', 'ID', 'IE', 'IL', 'IN', 'IQ', 'IS', 'IT', 'JM', 'JO', 'JP', 'KE', 'KG', 'KH', 'KI', 'KM', 'KN', 'KR', 'KW', 'KZ', 'LA', 'LB', 'LC', 'LI', 'LK', 'LR', 'LS', 'LT', 'LU', 'LV', 'LY', 'MA', 'MC', 'MD', 'ME', 'MG', 'MH', 'MK', 'ML', 'MN', 'MO', 'MR', 'MT', 'MU', 'MV', 'MW', 'MX', 'MY', 'MZ', 'NA', 'NE', 'NG', 'NI', 'NL', 'NO', 'NR', 'NZ', 'OM', 'PA', 'PE', 'PG', 'PH', 'PK', 'PL', 'PS', 'PT', 'PW', 'PY', 'QA', 'RO', 'RS', 'RU', 'RW', 'SA', 'SB', 'SC', 'SG', 'SI', 'SK', 'SL', 'SM', 'SN', 'SR', 'ST', 'SV', 'SZ', 'TD', 'TG', 'TH', 'TJ', 'TL', 'TN', 'TO', 'TR', 'TT', 'TV', 'TW', 'TZ', 'UA', 'UG', 'US', 'UY', 'VC', 'VE', 'VN', 'VU', 'WS', 'XK', 'ZM', 'ZW'], 'disc_number': 1, 'duration_ms': 209746, 'explicit': True, 'external_ids': {'isrc': 'USCGH1697037'}, 'external_urls': {'spotify': 'https://open.spotify.com/track/5Eg6YC8JYFwx7L9BVN7d3Y'}, 'href': 'https://api.spotify.com/v1/tracks/5Eg6YC8JYFwx7L9BVN7d3Y', 'id': '5Eg6YC8JYFwx7L9BVN7d3Y', 'is_local': False, 'name': 'Caroline', 'popularity': 12, 'preview_url': None, 'track_number': 26, 'type': 'track', 'uri': 'spotify:track:5Eg6YC8JYFwx7L9BVN7d3Y'}, {'album': {'album_type': 'compilation', 'artists': [{'external_urls': {'spotify': 'https://open.spotify.com/artist/0LyfQWJT6nXafLPZqxe9Of'}, 'href': 'https://api.spotify.com/v1/artists/0LyfQWJT6nXafLPZqxe9Of', 'id': '0LyfQWJT6nXafLPZqxe9Of', 'name': 'Various Artists', 'type': 'artist', 'uri': 'spotify:artist:0LyfQWJT6nXafLPZqxe9Of'}], 'available_markets': ['AR', 'AT', 'AU', 'BE', 'BG', 'BO', 'BR', 'CA', 'CH', 'CL', 'CO', 'CR', 'CZ', 'DE', 'DK', 'EC', 'ES', 'FI', 'FR', 'GB', 'GR', 'GT', 'HK', 'HN', 'HU', 'ID', 'IE', 'IN', 'IT', 'JP', 'KR', 'MX', 'MY', 'NI', 'NL', 'NO', 'NZ', 'PA', 'PE', 'PH', 'PL', 'PT', 'PY', 'RO', 'RU', 'SE', 'SG', 'SK', 'SV', 'TH', 'TR', 'TW', 'US', 'UY', 'VE', 'ZA'], 'external_urls': {'spotify': 'https://open.spotify.com/album/5dLEOiOrXzXpU0SkCuodNC'}, 'href': 'https://api.spotify.com/v1/albums/5dLEOiOrXzXpU0SkCuodNC', 'id': '5dLEOiOrXzXpU0SkCuodNC', 'images': [{'height': 640, 'url': 'https://i.scdn.co/image/ab67616d0000b273cfc25e3e29f1667101944a5e', 'width': 640}, {'height': 300, 'url': 'https://i.scdn.co/image/ab67616d00001e02cfc25e3e29f1667101944a5e', 'width': 300}, {'height': 64, 'url': 'https://i.scdn.co/image/ab67616d00004851cfc25e3e29f1667101944a5e', 'width': 64}], 'name': 'Bad Bitch Bops', 'release_date': '2019-07-19', 'release_date_precision': 'day', 'total_tracks': 27, 'type': 'album', 'uri': 'spotify:album:5dLEOiOrXzXpU0SkCuodNC'}, 'artists': [{'external_urls': {'spotify': 'https://open.spotify.com/artist/3Gm5F95VdRxW3mqCn8RPBJ'}, 'href': 'https://api.spotify.com/v1/artists/3Gm5F95VdRxW3mqCn8RPBJ', 'id': '3Gm5F95VdRxW3mqCn8RPBJ', 'name': 'Aminé', 'type': 'artist', 'uri': 'spotify:artist:3Gm5F95VdRxW3mqCn8RPBJ'}], 'available_markets': ['AR', 'AT', 'AU', 'BE', 'BG', 'BO', 'BR', 'CA', 'CH', 'CL', 'CO', 'CR', 'CZ', 'DE', 'DK', 'EC', 'ES', 'FI', 'FR', 'GB', 'GR', 'GT', 'HK', 'HN', 'HU', 'ID', 'IE', 'IN', 'IT', 'JP', 'KR', 'MX', 'MY', 'NI', 'NL', 'NO', 'NZ', 'PA', 'PE', 'PH', 'PL', 'PT', 'PY', 'RO', 'RU', 'SE', 'SG', 'SK', 'SV', 'TH', 'TR', 'TW', 'US', 'UY', 'VE', 'ZA'], 'disc_number': 1, 'duration_ms': 209640, 'explicit': True, 'external_ids': {'isrc': 'USCGH1697037'}, 'external_urls': {'spotify': 'https://open.spotify.com/track/0VbzM6LFejJ7ChUzpavhGo'}, 'href': 'https://api.spotify.com/v1/tracks/0VbzM6LFejJ7ChUzpavhGo', 'id': '0VbzM6LFejJ7ChUzpavhGo', 'is_local': False, 'name': 'Caroline', 'popularity': 12, 'preview_url': None, 'track_number': 2, 'type': 'track', 'uri': 'spotify:track:0VbzM6LFejJ7ChUzpavhGo'}, {'album': {'album_type': 'compilation', 'artists': [{'external_urls': {'spotify': 'https://open.spotify.com/artist/0LyfQWJT6nXafLPZqxe9Of'}, 'href': 'https://api.spotify.com/v1/artists/0LyfQWJT6nXafLPZqxe9Of', 'id': '0LyfQWJT6nXafLPZqxe9Of', 'name': 'Various Artists', 'type': 'artist', 'uri': 'spotify:artist:0LyfQWJT6nXafLPZqxe9Of'}], 'available_markets': ['AD', 'AE', 'AG', 'AL', 'AM', 'AO', 'AR', 'AT', 'AU', 'AZ', 'BA', 'BB', 'BD', 'BE', 'BG', 'BH', 'BI', 'BJ', 'BO', 'BR', 'BS', 'BT', 'BW', 'BZ', 'CA', 'CD', 'CG', 'CH', 'CI', 'CL', 'CM', 'CO', 'CR', 'CV', 'CW', 'CY', 'CZ', 'DE', 'DJ', 'DK', 'DM', 'DO', 'DZ', 'EC', 'EE', 'EG', 'ES', 'FI', 'FJ', 'FM', 'FR', 'GA', 'GB', 'GD', 'GE', 'GH', 'GM', 'GN', 'GQ', 'GR', 'GT', 'GW', 'GY', 'HK', 'HN', 'HR', 'HT', 'HU', 'ID', 'IE', 'IL', 'IN', 'IQ', 'IS', 'IT', 'JM', 'JO', 'JP', 'KE', 'KG', 'KH', 'KI', 'KM', 'KN', 'KR', 'KW', 'KZ', 'LA', 'LB', 'LC', 'LI', 'LK', 'LR', 'LS', 'LT', 'LU', 'LV', 'LY', 'MA', 'MC', 'MD', 'ME', 'MG', 'MH', 'MK', 'ML', 'MN', 'MO', 'MR', 'MT', 'MU', 'MV', 'MW', 'MX', 'MY', 'MZ', 'NA', 'NE', 'NG', 'NI', 'NL', 'NO', 'NR', 'NZ', 'OM', 'PA', 'PE', 'PG', 'PH', 'PK', 'PL', 'PS', 'PT', 'PW', 'PY', 'QA', 'RO', 'RS', 'RU', 'RW', 'SA', 'SB', 'SC', 'SG', 'SI', 'SK', 'SL', 'SM', 'SN', 'SR', 'ST', 'SV', 'SZ', 'TD', 'TG', 'TH', 'TJ', 'TL', 'TN', 'TO', 'TR', 'TT', 'TV', 'TW', 'TZ', 'UA', 'UG', 'US', 'UY', 'VC', 'VE', 'VN', 'VU', 'WS', 'XK', 'ZM', 'ZW'], 'external_urls': {'spotify': 'https://open.spotify.com/album/197YY02cK93Yjrtpa1FrMY'}, 'href': 'https://api.spotify.com/v1/albums/197YY02cK93Yjrtpa1FrMY', 'id': '197YY02cK93Yjrtpa1FrMY', 'images': [{'height': 640, 'url': 'https://i.scdn.co/image/ab67616d0000b2735b11ac9a6b727e6e367a4dcd', 'width': 640}, {'height': 300, 'url': 'https://i.scdn.co/image/ab67616d00001e025b11ac9a6b727e6e367a4dcd', 'width': 300}, {'height': 64, 'url': 'https://i.scdn.co/image/ab67616d000048515b11ac9a6b727e6e367a4dcd', 'width': 64}], 'name': 'Best Of 2017', 'release_date': '2017-12-08', 'release_date_precision': 'day', 'total_tracks': 50, 'type': 'album', 'uri': 'spotify:album:197YY02cK93Yjrtpa1FrMY'}, 'artists': [{'external_urls': {'spotify': 'https://open.spotify.com/artist/3Gm5F95VdRxW3mqCn8RPBJ'}, 'href': 'https://api.spotify.com/v1/artists/3Gm5F95VdRxW3mqCn8RPBJ', 'id': '3Gm5F95VdRxW3mqCn8RPBJ', 'name': 'Aminé', 'type': 'artist', 'uri': 'spotify:artist:3Gm5F95VdRxW3mqCn8RPBJ'}], 'available_markets': ['AD', 'AE', 'AG', 'AL', 'AM', 'AO', 'AR', 'AT', 'AU', 'AZ', 'BA', 'BB', 'BD', 'BE', 'BG', 'BH', 'BI', 'BJ', 'BO', 'BR', 'BS', 'BT', 'BW', 'BZ', 'CA', 'CD', 'CG', 'CH', 'CI', 'CL', 'CM', 'CO', 'CR', 'CV', 'CW', 'CY', 'CZ', 'DE', 'DJ', 'DK', 'DM', 'DO', 'DZ', 'EC', 'EE', 'EG', 'ES', 'FI', 'FJ', 'FM', 'FR', 'GA', 'GB', 'GD', 'GE', 'GH', 'GM', 'GN', 'GQ', 'GR', 'GT', 'GW', 'GY', 'HK', 'HN', 'HR', 'HT', 'HU', 'ID', 'IE', 'IL', 'IN', 'IQ', 'IS', 'IT', 'JM', 'JO', 'JP', 'KE', 'KG', 'KH', 'KI', 'KM', 'KN', 'KR', 'KW', 'KZ', 'LA', 'LB', 'LC', 'LI', 'LK', 'LR', 'LS', 'LT', 'LU', 'LV', 'LY', 'MA', 'MC', 'MD', 'ME', 'MG', 'MH', 'MK', 'ML', 'MN', 'MO', 'MR', 'MT', 'MU', 'MV', 'MW', 'MX', 'MY', 'MZ', 'NA', 'NE', 'NG', 'NI', 'NL', 'NO', 'NR', 'NZ', 'OM', 'PA', 'PE', 'PG', 'PH', 'PK', 'PL', 'PS', 'PT', 'PW', 'PY', 'QA', 'RO', 'RS', 'RU', 'RW', 'SA', 'SB', 'SC', 'SG', 'SI', 'SK', 'SL', 'SM', 'SN', 'SR', 'ST', 'SV', 'SZ', 'TD', 'TG', 'TH', 'TJ', 'TL', 'TN', 'TO', 'TR', 'TT', 'TV', 'TW', 'TZ', 'UA', 'UG', 'US', 'UY', 'VC', 'VE', 'VN', 'VU', 'WS', 'XK', 'ZM', 'ZW'], 'disc_number': 1, 'duration_ms': 209746, 'explicit': True, 'external_ids': {'isrc': 'USCGH1697037'}, 'external_urls': {'spotify': 'https://open.spotify.com/track/5DF8aOiluuS6NanUp8teu0'}, 'href': 'https://api.spotify.com/v1/tracks/5DF8aOiluuS6NanUp8teu0', 'id': '5DF8aOiluuS6NanUp8teu0', 'is_local': False, 'name': 'Caroline', 'popularity': 12, 'preview_url': None, 'track_number': 39, 'type': 'track', 'uri': 'spotify:track:5DF8aOiluuS6NanUp8teu0'}, {'album': {'album_type': 'compilation', 'artists': [{'external_urls': {'spotify': 'https://open.spotify.com/artist/0LyfQWJT6nXafLPZqxe9Of'}, 'href': 'https://api.spotify.com/v1/artists/0LyfQWJT6nXafLPZqxe9Of', 'id': '0LyfQWJT6nXafLPZqxe9Of', 'name': 'Various Artists', 'type': 'artist', 'uri': 'spotify:artist:0LyfQWJT6nXafLPZqxe9Of'}], 'available_markets': ['AR', 'AT', 'AU', 'BE', 'BG', 'BO', 'BR', 'CA', 'CH', 'CL', 'CO', 'CR', 'CZ', 'DE', 'DK', 'EC', 'ES', 'FI', 'FR', 'GB', 'GR', 'GT', 'HK', 'HN', 'HU', 'ID', 'IE', 'IN', 'IT', 'JP', 'KR', 'MX', 'MY', 'NI', 'NL', 'NO', 'NZ', 'PA', 'PE', 'PH', 'PL', 'PT', 'PY', 'RO', 'RU', 'SE', 'SG', 'SK', 'SV', 'TH', 'TR', 'TW', 'US', 'UY', 'VE', 'ZA'], 'external_urls': {'spotify': 'https://open.spotify.com/album/0SZtagPyzayIfvFPieOa82'}, 'href': 'https://api.spotify.com/v1/albums/0SZtagPyzayIfvFPieOa82', 'id': '0SZtagPyzayIfvFPieOa82', 'images': [{'height': 640, 'url': 'https://i.scdn.co/image/ab67616d0000b273871a40608e1d1bdba5544c74', 'width': 640}, {'height': 300, 'url': 'https://i.scdn.co/image/ab67616d00001e02871a40608e1d1bdba5544c74', 'width': 300}, {'height': 64, 'url': 'https://i.scdn.co/image/ab67616d00004851871a40608e1d1bdba5544c74', 'width': 64}], 'name': 'Twerking', 'release_date': '2019-08-02', 'release_date_precision': 'day', 'total_tracks': 24, 'type': 'album', 'uri': 'spotify:album:0SZtagPyzayIfvFPieOa82'}, 'artists': [{'external_urls': {'spotify': 'https://open.spotify.com/artist/3Gm5F95VdRxW3mqCn8RPBJ'}, 'href': 'https://api.spotify.com/v1/artists/3Gm5F95VdRxW3mqCn8RPBJ', 'id': '3Gm5F95VdRxW3mqCn8RPBJ', 'name': 'Aminé', 'type': 'artist', 'uri': 'spotify:artist:3Gm5F95VdRxW3mqCn8RPBJ'}], 'available_markets': ['AR', 'AT', 'AU', 'BE', 'BG', 'BO', 'BR', 'CA', 'CH', 'CL', 'CO', 'CR', 'CZ', 'DE', 'DK', 'EC', 'ES', 'FI', 'FR', 'GB', 'GR', 'GT', 'HK', 'HN', 'HU', 'ID', 'IE', 'IN', 'IT', 'JP', 'KR', 'MX', 'MY', 'NI', 'NL', 'NO', 'NZ', 'PA', 'PE', 'PH', 'PL', 'PT', 'PY', 'RO', 'RU', 'SE', 'SG', 'SK', 'SV', 'TH', 'TR', 'TW', 'US', 'UY', 'VE', 'ZA'], 'disc_number': 1, 'duration_ms': 209640, 'explicit': True, 'external_ids': {'isrc': 'USCGH1697037'}, 'external_urls': {'spotify': 'https://open.spotify.com/track/2SYU195IRT3XyfWhWnn7kc'}, 'href': 'https://api.spotify.com/v1/tracks/2SYU195IRT3XyfWhWnn7kc', 'id': '2SYU195IRT3XyfWhWnn7kc', 'is_local': False, 'name': 'Caroline', 'popularity': 13, 'preview_url': None, 'track_number': 17, 'type': 'track', 'uri': 'spotify:track:2SYU195IRT3XyfWhWnn7kc'}, {'album': {'album_type': 'compilation', 'artists': [{'external_urls': {'spotify': 'https://open.spotify.com/artist/0LyfQWJT6nXafLPZqxe9Of'}, 'href': 'https://api.spotify.com/v1/artists/0LyfQWJT6nXafLPZqxe9Of', 'id': '0LyfQWJT6nXafLPZqxe9Of', 'name': 'Various Artists', 'type': 'artist', 'uri': 'spotify:artist:0LyfQWJT6nXafLPZqxe9Of'}], 'available_markets': ['AE', 'AL', 'AR', 'AT', 'AU', 'BA', 'BE', 'BG', 'BH', 'BO', 'BR', 'BY', 'CA', 'CH', 'CI', 'CL', 'CM', 'CO', 'CR', 'CY', 'CZ', 'DE', 'DK', 'DO', 'DZ', 'EC', 'EE', 'EG', 'ES', 'FI', 'FR', 'GB', 'GH', 'GR', 'GT', 'HK', 'HN', 'HR', 'HU', 'ID', 'IE', 'IL', 'IN', 'IS', 'IT', 'JP', 'KE', 'KH', 'KR', 'KW', 'LB', 'LK', 'LT', 'LU', 'LV', 'MA', 'ME', 'MK', 'MT', 'MX', 'MY', 'NG', 'NI', 'NL', 'NO', 'NZ', 'OM', 'PA', 'PE', 'PH', 'PL', 'PT', 'PY', 'QA', 'RO', 'RS', 'RU', 'SA', 'SE', 'SG', 'SI', 'SK', 'SN', 'SV', 'TH', 'TN', 'TR', 'TT', 'TW', 'UA', 'US', 'UY', 'VE', 'VN', 'XK', 'ZA'], 'external_urls': {'spotify': 'https://open.spotify.com/album/3SXvHph9eE5DuRUtArXYcj'}, 'href': 'https://api.spotify.com/v1/albums/3SXvHph9eE5DuRUtArXYcj', 'id': '3SXvHph9eE5DuRUtArXYcj', 'images': [{'height': 640, 'url': 'https://i.scdn.co/image/ab67616d0000b27376734ac5d18dd3bf06751b9f', 'width': 640}, {'height': 300, 'url': 'https://i.scdn.co/image/ab67616d00001e0276734ac5d18dd3bf06751b9f', 'width': 300}, {'height': 64, 'url': 'https://i.scdn.co/image/ab67616d0000485176734ac5d18dd3bf06751b9f', 'width': 64}], 'name': 'Hip Hop Hits 2021', 'release_date': '2021-06-07', 'release_date_precision': 'day', 'total_tracks': 73, 'type': 'album', 'uri': 'spotify:album:3SXvHph9eE5DuRUtArXYcj'}, 'artists': [{'external_urls': {'spotify': 'https://open.spotify.com/artist/3Gm5F95VdRxW3mqCn8RPBJ'}, 'href': 'https://api.spotify.com/v1/artists/3Gm5F95VdRxW3mqCn8RPBJ', 'id': '3Gm5F95VdRxW3mqCn8RPBJ', 'name': 'Aminé', 'type': 'artist', 'uri': 'spotify:artist:3Gm5F95VdRxW3mqCn8RPBJ'}], 'available_markets': ['AE', 'AL', 'AR', 'AT', 'AU', 'BA', 'BE', 'BG', 'BH', 'BO', 'BR', 'BY', 'CA', 'CH', 'CI', 'CL', 'CM', 'CO', 'CR', 'CY', 'CZ', 'DE', 'DK', 'DO', 'DZ', 'EC', 'EE', 'EG', 'ES', 'FI', 'FR', 'GB', 'GH', 'GR', 'GT', 'HK', 'HN', 'HR', 'HU', 'ID', 'IE', 'IL', 'IN', 'IS', 'IT', 'JP', 'KE', 'KH', 'KR', 'KW', 'LB', 'LK', 'LT', 'LU', 'LV', 'MA', 'ME', 'MK', 'MT', 'MX', 'MY', 'NG', 'NI', 'NL', 'NO', 'NZ', 'OM', 'PA', 'PE', 'PH', 'PL', 'PT', 'PY', 'QA', 'RO', 'RS', 'RU', 'SA', 'SE', 'SG', 'SI', 'SK', 'SN', 'SV', 'TH', 'TN', 'TR', 'TT', 'TW', 'UA', 'US', 'UY', 'VE', 'VN', 'XK', 'ZA'], 'disc_number': 1, 'duration_ms': 209640, 'explicit': True, 'external_ids': {'isrc': 'USCGH1697037'}, 'external_urls': {'spotify': 'https://open.spotify.com/track/1tjSVCSpx0kynu0DcbwWLp'}, 'href': 'https://api.spotify.com/v1/tracks/1tjSVCSpx0kynu0DcbwWLp', 'id': '1tjSVCSpx0kynu0DcbwWLp', 'is_local': False, 'name': 'Caroline', 'popularity': 12, 'preview_url': None, 'track_number': 21, 'type': 'track', 'uri': 'spotify:track:1tjSVCSpx0kynu0DcbwWLp'}, {'album': {'album_type': 'compilation', 'artists': [{'external_urls': {'spotify': 'https://open.spotify.com/artist/0LyfQWJT6nXafLPZqxe9Of'}, 'href': 'https://api.spotify.com/v1/artists/0LyfQWJT6nXafLPZqxe9Of', 'id': '0LyfQWJT6nXafLPZqxe9Of', 'name': 'Various Artists', 'type': 'artist', 'uri': 'spotify:artist:0LyfQWJT6nXafLPZqxe9Of'}], 'available_markets': ['AE', 'AL', 'AR', 'AT', 'AU', 'BA', 'BE', 'BG', 'BH', 'BO', 'BR', 'BY', 'CA', 'CH', 'CI', 'CL', 'CM', 'CO', 'CR', 'CY', 'CZ', 'DE', 'DK', 'DO', 'DZ', 'EC', 'EE', 'EG', 'ES', 'FI', 'FR', 'GB', 'GH', 'GR', 'GT', 'HK', 'HN', 'HR', 'HU', 'ID', 'IE', 'IL', 'IN', 'IS', 'IT', 'JP', 'KE', 'KH', 'KR', 'KW', 'LB', 'LK', 'LT', 'LU', 'LV', 'MA', 'ME', 'MK', 'MT', 'MX', 'MY', 'NG', 'NI', 'NL', 'NO', 'NZ', 'OM', 'PA', 'PE', 'PH', 'PL', 'PT', 'PY', 'QA', 'RO', 'RS', 'RU', 'SA', 'SE', 'SG', 'SI', 'SK', 'SN', 'SV', 'TH', 'TN', 'TR', 'TT', 'TW', 'UA', 'US', 'UY', 'VE', 'VN', 'XK', 'ZA'], 'external_urls': {'spotify': 'https://open.spotify.com/album/09ag8qFTYUfer0m2VtnV0S'}, 'href': 'https://api.spotify.com/v1/albums/09ag8qFTYUfer0m2VtnV0S', 'id': '09ag8qFTYUfer0m2VtnV0S', 'images': [{'height': 640, 'url': 'https://i.scdn.co/image/ab67616d0000b2736327a2f070f9afc966e12bb8', 'width': 640}, {'height': 300, 'url': 'https://i.scdn.co/image/ab67616d00001e026327a2f070f9afc966e12bb8', 'width': 300}, {'height': 64, 'url': 'https://i.scdn.co/image/ab67616d000048516327a2f070f9afc966e12bb8', 'width': 64}], 'name': 'Hip Hop Hits', 'release_date': '2021-05-02', 'release_date_precision': 'day', 'total_tracks': 22, 'type': 'album', 'uri': 'spotify:album:09ag8qFTYUfer0m2VtnV0S'}, 'artists': [{'external_urls': {'spotify': 'https://open.spotify.com/artist/3Gm5F95VdRxW3mqCn8RPBJ'}, 'href': 'https://api.spotify.com/v1/artists/3Gm5F95VdRxW3mqCn8RPBJ', 'id': '3Gm5F95VdRxW3mqCn8RPBJ', 'name': 'Aminé', 'type': 'artist', 'uri': 'spotify:artist:3Gm5F95VdRxW3mqCn8RPBJ'}], 'available_markets': ['AE', 'AL', 'AR', 'AT', 'AU', 'BA', 'BE', 'BG', 'BH', 'BO', 'BR', 'BY', 'CA', 'CH', 'CI', 'CL', 'CM', 'CO', 'CR', 'CY', 'CZ', 'DE', 'DK', 'DO', 'DZ', 'EC', 'EE', 'EG', 'ES', 'FI', 'FR', 'GB', 'GH', 'GR', 'GT', 'HK', 'HN', 'HR', 'HU', 'ID', 'IE', 'IL', 'IN', 'IS', 'IT', 'JP', 'KE', 'KH', 'KR', 'KW', 'LB', 'LK', 'LT', 'LU', 'LV', 'MA', 'ME', 'MK', 'MT', 'MX', 'MY', 'NG', 'NI', 'NL', 'NO', 'NZ', 'OM', 'PA', 'PE', 'PH', 'PL', 'PT', 'PY', 'QA', 'RO', 'RS', 'RU', 'SA', 'SE', 'SG', 'SI', 'SK', 'SN', 'SV', 'TH', 'TN', 'TR', 'TT', 'TW', 'UA', 'US', 'UY', 'VE', 'VN', 'XK', 'ZA'], 'disc_number': 1, 'duration_ms': 209640, 'explicit': True, 'external_ids': {'isrc': 'USCGH1697037'}, 'external_urls': {'spotify': 'https://open.spotify.com/track/43FnbBYWaiH3iQTsn6Gf6f'}, 'href': 'https://api.spotify.com/v1/tracks/43FnbBYWaiH3iQTsn6Gf6f', 'id': '43FnbBYWaiH3iQTsn6Gf6f', 'is_local': False, 'name': 'Caroline', 'popularity': 16, 'preview_url': None, 'track_number': 17, 'type': 'track', 'uri': 'spotify:track:43FnbBYWaiH3iQTsn6Gf6f'}, {'album': {'album_type': 'compilation', 'artists': [{'external_urls': {'spotify': 'https://open.spotify.com/artist/0LyfQWJT6nXafLPZqxe9Of'}, 'href': 'https://api.spotify.com/v1/artists/0LyfQWJT6nXafLPZqxe9Of', 'id': '0LyfQWJT6nXafLPZqxe9Of', 'name': 'Various Artists', 'type': 'artist', 'uri': 'spotify:artist:0LyfQWJT6nXafLPZqxe9Of'}], 'available_markets': ['AE', 'AR', 'AT', 'AU', 'BE', 'BG', 'BH', 'BO', 'BR', 'BY', 'CA', 'CH', 'CI', 'CL', 'CO', 'CR', 'CY', 'CZ', 'DE', 'DK', 'DO', 'DZ', 'EC', 'EE', 'EG', 'ES', 'FI', 'FR', 'GB', 'GH', 'GR', 'GT', 'HK', 'HN', 'HR', 'HU', 'ID', 'IE', 'IL', 'IN', 'IS', 'IT', 'JP', 'KE', 'KH', 'KR', 'KW', 'LB', 'LK', 'LT', 'LU', 'LV', 'MA', 'MT', 'MX', 'MY', 'NG', 'NI', 'NL', 'NO', 'NZ', 'OM', 'PA', 'PE', 'PH', 'PL', 'PT', 'PY', 'QA', 'RO', 'RS', 'RU', 'SA', 'SE', 'SG', 'SI', 'SK', 'SV', 'TH', 'TR', 'TT', 'TW', 'UA', 'US', 'UY', 'VE', 'VN', 'XK', 'ZA'], 'external_urls': {'spotify': 'https://open.spotify.com/album/1EUXaU3zfMgR8eI1xRDVKk'}, 'href': 'https://api.spotify.com/v1/albums/1EUXaU3zfMgR8eI1xRDVKk', 'id': '1EUXaU3zfMgR8eI1xRDVKk', 'images': [{'height': 640, 'url': 'https://i.scdn.co/image/ab67616d0000b273da3e1ee4513ec7c2a3f5bcbf', 'width': 640}, {'height': 300, 'url': 'https://i.scdn.co/image/ab67616d00001e02da3e1ee4513ec7c2a3f5bcbf', 'width': 300}, {'height': 64, 'url': 'https://i.scdn.co/image/ab67616d00004851da3e1ee4513ec7c2a3f5bcbf', 'width': 64}], 'name': 'Pregame Songs', 'release_date': '2019-12-27', 'release_date_precision': 'day', 'total_tracks': 22, 'type': 'album', 'uri': 'spotify:album:1EUXaU3zfMgR8eI1xRDVKk'}, 'artists': [{'external_urls': {'spotify': 'https://open.spotify.com/artist/3Gm5F95VdRxW3mqCn8RPBJ'}, 'href': 'https://api.spotify.com/v1/artists/3Gm5F95VdRxW3mqCn8RPBJ', 'id': '3Gm5F95VdRxW3mqCn8RPBJ', 'name': 'Aminé', 'type': 'artist', 'uri': 'spotify:artist:3Gm5F95VdRxW3mqCn8RPBJ'}], 'available_markets': ['AE', 'AR', 'AT', 'AU', 'BE', 'BG', 'BH', 'BO', 'BR', 'BY', 'CA', 'CH', 'CI', 'CL', 'CO', 'CR', 'CY', 'CZ', 'DE', 'DK', 'DO', 'DZ', 'EC', 'EE', 'EG', 'ES', 'FI', 'FR', 'GB', 'GH', 'GR', 'GT', 'HK', 'HN', 'HR', 'HU', 'ID', 'IE', 'IL', 'IN', 'IS', 'IT', 'JP', 'KE', 'KH', 'KR', 'KW', 'LB', 'LK', 'LT', 'LU', 'LV', 'MA', 'MT', 'MX', 'MY', 'NG', 'NI', 'NL', 'NO', 'NZ', 'OM', 'PA', 'PE', 'PH', 'PL', 'PT', 'PY', 'QA', 'RO', 'RS', 'RU', 'SA', 'SE', 'SG', 'SI', 'SK', 'SV', 'TH', 'TR', 'TT', 'TW', 'UA', 'US', 'UY', 'VE', 'VN', 'XK', 'ZA'], 'disc_number': 1, 'duration_ms': 209746, 'explicit': True, 'external_ids': {'isrc': 'USCGH1697037'}, 'external_urls': {'spotify': 'https://open.spotify.com/track/1T5mzwVqL1DKMZHSXFkol9'}, 'href': 'https://api.spotify.com/v1/tracks/1T5mzwVqL1DKMZHSXFkol9', 'id': '1T5mzwVqL1DKMZHSXFkol9', 'is_local': False, 'name': 'Caroline', 'popularity': 7, 'preview_url': None, 'track_number': 9, 'type': 'track', 'uri': 'spotify:track:1T5mzwVqL1DKMZHSXFkol9'}, {'album': {'album_type': 'compilation', 'artists': [{'external_urls': {'spotify': 'https://open.spotify.com/artist/0LyfQWJT6nXafLPZqxe9Of'}, 'href': 'https://api.spotify.com/v1/artists/0LyfQWJT6nXafLPZqxe9Of', 'id': '0LyfQWJT6nXafLPZqxe9Of', 'name': 'Various Artists', 'type': 'artist', 'uri': 'spotify:artist:0LyfQWJT6nXafLPZqxe9Of'}], 'available_markets': ['AE', 'AL', 'AR', 'AT', 'AU', 'BA', 'BE', 'BG', 'BH', 'BO', 'BR', 'BY', 'CA', 'CH', 'CI', 'CL', 'CM', 'CO', 'CR', 'CY', 'CZ', 'DE', 'DK', 'DO', 'DZ', 'EC', 'EE', 'EG', 'ES', 'FI', 'FR', 'GB', 'GH', 'GR', 'GT', 'HK', 'HN', 'HR', 'HU', 'ID', 'IE', 'IL', 'IN', 'IS', 'IT', 'JP', 'KE', 'KH', 'KR', 'KW', 'LB', 'LK', 'LT', 'LU', 'LV', 'MA', 'ME', 'MK', 'MT', 'MX', 'MY', 'NG', 'NI', 'NL', 'NO', 'NZ', 'OM', 'PA', 'PE', 'PH', 'PL', 'PT', 'PY', 'QA', 'RO', 'RS', 'RU', 'SA', 'SE', 'SG', 'SI', 'SK', 'SN', 'SV', 'TH', 'TN', 'TR', 'TT', 'TW', 'UA', 'US', 'UY', 'VE', 'VN', 'XK', 'ZA'], 'external_urls': {'spotify': 'https://open.spotify.com/album/7yedrKMbeQKpx9wlJCMcig'}, 'href': 'https://api.spotify.com/v1/albums/7yedrKMbeQKpx9wlJCMcig', 'id': '7yedrKMbeQKpx9wlJCMcig', 'images': [{'height': 640, 'url': 'https://i.scdn.co/image/ab67616d0000b273c6d76556f783e637e83afda8', 'width': 640}, {'height': 300, 'url': 'https://i.scdn.co/image/ab67616d00001e02c6d76556f783e637e83afda8', 'width': 300}, {'height': 64, 'url': 'https://i.scdn.co/image/ab67616d00004851c6d76556f783e637e83afda8', 'width': 64}], 'name': 'high vibrational music', 'release_date': '2021-05-21', 'release_date_precision': 'day', 'total_tracks': 25, 'type': 'album', 'uri': 'spotify:album:7yedrKMbeQKpx9wlJCMcig'}, 'artists': [{'external_urls': {'spotify': 'https://open.spotify.com/artist/3Gm5F95VdRxW3mqCn8RPBJ'}, 'href': 'https://api.spotify.com/v1/artists/3Gm5F95VdRxW3mqCn8RPBJ', 'id': '3Gm5F95VdRxW3mqCn8RPBJ', 'name': 'Aminé', 'type': 'artist', 'uri': 'spotify:artist:3Gm5F95VdRxW3mqCn8RPBJ'}], 'available_markets': ['AE', 'AL', 'AR', 'AT', 'AU', 'BA', 'BE', 'BG', 'BH', 'BO', 'BR', 'BY', 'CA', 'CH', 'CI', 'CL', 'CM', 'CO', 'CR', 'CY', 'CZ', 'DE', 'DK', 'DO', 'DZ', 'EC', 'EE', 'EG', 'ES', 'FI', 'FR', 'GB', 'GH', 'GR', 'GT', 'HK', 'HN', 'HR', 'HU', 'ID', 'IE', 'IL', 'IN', 'IS', 'IT', 'JP', 'KE', 'KH', 'KR', 'KW', 'LB', 'LK', 'LT', 'LU', 'LV', 'MA', 'ME', 'MK', 'MT', 'MX', 'MY', 'NG', 'NI', 'NL', 'NO', 'NZ', 'OM', 'PA', 'PE', 'PH', 'PL', 'PT', 'PY', 'QA', 'RO', 'RS', 'RU', 'SA', 'SE', 'SG', 'SI', 'SK', 'SN', 'SV', 'TH', 'TN', 'TR', 'TT', 'TW', 'UA', 'US', 'UY', 'VE', 'VN', 'XK', 'ZA'], 'disc_number': 1, 'duration_ms': 209640, 'explicit': True, 'external_ids': {'isrc': 'USCGH1697037'}, 'external_urls': {'spotify': 'https://open.spotify.com/track/15FEf9TYk8rHZH611zxG6r'}, 'href': 'https://api.spotify.com/v1/tracks/15FEf9TYk8rHZH611zxG6r', 'id': '15FEf9TYk8rHZH611zxG6r', 'is_local': False, 'name': 'Caroline', 'popularity': 12, 'preview_url': None, 'track_number': 18, 'type': 'track', 'uri': 'spotify:track:15FEf9TYk8rHZH611zxG6r'}, {'album': {'album_type': 'compilation', 'artists': [{'external_urls': {'spotify': 'https://open.spotify.com/artist/0LyfQWJT6nXafLPZqxe9Of'}, 'href': 'https://api.spotify.com/v1/artists/0LyfQWJT6nXafLPZqxe9Of', 'id': '0LyfQWJT6nXafLPZqxe9Of', 'name': 'Various Artists', 'type': 'artist', 'uri': 'spotify:artist:0LyfQWJT6nXafLPZqxe9Of'}], 'available_markets': ['AE', 'AR', 'AT', 'AU', 'BE', 'BG', 'BH', 'BO', 'BR', 'BY', 'CA', 'CH', 'CI', 'CL', 'CO', 'CR', 'CY', 'CZ', 'DE', 'DK', 'DO', 'DZ', 'EC', 'EE', 'EG', 'ES', 'FI', 'FR', 'GB', 'GH', 'GR', 'GT', 'HK', 'HN', 'HR', 'HU', 'ID', 'IE', 'IL', 'IN', 'IS', 'IT', 'JP', 'KE', 'KH', 'KR', 'KW', 'LB', 'LK', 'LT', 'LU', 'LV', 'MA', 'MT', 'MX', 'MY', 'NG', 'NI', 'NL', 'NO', 'NZ', 'OM', 'PA', 'PE', 'PH', 'PL', 'PT', 'PY', 'QA', 'RO', 'RS', 'RU', 'SA', 'SE', 'SG', 'SI', 'SK', 'SV', 'TH', 'TR', 'TT', 'TW', 'UA', 'US', 'UY', 'VE', 'VN', 'XK', 'ZA'], 'external_urls': {'spotify': 'https://open.spotify.com/album/3XJ21gAIar355Bortcf9th'}, 'href': 'https://api.spotify.com/v1/albums/3XJ21gAIar355Bortcf9th', 'id': '3XJ21gAIar355Bortcf9th', 'images': [{'height': 640, 'url': 'https://i.scdn.co/image/ab67616d0000b27377db1bc8ad3a35c360daadd8', 'width': 640}, {'height': 300, 'url': 'https://i.scdn.co/image/ab67616d00001e0277db1bc8ad3a35c360daadd8', 'width': 300}, {'height': 64, 'url': 'https://i.scdn.co/image/ab67616d0000485177db1bc8ad3a35c360daadd8', 'width': 64}], 'name': 'Strip Club Vibes', 'release_date': '2020-03-13', 'release_date_precision': 'day', 'total_tracks': 21, 'type': 'album', 'uri': 'spotify:album:3XJ21gAIar355Bortcf9th'}, 'artists': [{'external_urls': {'spotify': 'https://open.spotify.com/artist/3Gm5F95VdRxW3mqCn8RPBJ'}, 'href': 'https://api.spotify.com/v1/artists/3Gm5F95VdRxW3mqCn8RPBJ', 'id': '3Gm5F95VdRxW3mqCn8RPBJ', 'name': 'Aminé', 'type': 'artist', 'uri': 'spotify:artist:3Gm5F95VdRxW3mqCn8RPBJ'}], 'available_markets': ['AE', 'AR', 'AT', 'AU', 'BE', 'BG', 'BH', 'BO', 'BR', 'BY', 'CA', 'CH', 'CI', 'CL', 'CO', 'CR', 'CY', 'CZ', 'DE', 'DK', 'DO', 'DZ', 'EC', 'EE', 'EG', 'ES', 'FI', 'FR', 'GB', 'GH', 'GR', 'GT', 'HK', 'HN', 'HR', 'HU', 'ID', 'IE', 'IL', 'IN', 'IS', 'IT', 'JP', 'KE', 'KH', 'KR', 'KW', 'LB', 'LK', 'LT', 'LU', 'LV', 'MA', 'MT', 'MX', 'MY', 'NG', 'NI', 'NL', 'NO', 'NZ', 'OM', 'PA', 'PE', 'PH', 'PL', 'PT', 'PY', 'QA', 'RO', 'RS', 'RU', 'SA', 'SE', 'SG', 'SI', 'SK', 'SV', 'TH', 'TR', 'TT', 'TW', 'UA', 'US', 'UY', 'VE', 'VN', 'XK', 'ZA'], 'disc_number': 1, 'duration_ms': 209640, 'explicit': True, 'external_ids': {'isrc': 'USCGH1697037'}, 'external_urls': {'spotify': 'https://open.spotify.com/track/4xlIY3IIgzopaQ6pDSO4HV'}, 'href': 'https://api.spotify.com/v1/tracks/4xlIY3IIgzopaQ6pDSO4HV', 'id': '4xlIY3IIgzopaQ6pDSO4HV', 'is_local': False, 'name': 'Caroline', 'popularity': 8, 'preview_url': None, 'track_number': 18, 'type': 'track', 'uri': 'spotify:track:4xlIY3IIgzopaQ6pDSO4HV'}, {'album': {'album_type': 'compilation', 'artists': [{'external_urls': {'spotify': 'https://open.spotify.com/artist/0LyfQWJT6nXafLPZqxe9Of'}, 'href': 'https://api.spotify.com/v1/artists/0LyfQWJT6nXafLPZqxe9Of', 'id': '0LyfQWJT6nXafLPZqxe9Of', 'name': 'Various Artists', 'type': 'artist', 'uri': 'spotify:artist:0LyfQWJT6nXafLPZqxe9Of'}], 'available_markets': ['AR', 'AT', 'AU', 'BE', 'BG', 'BO', 'BR', 'CA', 'CH', 'CL', 'CO', 'CR', 'CZ', 'DE', 'DK', 'EC', 'ES', 'FI', 'FR', 'GB', 'GR', 'GT', 'HK', 'HN', 'HU', 'ID', 'IE', 'IN', 'IT', 'JP', 'KR', 'MX', 'MY', 'NI', 'NL', 'NO', 'NZ', 'PA', 'PE', 'PH', 'PL', 'PT', 'PY', 'RO', 'RU', 'SE', 'SG', 'SK', 'SV', 'TH', 'TR', 'TW', 'US', 'UY', 'VE', 'ZA'], 'external_urls': {'spotify': 'https://open.spotify.com/album/6jnLjx7wv7kQzpbmmSSaKF'}, 'href': 'https://api.spotify.com/v1/albums/6jnLjx7wv7kQzpbmmSSaKF', 'id': '6jnLjx7wv7kQzpbmmSSaKF', 'images': [{'height': 640, 'url': 'https://i.scdn.co/image/ab67616d0000b273e067c778b83bd88ada83e91a', 'width': 640}, {'height': 300, 'url': 'https://i.scdn.co/image/ab67616d00001e02e067c778b83bd88ada83e91a', 'width': 300}, {'height': 64, 'url': 'https://i.scdn.co/image/ab67616d00004851e067c778b83bd88ada83e91a', 'width': 64}], 'name': 'Frat Party', 'release_date': '2019-08-09', 'release_date_precision': 'day', 'total_tracks': 25, 'type': 'album', 'uri': 'spotify:album:6jnLjx7wv7kQzpbmmSSaKF'}, 'artists': [{'external_urls': {'spotify': 'https://open.spotify.com/artist/3Gm5F95VdRxW3mqCn8RPBJ'}, 'href': 'https://api.spotify.com/v1/artists/3Gm5F95VdRxW3mqCn8RPBJ', 'id': '3Gm5F95VdRxW3mqCn8RPBJ', 'name': 'Aminé', 'type': 'artist', 'uri': 'spotify:artist:3Gm5F95VdRxW3mqCn8RPBJ'}], 'available_markets': ['AR', 'AT', 'AU', 'BE', 'BG', 'BO', 'BR', 'CA', 'CH', 'CL', 'CO', 'CR', 'CZ', 'DE', 'DK', 'EC', 'ES', 'FI', 'FR', 'GB', 'GR', 'GT', 'HK', 'HN', 'HU', 'ID', 'IE', 'IN', 'IT', 'JP', 'KR', 'MX', 'MY', 'NI', 'NL', 'NO', 'NZ', 'PA', 'PE', 'PH', 'PL', 'PT', 'PY', 'RO', 'RU', 'SE', 'SG', 'SK', 'SV', 'TH', 'TR', 'TW', 'US', 'UY', 'VE', 'ZA'], 'disc_number': 1, 'duration_ms': 209640, 'explicit': True, 'external_ids': {'isrc': 'USCGH1697037'}, 'external_urls': {'spotify': 'https://open.spotify.com/track/0dOWKXa19tS7bA4UnWV50D'}, 'href': 'https://api.spotify.com/v1/tracks/0dOWKXa19tS7bA4UnWV50D', 'id': '0dOWKXa19tS7bA4UnWV50D', 'is_local': False, 'name': 'Caroline', 'popularity': 7, 'preview_url': None, 'track_number': 15, 'type': 'track', 'uri': 'spotify:track:0dOWKXa19tS7bA4UnWV50D'}, {'album': {'album_type': 'compilation', 'artists': [{'external_urls': {'spotify': 'https://open.spotify.com/artist/0LyfQWJT6nXafLPZqxe9Of'}, 'href': 'https://api.spotify.com/v1/artists/0LyfQWJT6nXafLPZqxe9Of', 'id': '0LyfQWJT6nXafLPZqxe9Of', 'name': 'Various Artists', 'type': 'artist', 'uri': 'spotify:artist:0LyfQWJT6nXafLPZqxe9Of'}], 'available_markets': ['AE', 'AL', 'AR', 'AT', 'AU', 'BA', 'BE', 'BG', 'BH', 'BO', 'BR', 'BY', 'CA', 'CH', 'CI', 'CL', 'CM', 'CO', 'CR', 'CY', 'CZ', 'DE', 'DK', 'DO', 'DZ', 'EC', 'EE', 'EG', 'ES', 'FI', 'FR', 'GB', 'GH', 'GR', 'GT', 'HK', 'HN', 'HR', 'HU', 'ID', 'IE', 'IL', 'IN', 'IS', 'IT', 'JP', 'KE', 'KH', 'KR', 'KW', 'LB', 'LK', 'LT', 'LU', 'LV', 'MA', 'ME', 'MK', 'MT', 'MX', 'MY', 'NG', 'NI', 'NL', 'NO', 'NZ', 'OM', 'PA', 'PE', 'PH', 'PL', 'PT', 'PY', 'QA', 'RO', 'RS', 'RU', 'SA', 'SE', 'SG', 'SI', 'SK', 'SN', 'SV', 'TH', 'TN', 'TR', 'TT', 'TW', 'UA', 'US', 'UY', 'VE', 'VN', 'XK', 'ZA'], 'external_urls': {'spotify': 'https://open.spotify.com/album/5hiMyqs6nWPXQNFNAxs2gp'}, 'href': 'https://api.spotify.com/v1/albums/5hiMyqs6nWPXQNFNAxs2gp', 'id': '5hiMyqs6nWPXQNFNAxs2gp', 'images': [{'height': 640, 'url': 'https://i.scdn.co/image/ab67616d0000b2731ecaf5a4f6a1f685f5353072', 'width': 640}, {'height': 300, 'url': 'https://i.scdn.co/image/ab67616d00001e021ecaf5a4f6a1f685f5353072', 'width': 300}, {'height': 64, 'url': 'https://i.scdn.co/image/ab67616d000048511ecaf5a4f6a1f685f5353072', 'width': 64}], 'name': 'Trending Hits Belgium 2021', 'release_date': '2021-05-25', 'release_date_precision': 'day', 'total_tracks': 40, 'type': 'album', 'uri': 'spotify:album:5hiMyqs6nWPXQNFNAxs2gp'}, 'artists': [{'external_urls': {'spotify': 'https://open.spotify.com/artist/3Gm5F95VdRxW3mqCn8RPBJ'}, 'href': 'https://api.spotify.com/v1/artists/3Gm5F95VdRxW3mqCn8RPBJ', 'id': '3Gm5F95VdRxW3mqCn8RPBJ', 'name': 'Aminé', 'type': 'artist', 'uri': 'spotify:artist:3Gm5F95VdRxW3mqCn8RPBJ'}], 'available_markets': ['AE', 'AL', 'AR', 'AT', 'AU', 'BA', 'BE', 'BG', 'BH', 'BO', 'BR', 'BY', 'CA', 'CH', 'CI', 'CL', 'CM', 'CO', 'CR', 'CY', 'CZ', 'DE', 'DK', 'DO', 'DZ', 'EC', 'EE', 'EG', 'ES', 'FI', 'FR', 'GB', 'GH', 'GR', 'GT', 'HK', 'HN', 'HR', 'HU', 'ID', 'IE', 'IL', 'IN', 'IS', 'IT', 'JP', 'KE', 'KH', 'KR', 'KW', 'LB', 'LK', 'LT', 'LU', 'LV', 'MA', 'ME', 'MK', 'MT', 'MX', 'MY', 'NG', 'NI', 'NL', 'NO', 'NZ', 'OM', 'PA', 'PE', 'PH', 'PL', 'PT', 'PY', 'QA', 'RO', 'RS', 'RU', 'SA', 'SE', 'SG', 'SI', 'SK', 'SN', 'SV', 'TH', 'TN', 'TR', 'TT', 'TW', 'UA', 'US', 'UY', 'VE', 'VN', 'XK', 'ZA'], 'disc_number': 1, 'duration_ms': 209640, 'explicit': True, 'external_ids': {'isrc': 'USCGH1697037'}, 'external_urls': {'spotify': 'https://open.spotify.com/track/1euIGjR8WoLKLaZDoZtFgP'}, 'href': 'https://api.spotify.com/v1/tracks/1euIGjR8WoLKLaZDoZtFgP', 'id': '1euIGjR8WoLKLaZDoZtFgP', 'is_local': False, 'name': 'Caroline', 'popularity': 8, 'preview_url': None, 'track_number': 8, 'type': 'track', 'uri': 'spotify:track:1euIGjR8WoLKLaZDoZtFgP'}, {'album': {'album_type': 'compilation', 'artists': [{'external_urls': {'spotify': 'https://open.spotify.com/artist/0LyfQWJT6nXafLPZqxe9Of'}, 'href': 'https://api.spotify.com/v1/artists/0LyfQWJT6nXafLPZqxe9Of', 'id': '0LyfQWJT6nXafLPZqxe9Of', 'name': 'Various Artists', 'type': 'artist', 'uri': 'spotify:artist:0LyfQWJT6nXafLPZqxe9Of'}], 'available_markets': ['AE', 'AR', 'AT', 'AU', 'BE', 'BG', 'BH', 'BO', 'BR', 'BY', 'CA', 'CH', 'CL', 'CO', 'CR', 'CY', 'CZ', 'DE', 'DK', 'DO', 'DZ', 'EC', 'EE', 'EG', 'ES', 'FI', 'FR', 'GB', 'GR', 'GT', 'HK', 'HN', 'HR', 'HU', 'ID', 'IE', 'IL', 'IN', 'IS', 'IT', 'JP', 'KR', 'KW', 'LB', 'LT', 'LU', 'LV', 'MA', 'MT', 'MX', 'MY', 'NI', 'NL', 'NO', 'NZ', 'OM', 'PA', 'PE', 'PH', 'PL', 'PT', 'PY', 'QA', 'RO', 'RS', 'RU', 'SA', 'SE', 'SG', 'SI', 'SK', 'SV', 'TH', 'TR', 'TT', 'TW', 'UA', 'US', 'UY', 'VN', 'XK', 'ZA'], 'external_urls': {'spotify': 'https://open.spotify.com/album/6qpexn9C8OZof3fKj3iUu3'}, 'href': 'https://api.spotify.com/v1/albums/6qpexn9C8OZof3fKj3iUu3', 'id': '6qpexn9C8OZof3fKj3iUu3', 'images': [{'height': 640, 'url': 'https://i.scdn.co/image/ab67616d0000b273fd6fe0db20b774c35628dace', 'width': 640}, {'height': 300, 'url': 'https://i.scdn.co/image/ab67616d00001e02fd6fe0db20b774c35628dace', 'width': 300}, {'height': 64, 'url': 'https://i.scdn.co/image/ab67616d00004851fd6fe0db20b774c35628dace', 'width': 64}], 'name': 'Naughty Bops', 'release_date': '2019-10-04', 'release_date_precision': 'day', 'total_tracks': 26, 'type': 'album', 'uri': 'spotify:album:6qpexn9C8OZof3fKj3iUu3'}, 'artists': [{'external_urls': {'spotify': 'https://open.spotify.com/artist/3Gm5F95VdRxW3mqCn8RPBJ'}, 'href': 'https://api.spotify.com/v1/artists/3Gm5F95VdRxW3mqCn8RPBJ', 'id': '3Gm5F95VdRxW3mqCn8RPBJ', 'name': 'Aminé', 'type': 'artist', 'uri': 'spotify:artist:3Gm5F95VdRxW3mqCn8RPBJ'}], 'available_markets': ['AE', 'AR', 'AT', 'AU', 'BE', 'BG', 'BH', 'BO', 'BR', 'BY', 'CA', 'CH', 'CL', 'CO', 'CR', 'CY', 'CZ', 'DE', 'DK', 'DO', 'DZ', 'EC', 'EE', 'EG', 'ES', 'FI', 'FR', 'GB', 'GR', 'GT', 'HK', 'HN', 'HR', 'HU', 'ID', 'IE', 'IL', 'IN', 'IS', 'IT', 'JP', 'KR', 'KW', 'LB', 'LT', 'LU', 'LV', 'MA', 'MT', 'MX', 'MY', 'NI', 'NL', 'NO', 'NZ', 'OM', 'PA', 'PE', 'PH', 'PL', 'PT', 'PY', 'QA', 'RO', 'RS', 'RU', 'SA', 'SE', 'SG', 'SI', 'SK', 'SV', 'TH', 'TR', 'TT', 'TW', 'UA', 'US', 'UY', 'VN', 'XK', 'ZA'], 'disc_number': 1, 'duration_ms': 209640, 'explicit': True, 'external_ids': {'isrc': 'USCGH1697037'}, 'external_urls': {'spotify': 'https://open.spotify.com/track/6tFTfzpi3PYtM8hu2Wk2hw'}, 'href': 'https://api.spotify.com/v1/tracks/6tFTfzpi3PYtM8hu2Wk2hw', 'id': '6tFTfzpi3PYtM8hu2Wk2hw', 'is_local': False, 'name': 'Caroline', 'popularity': 7, 'preview_url': None, 'track_number': 3, 'type': 'track', 'uri': 'spotify:track:6tFTfzpi3PYtM8hu2Wk2hw'}, {'album': {'album_type': 'compilation', 'artists': [{'external_urls': {'spotify': 'https://open.spotify.com/artist/0LyfQWJT6nXafLPZqxe9Of'}, 'href': 'https://api.spotify.com/v1/artists/0LyfQWJT6nXafLPZqxe9Of', 'id': '0LyfQWJT6nXafLPZqxe9Of', 'name': 'Various Artists', 'type': 'artist', 'uri': 'spotify:artist:0LyfQWJT6nXafLPZqxe9Of'}], 'available_markets': ['AE', 'AL', 'AR', 'AT', 'AU', 'BA', 'BE', 'BG', 'BH', 'BO', 'BR', 'BY', 'CA', 'CH', 'CI', 'CL', 'CM', 'CO', 'CR', 'CY', 'CZ', 'DE', 'DK', 'DO', 'DZ', 'EC', 'EE', 'EG', 'ES', 'FI', 'FR', 'GB', 'GH', 'GR', 'GT', 'HK', 'HN', 'HR', 'HU', 'ID', 'IE', 'IL', 'IN', 'IS', 'IT', 'JP', 'KE', 'KH', 'KR', 'KW', 'LB', 'LK', 'LT', 'LU', 'LV', 'MA', 'ME', 'MK', 'MT', 'MX', 'MY', 'NG', 'NI', 'NL', 'NO', 'NZ', 'OM', 'PA', 'PE', 'PH', 'PL', 'PT', 'PY', 'QA', 'RO', 'RS', 'RU', 'SA', 'SE', 'SG', 'SI', 'SK', 'SN', 'SV', 'TH', 'TN', 'TR', 'TT', 'TW', 'UA', 'US', 'UY', 'VE', 'VN', 'XK', 'ZA'], 'external_urls': {'spotify': 'https://open.spotify.com/album/30sUDlckDYfgIDRYZdy1f4'}, 'href': 'https://api.spotify.com/v1/albums/30sUDlckDYfgIDRYZdy1f4', 'id': '30sUDlckDYfgIDRYZdy1f4', 'images': [{'height': 640, 'url': 'https://i.scdn.co/image/ab67616d0000b273e059bf3687ab1f4548f12a74', 'width': 640}, {'height': 300, 'url': 'https://i.scdn.co/image/ab67616d00001e02e059bf3687ab1f4548f12a74', 'width': 300}, {'height': 64, 'url': 'https://i.scdn.co/image/ab67616d00004851e059bf3687ab1f4548f12a74', 'width': 64}], 'name': 'Top Trending Hits Vol. 2', 'release_date': '2021-05-28', 'release_date_precision': 'day', 'total_tracks': 36, 'type': 'album', 'uri': 'spotify:album:30sUDlckDYfgIDRYZdy1f4'}, 'artists': [{'external_urls': {'spotify': 'https://open.spotify.com/artist/3Gm5F95VdRxW3mqCn8RPBJ'}, 'href': 'https://api.spotify.com/v1/artists/3Gm5F95VdRxW3mqCn8RPBJ', 'id': '3Gm5F95VdRxW3mqCn8RPBJ', 'name': 'Aminé', 'type': 'artist', 'uri': 'spotify:artist:3Gm5F95VdRxW3mqCn8RPBJ'}], 'available_markets': ['AE', 'AL', 'AR', 'AT', 'AU', 'BA', 'BE', 'BG', 'BH', 'BO', 'BR', 'BY', 'CA', 'CH', 'CI', 'CL', 'CM', 'CO', 'CR', 'CY', 'CZ', 'DE', 'DK', 'DO', 'DZ', 'EC', 'EE', 'EG', 'ES', 'FI', 'FR', 'GB', 'GH', 'GR', 'GT', 'HK', 'HN', 'HR', 'HU', 'ID', 'IE', 'IL', 'IN', 'IS', 'IT', 'JP', 'KE', 'KH', 'KR', 'KW', 'LB', 'LK', 'LT', 'LU', 'LV', 'MA', 'ME', 'MK', 'MT', 'MX', 'MY', 'NG', 'NI', 'NL', 'NO', 'NZ', 'OM', 'PA', 'PE', 'PH', 'PL', 'PT', 'PY', 'QA', 'RO', 'RS', 'RU', 'SA', 'SE', 'SG', 'SI', 'SK', 'SN', 'SV', 'TH', 'TN', 'TR', 'TT', 'TW', 'UA', 'US', 'UY', 'VE', 'VN', 'XK', 'ZA'], 'disc_number': 1, 'duration_ms': 209640, 'explicit': True, 'external_ids': {'isrc': 'USCGH1697037'}, 'external_urls': {'spotify': 'https://open.spotify.com/track/2Wzo8oBFpfjc8bS1iuAJyr'}, 'href': 'https://api.spotify.com/v1/tracks/2Wzo8oBFpfjc8bS1iuAJyr', 'id': '2Wzo8oBFpfjc8bS1iuAJyr', 'is_local': False, 'name': 'Caroline', 'popularity': 8, 'preview_url': None, 'track_number': 11, 'type': 'track', 'uri': 'spotify:track:2Wzo8oBFpfjc8bS1iuAJyr'}, {'album': {'album_type': 'compilation', 'artists': [{'external_urls': {'spotify': 'https://open.spotify.com/artist/0LyfQWJT6nXafLPZqxe9Of'}, 'href': 'https://api.spotify.com/v1/artists/0LyfQWJT6nXafLPZqxe9Of', 'id': '0LyfQWJT6nXafLPZqxe9Of', 'name': 'Various Artists', 'type': 'artist', 'uri': 'spotify:artist:0LyfQWJT6nXafLPZqxe9Of'}], 'available_markets': ['AE', 'AL', 'AR', 'AU', 'BA', 'BE', 'BG', 'BH', 'BO', 'BR', 'BY', 'CA', 'CH', 'CI', 'CL', 'CM', 'CO', 'CR', 'CY', 'CZ', 'DK', 'DO', 'DZ', 'EC', 'EE', 'EG', 'ES', 'FI', 'FR', 'GB', 'GH', 'GR', 'GT', 'HK', 'HN', 'HR', 'HU', 'ID', 'IE', 'IN', 'IS', 'IT', 'JP', 'KE', 'KH', 'KR', 'KW', 'LB', 'LK', 'LT', 'LU', 'LV', 'MA', 'ME', 'MK', 'MT', 'MX', 'MY', 'NG', 'NI', 'NL', 'NO', 'NZ', 'OM', 'PA', 'PE', 'PH', 'PL', 'PY', 'QA', 'RO', 'RS', 'RU', 'SA', 'SE', 'SG', 'SI', 'SK', 'SN', 'SV', 'TH', 'TN', 'TR', 'TT', 'TW', 'UA', 'US', 'UY', 'VE', 'VN', 'XK', 'ZA'], 'external_urls': {'spotify': 'https://open.spotify.com/album/6tJ5wD77xX4WUEf4tA0bSe'}, 'href': 'https://api.spotify.com/v1/albums/6tJ5wD77xX4WUEf4tA0bSe', 'id': '6tJ5wD77xX4WUEf4tA0bSe', 'images': [{'height': 640, 'url': 'https://i.scdn.co/image/ab67616d0000b273a4eacef8a4b92c7b7b8491ae', 'width': 640}, {'height': 300, 'url': 'https://i.scdn.co/image/ab67616d00001e02a4eacef8a4b92c7b7b8491ae', 'width': 300}, {'height': 64, 'url': 'https://i.scdn.co/image/ab67616d00004851a4eacef8a4b92c7b7b8491ae', 'width': 64}], 'name': 'she take my dinero', 'release_date': '2021-06-24', 'release_date_precision': 'day', 'total_tracks': 20, 'type': 'album', 'uri': 'spotify:album:6tJ5wD77xX4WUEf4tA0bSe'}, 'artists': [{'external_urls': {'spotify': 'https://open.spotify.com/artist/3Gm5F95VdRxW3mqCn8RPBJ'}, 'href': 'https://api.spotify.com/v1/artists/3Gm5F95VdRxW3mqCn8RPBJ', 'id': '3Gm5F95VdRxW3mqCn8RPBJ', 'name': 'Aminé', 'type': 'artist', 'uri': 'spotify:artist:3Gm5F95VdRxW3mqCn8RPBJ'}], 'available_markets': ['AE', 'AL', 'AR', 'AU', 'BA', 'BE', 'BG', 'BH', 'BO', 'BR', 'BY', 'CA', 'CH', 'CI', 'CL', 'CM', 'CO', 'CR', 'CY', 'CZ', 'DK', 'DO', 'DZ', 'EC', 'EE', 'EG', 'ES', 'FI', 'FR', 'GB', 'GH', 'GR', 'GT', 'HK', 'HN', 'HR', 'HU', 'ID', 'IE', 'IN', 'IS', 'IT', 'JP', 'KE', 'KH', 'KR', 'KW', 'LB', 'LK', 'LT', 'LU', 'LV', 'MA', 'ME', 'MK', 'MT', 'MX', 'MY', 'NG', 'NI', 'NL', 'NO', 'NZ', 'OM', 'PA', 'PE', 'PH', 'PL', 'PY', 'QA', 'RO', 'RS', 'RU', 'SA', 'SE', 'SG', 'SI', 'SK', 'SN', 'SV', 'TH', 'TN', 'TR', 'TT', 'TW', 'UA', 'US', 'UY', 'VE', 'VN', 'XK', 'ZA'], 'disc_number': 1, 'duration_ms': 209640, 'explicit': True, 'external_ids': {'isrc': 'USCGH1697037'}, 'external_urls': {'spotify': 'https://open.spotify.com/track/1X1igvpIUSDCacpOB4Nr4d'}, 'href': 'https://api.spotify.com/v1/tracks/1X1igvpIUSDCacpOB4Nr4d', 'id': '1X1igvpIUSDCacpOB4Nr4d', 'is_local': False, 'name': 'Caroline', 'popularity': 3, 'preview_url': None, 'track_number': 10, 'type': 'track', 'uri': 'spotify:track:1X1igvpIUSDCacpOB4Nr4d'}, {'album': {'album_type': 'compilation', 'artists': [{'external_urls': {'spotify': 'https://open.spotify.com/artist/0LyfQWJT6nXafLPZqxe9Of'}, 'href': 'https://api.spotify.com/v1/artists/0LyfQWJT6nXafLPZqxe9Of', 'id': '0LyfQWJT6nXafLPZqxe9Of', 'name': 'Various Artists', 'type': 'artist', 'uri': 'spotify:artist:0LyfQWJT6nXafLPZqxe9Of'}], 'available_markets': ['AE', 'AL', 'AR', 'AT', 'AU', 'BA', 'BE', 'BG', 'BH', 'BO', 'BR', 'BY', 'CA', 'CH', 'CI', 'CL', 'CM', 'CO', 'CR', 'CY', 'CZ', 'DE', 'DK', 'DO', 'DZ', 'EC', 'EE', 'EG', 'ES', 'FI', 'FR', 'GB', 'GH', 'GR', 'GT', 'HK', 'HN', 'HR', 'HU', 'ID', 'IE', 'IL', 'IN', 'IS', 'IT', 'JP', 'KE', 'KH', 'KR', 'KW', 'LB', 'LK', 'LT', 'LU', 'LV', 'MA', 'ME', 'MK', 'MT', 'MX', 'MY', 'NG', 'NI', 'NL', 'NO', 'NZ', 'OM', 'PA', 'PE', 'PH', 'PL', 'PT', 'PY', 'QA', 'RO', 'RS', 'RU', 'SA', 'SE', 'SG', 'SI', 'SK', 'SN', 'SV', 'TH', 'TN', 'TR', 'TT', 'TW', 'UA', 'US', 'UY', 'VE', 'VN', 'XK', 'ZA'], 'external_urls': {'spotify': 'https://open.spotify.com/album/4kgFxtfCU4UeOeqjq0f1MI'}, 'href': 'https://api.spotify.com/v1/albums/4kgFxtfCU4UeOeqjq0f1MI', 'id': '4kgFxtfCU4UeOeqjq0f1MI', 'images': [{'height': 640, 'url': 'https://i.scdn.co/image/ab67616d0000b273dbfec3eadd30bf7b5601bc7a', 'width': 640}, {'height': 300, 'url': 'https://i.scdn.co/image/ab67616d00001e02dbfec3eadd30bf7b5601bc7a', 'width': 300}, {'height': 64, 'url': 'https://i.scdn.co/image/ab67616d00004851dbfec3eadd30bf7b5601bc7a', 'width': 64}], 'name': \"'Cause she needy\", 'release_date': '2021-05-19', 'release_date_precision': 'day', 'total_tracks': 35, 'type': 'album', 'uri': 'spotify:album:4kgFxtfCU4UeOeqjq0f1MI'}, 'artists': [{'external_urls': {'spotify': 'https://open.spotify.com/artist/3Gm5F95VdRxW3mqCn8RPBJ'}, 'href': 'https://api.spotify.com/v1/artists/3Gm5F95VdRxW3mqCn8RPBJ', 'id': '3Gm5F95VdRxW3mqCn8RPBJ', 'name': 'Aminé', 'type': 'artist', 'uri': 'spotify:artist:3Gm5F95VdRxW3mqCn8RPBJ'}], 'available_markets': ['AE', 'AL', 'AR', 'AT', 'AU', 'BA', 'BE', 'BG', 'BH', 'BO', 'BR', 'BY', 'CA', 'CH', 'CI', 'CL', 'CM', 'CO', 'CR', 'CY', 'CZ', 'DE', 'DK', 'DO', 'DZ', 'EC', 'EE', 'EG', 'ES', 'FI', 'FR', 'GB', 'GH', 'GR', 'GT', 'HK', 'HN', 'HR', 'HU', 'ID', 'IE', 'IL', 'IN', 'IS', 'IT', 'JP', 'KE', 'KH', 'KR', 'KW', 'LB', 'LK', 'LT', 'LU', 'LV', 'MA', 'ME', 'MK', 'MT', 'MX', 'MY', 'NG', 'NI', 'NL', 'NO', 'NZ', 'OM', 'PA', 'PE', 'PH', 'PL', 'PT', 'PY', 'QA', 'RO', 'RS', 'RU', 'SA', 'SE', 'SG', 'SI', 'SK', 'SN', 'SV', 'TH', 'TN', 'TR', 'TT', 'TW', 'UA', 'US', 'UY', 'VE', 'VN', 'XK', 'ZA'], 'disc_number': 1, 'duration_ms': 209640, 'explicit': True, 'external_ids': {'isrc': 'USCGH1697037'}, 'external_urls': {'spotify': 'https://open.spotify.com/track/44jPTJV0Kt8wdihiuWDIOM'}, 'href': 'https://api.spotify.com/v1/tracks/44jPTJV0Kt8wdihiuWDIOM', 'id': '44jPTJV0Kt8wdihiuWDIOM', 'is_local': False, 'name': 'Caroline', 'popularity': 9, 'preview_url': None, 'track_number': 3, 'type': 'track', 'uri': 'spotify:track:44jPTJV0Kt8wdihiuWDIOM'}, {'album': {'album_type': 'compilation', 'artists': [{'external_urls': {'spotify': 'https://open.spotify.com/artist/0LyfQWJT6nXafLPZqxe9Of'}, 'href': 'https://api.spotify.com/v1/artists/0LyfQWJT6nXafLPZqxe9Of', 'id': '0LyfQWJT6nXafLPZqxe9Of', 'name': 'Various Artists', 'type': 'artist', 'uri': 'spotify:artist:0LyfQWJT6nXafLPZqxe9Of'}], 'available_markets': ['AE', 'AL', 'AR', 'AT', 'AU', 'BA', 'BE', 'BG', 'BH', 'BO', 'BR', 'BY', 'CA', 'CH', 'CI', 'CL', 'CM', 'CO', 'CR', 'CY', 'CZ', 'DE', 'DK', 'DO', 'DZ', 'EC', 'EE', 'EG', 'ES', 'FI', 'FR', 'GB', 'GH', 'GR', 'GT', 'HK', 'HN', 'HR', 'HU', 'ID', 'IE', 'IL', 'IN', 'IS', 'IT', 'JP', 'KE', 'KH', 'KR', 'KW', 'LB', 'LK', 'LT', 'LU', 'LV', 'MA', 'ME', 'MK', 'MT', 'MX', 'MY', 'NG', 'NI', 'NL', 'NO', 'NZ', 'OM', 'PA', 'PE', 'PH', 'PL', 'PT', 'PY', 'QA', 'RO', 'RS', 'RU', 'SA', 'SE', 'SG', 'SI', 'SK', 'SN', 'SV', 'TH', 'TN', 'TR', 'TT', 'TW', 'UA', 'US', 'UY', 'VE', 'VN', 'XK', 'ZA'], 'external_urls': {'spotify': 'https://open.spotify.com/album/5AWJIjMGZWUm24Fa1CXWku'}, 'href': 'https://api.spotify.com/v1/albums/5AWJIjMGZWUm24Fa1CXWku', 'id': '5AWJIjMGZWUm24Fa1CXWku', 'images': [{'height': 640, 'url': 'https://i.scdn.co/image/ab67616d0000b27364520cb20bb46d76c515a7ff', 'width': 640}, {'height': 300, 'url': 'https://i.scdn.co/image/ab67616d00001e0264520cb20bb46d76c515a7ff', 'width': 300}, {'height': 64, 'url': 'https://i.scdn.co/image/ab67616d0000485164520cb20bb46d76c515a7ff', 'width': 64}], 'name': 'Step Into Summer', 'release_date': '2021-05-12', 'release_date_precision': 'day', 'total_tracks': 41, 'type': 'album', 'uri': 'spotify:album:5AWJIjMGZWUm24Fa1CXWku'}, 'artists': [{'external_urls': {'spotify': 'https://open.spotify.com/artist/3Gm5F95VdRxW3mqCn8RPBJ'}, 'href': 'https://api.spotify.com/v1/artists/3Gm5F95VdRxW3mqCn8RPBJ', 'id': '3Gm5F95VdRxW3mqCn8RPBJ', 'name': 'Aminé', 'type': 'artist', 'uri': 'spotify:artist:3Gm5F95VdRxW3mqCn8RPBJ'}], 'available_markets': ['AE', 'AL', 'AR', 'AT', 'AU', 'BA', 'BE', 'BG', 'BH', 'BO', 'BR', 'BY', 'CA', 'CH', 'CI', 'CL', 'CM', 'CO', 'CR', 'CY', 'CZ', 'DE', 'DK', 'DO', 'DZ', 'EC', 'EE', 'EG', 'ES', 'FI', 'FR', 'GB', 'GH', 'GR', 'GT', 'HK', 'HN', 'HR', 'HU', 'ID', 'IE', 'IL', 'IN', 'IS', 'IT', 'JP', 'KE', 'KH', 'KR', 'KW', 'LB', 'LK', 'LT', 'LU', 'LV', 'MA', 'ME', 'MK', 'MT', 'MX', 'MY', 'NG', 'NI', 'NL', 'NO', 'NZ', 'OM', 'PA', 'PE', 'PH', 'PL', 'PT', 'PY', 'QA', 'RO', 'RS', 'RU', 'SA', 'SE', 'SG', 'SI', 'SK', 'SN', 'SV', 'TH', 'TN', 'TR', 'TT', 'TW', 'UA', 'US', 'UY', 'VE', 'VN', 'XK', 'ZA'], 'disc_number': 1, 'duration_ms': 209640, 'explicit': True, 'external_ids': {'isrc': 'USCGH1697037'}, 'external_urls': {'spotify': 'https://open.spotify.com/track/5s5eq915lkDsjW6WNTMioK'}, 'href': 'https://api.spotify.com/v1/tracks/5s5eq915lkDsjW6WNTMioK', 'id': '5s5eq915lkDsjW6WNTMioK', 'is_local': False, 'name': 'Caroline', 'popularity': 9, 'preview_url': None, 'track_number': 12, 'type': 'track', 'uri': 'spotify:track:5s5eq915lkDsjW6WNTMioK'}], 'limit': 20, 'next': 'https://api.spotify.com/v1/search?query=artist%3Aamine+track%3A+caroline&type=track&offset=20&limit=20', 'offset': 0, 'previous': None, 'total': 113}}\n"
     ]
    }
   ],
   "source": [
    "#Testing get request for Search on Bohemian Rhapsody by Queen.\n",
    "\n",
    "base_url = 'https://api.spotify.com/v1/'\n",
    "r_test = requests.get(base_url+\"search?q=artist:amine track: caroline&type=track\", headers=headers)\n",
    "r_test = r_test.json()\n",
    "print(r_test)\n",
    "\n",
    "#this could be an issue.. there could be many songs that come up with just the artist / track data.."
   ]
  },
  {
   "cell_type": "markdown",
   "id": "e6b51faf",
   "metadata": {},
   "source": [
    "I need to get the most popular track with this name. \n",
    "It would stand to reason that is the track that belong to the Billboard hit. \n",
    "Through inspection, I see the track URI is near the bottom 'type': 'track', \n",
    "'uri': 'spotify:track:7tFiyTwD0nx5a1eklYtX2J'}\n",
    "But how do I extract this....?\n",
    "\n",
    "Through further inspection I see that when multiple tracks are searched, \n",
    "they are sorted by popularity. "
   ]
  },
  {
   "cell_type": "code",
   "execution_count": 142,
   "id": "0f02802c",
   "metadata": {},
   "outputs": [
    {
     "data": {
      "text/plain": [
       "'7B6m8tHAYZsOKOKMU5SR2n'"
      ]
     },
     "execution_count": 142,
     "metadata": {},
     "output_type": "execute_result"
    }
   ],
   "source": [
    "#Time to get the URIs\n",
    "#Using a Json formatter online, I see that there are lists nested in the main dictionary. \n",
    "#I will decompose the dictionary and then use a compresed for-loop to get the URI which is the ID key:value.\n",
    "\n"
   ]
  },
  {
   "cell_type": "markdown",
   "id": "7d6729b0",
   "metadata": {},
   "source": [
    "hazzah!"
   ]
  },
  {
   "cell_type": "code",
   "execution_count": 156,
   "id": "ac98938d",
   "metadata": {},
   "outputs": [],
   "source": [
    "#Now let's make a function that I can use in a for loop to get a df of all the URIs for the hit songs. \n",
    "#I am scared that this might miss lots of songs.. I will need to find a way to isolate songs that are not picked up. \n",
    "#ugh\n",
    "\n",
    "def GetSongURI(titleName,artistName):\n",
    "    song_data = requests.get(base_url+f\"search?q=track:{titleName}%20{artistName}&type=track\", headers=headers)\n",
    "    song_data = song_data.json()\n",
    "    result = song_data['tracks']['items']\n",
    "    \n",
    "    for items in result:\n",
    "        for artist in items['artists']:\n",
    "            if artist['name'].lower() == artistName.lower():\n",
    "                uri = items['id']\n",
    "                return uri\n",
    "\n",
    "\n",
    "    track = requests.get(base_url+f\"search?q=track:{titleName}&type=track\", headers=headers)\n",
    "    track = track.json()\n",
    "    result = track['tracks']['items']\n",
    "\n",
    "    for items in result:\n",
    "        for artist in items['artists']:\n",
    "            if artist['name'].lower() == artistName.lower():\n",
    "                uri = items['id']\n",
    "                return uri\n",
    "\n",
    "    for items in result:\n",
    "        for artist in items['artists']:\n",
    "            if artist['name'].lower() in artistName.lower():\n",
    "                uri = items['id']\n",
    "                return uri\n"
   ]
  },
  {
   "cell_type": "code",
   "execution_count": 157,
   "id": "a2d04cd8",
   "metadata": {},
   "outputs": [],
   "source": [
    "test_2 = GetSongURI('Umbrella', 'Rihanna')"
   ]
  },
  {
   "cell_type": "code",
   "execution_count": 158,
   "id": "31eaf6c7",
   "metadata": {},
   "outputs": [
    {
     "name": "stdout",
     "output_type": "stream",
     "text": [
      "49FYlytm3dAAraYgpoJZux\n"
     ]
    }
   ],
   "source": [
    "print(test_2)"
   ]
  },
  {
   "cell_type": "code",
   "execution_count": 143,
   "id": "21864357",
   "metadata": {
    "scrolled": true
   },
   "outputs": [
    {
     "name": "stdout",
     "output_type": "stream",
     "text": [
      "{'album': {'album_type': 'single', 'artists': [{'external_urls': {'spotify': 'https://open.spotify.com/artist/5CiGnKThu5ctn9pBxv7DGa'}, 'href': 'https://api.spotify.com/v1/artists/5CiGnKThu5ctn9pBxv7DGa', 'id': '5CiGnKThu5ctn9pBxv7DGa', 'name': 'benny blanco', 'type': 'artist', 'uri': 'spotify:artist:5CiGnKThu5ctn9pBxv7DGa'}, {'external_urls': {'spotify': 'https://open.spotify.com/artist/26VFTg2z8YR0cCuwLzESi2'}, 'href': 'https://api.spotify.com/v1/artists/26VFTg2z8YR0cCuwLzESi2', 'id': '26VFTg2z8YR0cCuwLzESi2', 'name': 'Halsey', 'type': 'artist', 'uri': 'spotify:artist:26VFTg2z8YR0cCuwLzESi2'}, {'external_urls': {'spotify': 'https://open.spotify.com/artist/6LuN9FCkKOj5PcnpouEgny'}, 'href': 'https://api.spotify.com/v1/artists/6LuN9FCkKOj5PcnpouEgny', 'id': '6LuN9FCkKOj5PcnpouEgny', 'name': 'Khalid', 'type': 'artist', 'uri': 'spotify:artist:6LuN9FCkKOj5PcnpouEgny'}], 'available_markets': ['AD', 'AE', 'AG', 'AL', 'AM', 'AO', 'AR', 'AT', 'AU', 'AZ', 'BA', 'BB', 'BD', 'BE', 'BF', 'BG', 'BH', 'BI', 'BJ', 'BN', 'BO', 'BR', 'BS', 'BT', 'BW', 'BY', 'BZ', 'CA', 'CD', 'CG', 'CH', 'CI', 'CL', 'CM', 'CO', 'CR', 'CV', 'CW', 'CY', 'CZ', 'DE', 'DJ', 'DK', 'DM', 'DO', 'DZ', 'EC', 'EE', 'EG', 'ES', 'FI', 'FJ', 'FM', 'FR', 'GA', 'GB', 'GD', 'GE', 'GH', 'GM', 'GN', 'GQ', 'GR', 'GT', 'GW', 'GY', 'HK', 'HN', 'HR', 'HT', 'HU', 'ID', 'IE', 'IL', 'IN', 'IQ', 'IS', 'IT', 'JM', 'JO', 'JP', 'KE', 'KG', 'KH', 'KI', 'KM', 'KN', 'KR', 'KW', 'KZ', 'LA', 'LB', 'LC', 'LI', 'LK', 'LR', 'LS', 'LT', 'LU', 'LV', 'LY', 'MA', 'MC', 'MD', 'ME', 'MG', 'MH', 'MK', 'ML', 'MN', 'MO', 'MR', 'MT', 'MU', 'MV', 'MW', 'MX', 'MY', 'MZ', 'NA', 'NE', 'NG', 'NI', 'NL', 'NO', 'NP', 'NR', 'NZ', 'OM', 'PA', 'PE', 'PG', 'PH', 'PK', 'PL', 'PS', 'PT', 'PW', 'PY', 'QA', 'RO', 'RS', 'RU', 'RW', 'SA', 'SB', 'SC', 'SE', 'SG', 'SI', 'SK', 'SL', 'SM', 'SN', 'SR', 'ST', 'SV', 'SZ', 'TD', 'TG', 'TH', 'TJ', 'TL', 'TN', 'TO', 'TR', 'TT', 'TV', 'TW', 'TZ', 'UA', 'UG', 'US', 'UY', 'UZ', 'VC', 'VE', 'VN', 'VU', 'WS', 'XK', 'ZA', 'ZM', 'ZW'], 'external_urls': {'spotify': 'https://open.spotify.com/album/7pkLXlFdpQDfmHujT2AbBK'}, 'href': 'https://api.spotify.com/v1/albums/7pkLXlFdpQDfmHujT2AbBK', 'id': '7pkLXlFdpQDfmHujT2AbBK', 'images': [{'height': 640, 'url': 'https://i.scdn.co/image/ab67616d0000b2733154f0bdf9a17385d7afc6ba', 'width': 640}, {'height': 300, 'url': 'https://i.scdn.co/image/ab67616d00001e023154f0bdf9a17385d7afc6ba', 'width': 300}, {'height': 64, 'url': 'https://i.scdn.co/image/ab67616d000048513154f0bdf9a17385d7afc6ba', 'width': 64}], 'name': 'Eastside (with Halsey & Khalid)', 'release_date': '2018-07-12', 'release_date_precision': 'day', 'total_tracks': 1, 'type': 'album', 'uri': 'spotify:album:7pkLXlFdpQDfmHujT2AbBK'}, 'artists': [{'external_urls': {'spotify': 'https://open.spotify.com/artist/5CiGnKThu5ctn9pBxv7DGa'}, 'href': 'https://api.spotify.com/v1/artists/5CiGnKThu5ctn9pBxv7DGa', 'id': '5CiGnKThu5ctn9pBxv7DGa', 'name': 'benny blanco', 'type': 'artist', 'uri': 'spotify:artist:5CiGnKThu5ctn9pBxv7DGa'}, {'external_urls': {'spotify': 'https://open.spotify.com/artist/26VFTg2z8YR0cCuwLzESi2'}, 'href': 'https://api.spotify.com/v1/artists/26VFTg2z8YR0cCuwLzESi2', 'id': '26VFTg2z8YR0cCuwLzESi2', 'name': 'Halsey', 'type': 'artist', 'uri': 'spotify:artist:26VFTg2z8YR0cCuwLzESi2'}, {'external_urls': {'spotify': 'https://open.spotify.com/artist/6LuN9FCkKOj5PcnpouEgny'}, 'href': 'https://api.spotify.com/v1/artists/6LuN9FCkKOj5PcnpouEgny', 'id': '6LuN9FCkKOj5PcnpouEgny', 'name': 'Khalid', 'type': 'artist', 'uri': 'spotify:artist:6LuN9FCkKOj5PcnpouEgny'}], 'available_markets': ['AD', 'AE', 'AG', 'AL', 'AM', 'AO', 'AR', 'AT', 'AU', 'AZ', 'BA', 'BB', 'BD', 'BE', 'BF', 'BG', 'BH', 'BI', 'BJ', 'BN', 'BO', 'BR', 'BS', 'BT', 'BW', 'BY', 'BZ', 'CA', 'CD', 'CG', 'CH', 'CI', 'CL', 'CM', 'CO', 'CR', 'CV', 'CW', 'CY', 'CZ', 'DE', 'DJ', 'DK', 'DM', 'DO', 'DZ', 'EC', 'EE', 'EG', 'ES', 'FI', 'FJ', 'FM', 'FR', 'GA', 'GB', 'GD', 'GE', 'GH', 'GM', 'GN', 'GQ', 'GR', 'GT', 'GW', 'GY', 'HK', 'HN', 'HR', 'HT', 'HU', 'ID', 'IE', 'IL', 'IN', 'IQ', 'IS', 'IT', 'JM', 'JO', 'JP', 'KE', 'KG', 'KH', 'KI', 'KM', 'KN', 'KR', 'KW', 'KZ', 'LA', 'LB', 'LC', 'LI', 'LK', 'LR', 'LS', 'LT', 'LU', 'LV', 'LY', 'MA', 'MC', 'MD', 'ME', 'MG', 'MH', 'MK', 'ML', 'MN', 'MO', 'MR', 'MT', 'MU', 'MV', 'MW', 'MX', 'MY', 'MZ', 'NA', 'NE', 'NG', 'NI', 'NL', 'NO', 'NP', 'NR', 'NZ', 'OM', 'PA', 'PE', 'PG', 'PH', 'PK', 'PL', 'PS', 'PT', 'PW', 'PY', 'QA', 'RO', 'RS', 'RU', 'RW', 'SA', 'SB', 'SC', 'SE', 'SG', 'SI', 'SK', 'SL', 'SM', 'SN', 'SR', 'ST', 'SV', 'SZ', 'TD', 'TG', 'TH', 'TJ', 'TL', 'TN', 'TO', 'TR', 'TT', 'TV', 'TW', 'TZ', 'UA', 'UG', 'US', 'UY', 'UZ', 'VC', 'VE', 'VN', 'VU', 'WS', 'XK', 'ZA', 'ZM', 'ZW'], 'disc_number': 1, 'duration_ms': 173799, 'explicit': False, 'external_ids': {'isrc': 'USUM71809132'}, 'external_urls': {'spotify': 'https://open.spotify.com/track/0d2iYfpKoM0QCKvcLCkBao'}, 'href': 'https://api.spotify.com/v1/tracks/0d2iYfpKoM0QCKvcLCkBao', 'id': '0d2iYfpKoM0QCKvcLCkBao', 'is_local': False, 'name': 'Eastside (with Halsey & Khalid)', 'popularity': 78, 'preview_url': None, 'track_number': 1, 'type': 'track', 'uri': 'spotify:track:0d2iYfpKoM0QCKvcLCkBao'}\n"
     ]
    }
   ],
   "source": [
    "#Confirm test_2 worked\n",
    "\n",
    "umbrella = requests.get('https://api.spotify.com/v1/tracks/0d2iYfpKoM0QCKvcLCkBao', headers=headers)\n",
    "umbrella = umbrella.json()\n",
    "print(umbrella)"
   ]
  },
  {
   "cell_type": "code",
   "execution_count": 162,
   "id": "4c05d7b3",
   "metadata": {},
   "outputs": [
    {
     "data": {
      "text/html": [
       "<div>\n",
       "<style scoped>\n",
       "    .dataframe tbody tr th:only-of-type {\n",
       "        vertical-align: middle;\n",
       "    }\n",
       "\n",
       "    .dataframe tbody tr th {\n",
       "        vertical-align: top;\n",
       "    }\n",
       "\n",
       "    .dataframe thead th {\n",
       "        text-align: right;\n",
       "    }\n",
       "</style>\n",
       "<table border=\"1\" class=\"dataframe\">\n",
       "  <thead>\n",
       "    <tr style=\"text-align: right;\">\n",
       "      <th></th>\n",
       "      <th>Title</th>\n",
       "      <th>Artist</th>\n",
       "    </tr>\n",
       "  </thead>\n",
       "  <tbody>\n",
       "    <tr>\n",
       "      <th>0</th>\n",
       "      <td>hanging by a moment</td>\n",
       "      <td>lifehouse</td>\n",
       "    </tr>\n",
       "    <tr>\n",
       "      <th>1</th>\n",
       "      <td>fallin’</td>\n",
       "      <td>alicia keys</td>\n",
       "    </tr>\n",
       "    <tr>\n",
       "      <th>2</th>\n",
       "      <td>all for you</td>\n",
       "      <td>janet jackson</td>\n",
       "    </tr>\n",
       "    <tr>\n",
       "      <th>3</th>\n",
       "      <td>drops of jupiter (tell me)</td>\n",
       "      <td>train</td>\n",
       "    </tr>\n",
       "    <tr>\n",
       "      <th>4</th>\n",
       "      <td>i’m real</td>\n",
       "      <td>jennifer lopez feat. ja rule</td>\n",
       "    </tr>\n",
       "    <tr>\n",
       "      <th>5</th>\n",
       "      <td>if you’re gone</td>\n",
       "      <td>matchbox twenty</td>\n",
       "    </tr>\n",
       "    <tr>\n",
       "      <th>6</th>\n",
       "      <td>let me blow ya mind</td>\n",
       "      <td>eve feat. gwen stefani</td>\n",
       "    </tr>\n",
       "  </tbody>\n",
       "</table>\n",
       "</div>"
      ],
      "text/plain": [
       "                        Title                        Artist\n",
       "0         hanging by a moment                     lifehouse\n",
       "1                     fallin’                   alicia keys\n",
       "2                 all for you                 janet jackson\n",
       "3  drops of jupiter (tell me)                         train\n",
       "4                    i’m real  jennifer lopez feat. ja rule\n",
       "5              if you’re gone               matchbox twenty\n",
       "6         let me blow ya mind        eve feat. gwen stefani"
      ]
     },
     "execution_count": 162,
     "metadata": {},
     "output_type": "execute_result"
    }
   ],
   "source": [
    "#Let's loop through the Billboards Hit dataset and add the URIs\n",
    "#Actually first lets test it for the first row. Hanging By A Moment, Lifehouse\n",
    "\n",
    "df = pd.read_csv('BillboardFullDataset.csv',header=0, index_col = 0)\n",
    "\n",
    "df = df[['Title','Artist']]\n",
    "\n",
    "df['Title'] = df['Title'].str.lower()\n",
    "df['Artist'] = df['Artist'].str.lower()\n",
    "\n",
    "df.head(7)\n",
    "\n"
   ]
  },
  {
   "cell_type": "code",
   "execution_count": 165,
   "id": "097426aa",
   "metadata": {},
   "outputs": [],
   "source": [
    "def append_URIs(dataframe):\n",
    "    for lab, row in dataframe.iterrows():\n",
    "        dataframe.loc[lab, 'URI'] = GetSongURI(row['Title'],row['Artist'])"
   ]
  },
  {
   "cell_type": "code",
   "execution_count": 166,
   "id": "374c10e3",
   "metadata": {},
   "outputs": [
    {
     "ename": "KeyError",
     "evalue": "'tracks'",
     "output_type": "error",
     "traceback": [
      "\u001b[1;31m---------------------------------------------------------------------------\u001b[0m",
      "\u001b[1;31mKeyError\u001b[0m                                  Traceback (most recent call last)",
      "\u001b[1;32m<ipython-input-166-ff4345d40300>\u001b[0m in \u001b[0;36m<module>\u001b[1;34m\u001b[0m\n\u001b[1;32m----> 1\u001b[1;33m \u001b[0mappend_URIs\u001b[0m\u001b[1;33m(\u001b[0m\u001b[0mdf\u001b[0m\u001b[1;33m)\u001b[0m\u001b[1;33m\u001b[0m\u001b[1;33m\u001b[0m\u001b[0m\n\u001b[0m",
      "\u001b[1;32m<ipython-input-165-9a5789797c23>\u001b[0m in \u001b[0;36mappend_URIs\u001b[1;34m(dataframe)\u001b[0m\n\u001b[0;32m      1\u001b[0m \u001b[1;32mdef\u001b[0m \u001b[0mappend_URIs\u001b[0m\u001b[1;33m(\u001b[0m\u001b[0mdataframe\u001b[0m\u001b[1;33m)\u001b[0m\u001b[1;33m:\u001b[0m\u001b[1;33m\u001b[0m\u001b[1;33m\u001b[0m\u001b[0m\n\u001b[0;32m      2\u001b[0m     \u001b[1;32mfor\u001b[0m \u001b[0mlab\u001b[0m\u001b[1;33m,\u001b[0m \u001b[0mrow\u001b[0m \u001b[1;32min\u001b[0m \u001b[0mdataframe\u001b[0m\u001b[1;33m.\u001b[0m\u001b[0miterrows\u001b[0m\u001b[1;33m(\u001b[0m\u001b[1;33m)\u001b[0m\u001b[1;33m:\u001b[0m\u001b[1;33m\u001b[0m\u001b[1;33m\u001b[0m\u001b[0m\n\u001b[1;32m----> 3\u001b[1;33m         \u001b[0mdataframe\u001b[0m\u001b[1;33m.\u001b[0m\u001b[0mloc\u001b[0m\u001b[1;33m[\u001b[0m\u001b[0mlab\u001b[0m\u001b[1;33m,\u001b[0m \u001b[1;34m'URI'\u001b[0m\u001b[1;33m]\u001b[0m \u001b[1;33m=\u001b[0m \u001b[0mGetSongURI\u001b[0m\u001b[1;33m(\u001b[0m\u001b[0mrow\u001b[0m\u001b[1;33m[\u001b[0m\u001b[1;34m'Title'\u001b[0m\u001b[1;33m]\u001b[0m\u001b[1;33m,\u001b[0m\u001b[0mrow\u001b[0m\u001b[1;33m[\u001b[0m\u001b[1;34m'Artist'\u001b[0m\u001b[1;33m]\u001b[0m\u001b[1;33m)\u001b[0m\u001b[1;33m\u001b[0m\u001b[1;33m\u001b[0m\u001b[0m\n\u001b[0m",
      "\u001b[1;32m<ipython-input-156-1ee27e7d2f67>\u001b[0m in \u001b[0;36mGetSongURI\u001b[1;34m(titleName, artistName)\u001b[0m\n\u001b[0;32m      6\u001b[0m     \u001b[0msong_data\u001b[0m \u001b[1;33m=\u001b[0m \u001b[0mrequests\u001b[0m\u001b[1;33m.\u001b[0m\u001b[0mget\u001b[0m\u001b[1;33m(\u001b[0m\u001b[0mbase_url\u001b[0m\u001b[1;33m+\u001b[0m\u001b[1;34mf\"search?q=track:{titleName}%20{artistName}&type=track\"\u001b[0m\u001b[1;33m,\u001b[0m \u001b[0mheaders\u001b[0m\u001b[1;33m=\u001b[0m\u001b[0mheaders\u001b[0m\u001b[1;33m)\u001b[0m\u001b[1;33m\u001b[0m\u001b[1;33m\u001b[0m\u001b[0m\n\u001b[0;32m      7\u001b[0m     \u001b[0msong_data\u001b[0m \u001b[1;33m=\u001b[0m \u001b[0msong_data\u001b[0m\u001b[1;33m.\u001b[0m\u001b[0mjson\u001b[0m\u001b[1;33m(\u001b[0m\u001b[1;33m)\u001b[0m\u001b[1;33m\u001b[0m\u001b[1;33m\u001b[0m\u001b[0m\n\u001b[1;32m----> 8\u001b[1;33m     \u001b[0mresult\u001b[0m \u001b[1;33m=\u001b[0m \u001b[0msong_data\u001b[0m\u001b[1;33m[\u001b[0m\u001b[1;34m'tracks'\u001b[0m\u001b[1;33m]\u001b[0m\u001b[1;33m[\u001b[0m\u001b[1;34m'items'\u001b[0m\u001b[1;33m]\u001b[0m\u001b[1;33m\u001b[0m\u001b[1;33m\u001b[0m\u001b[0m\n\u001b[0m\u001b[0;32m      9\u001b[0m \u001b[1;33m\u001b[0m\u001b[0m\n\u001b[0;32m     10\u001b[0m     \u001b[1;32mfor\u001b[0m \u001b[0mitems\u001b[0m \u001b[1;32min\u001b[0m \u001b[0mresult\u001b[0m\u001b[1;33m:\u001b[0m\u001b[1;33m\u001b[0m\u001b[1;33m\u001b[0m\u001b[0m\n",
      "\u001b[1;31mKeyError\u001b[0m: 'tracks'"
     ]
    }
   ],
   "source": [
    "append_URIs(df)"
   ]
  },
  {
   "cell_type": "code",
   "execution_count": null,
   "id": "87666a0f",
   "metadata": {},
   "outputs": [],
   "source": [
    "df.describe()"
   ]
  },
  {
   "cell_type": "code",
   "execution_count": 494,
   "id": "20ecea4a",
   "metadata": {},
   "outputs": [],
   "source": [
    "missing = df.loc[df['URI']isna()]"
   ]
  },
  {
   "cell_type": "markdown",
   "id": "9cdf430a",
   "metadata": {},
   "source": [
    "We have an issue.. After checking if this lamda function works my worst fears have come true. My GetSongURI function will error out if the search query doesn't pick anything up. I will need to find a way to search for both songs and artist separately to make sure that all track URIs are picked up. "
   ]
  },
  {
   "cell_type": "markdown",
   "id": "30ea889e",
   "metadata": {},
   "source": [
    "Moving to a new workbook. This is a shit show. "
   ]
  },
  {
   "cell_type": "code",
   "execution_count": null,
   "id": "5d4708ba",
   "metadata": {},
   "outputs": [],
   "source": []
  }
 ],
 "metadata": {
  "kernelspec": {
   "display_name": "Python 3",
   "language": "python",
   "name": "python3"
  },
  "language_info": {
   "codemirror_mode": {
    "name": "ipython",
    "version": 3
   },
   "file_extension": ".py",
   "mimetype": "text/x-python",
   "name": "python",
   "nbconvert_exporter": "python",
   "pygments_lexer": "ipython3",
   "version": "3.8.8"
  }
 },
 "nbformat": 4,
 "nbformat_minor": 5
}
