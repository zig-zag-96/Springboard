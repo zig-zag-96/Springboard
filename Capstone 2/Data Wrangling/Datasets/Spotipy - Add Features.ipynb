{
 "cells": [
  {
   "cell_type": "markdown",
   "id": "c0ef368d",
   "metadata": {},
   "source": [
    "In this Notebook I will get the Audio Analysis features for the billboard songs"
   ]
  },
  {
   "cell_type": "code",
   "execution_count": 13,
   "id": "b5870476",
   "metadata": {},
   "outputs": [],
   "source": [
    "# get api key from your .env file\n",
    "\n",
    "import os\n",
    "\n",
    "from dotenv import load_dotenv\n",
    "\n",
    "from pathlib import Path\n",
    "\n",
    " \n",
    "\n",
    "dotenv_path = Path('./SpotifyAPIKey.env')\n",
    "\n",
    "load_dotenv(dotenv_path=dotenv_path)\n",
    "\n",
    "\n",
    "#load_dotenv()\n",
    "\n",
    "API_CLIENT_ID = os.getenv('SPOTIFY_CLIENT_ID')\n",
    "API_CLIENT_SECRET = os.getenv('SPOTIFY_CLIENT_SECRET')\n",
    " \n",
    "#print(API_CLIENT_ID)\n",
    "#print(API_CLIENT_SECRET)"
   ]
  },
  {
   "cell_type": "code",
   "execution_count": 14,
   "id": "5e531fc2",
   "metadata": {},
   "outputs": [],
   "source": [
    "import pandas as pd\n",
    "import spotipy\n",
    "from spotipy.oauth2 import SpotifyClientCredentials\n",
    "\n",
    "#https://spotipy.readthedocs.io/en/2.19.0/"
   ]
  },
  {
   "cell_type": "code",
   "execution_count": 15,
   "id": "18198448",
   "metadata": {},
   "outputs": [],
   "source": [
    "client_credentials_manager = SpotifyClientCredentials(client_id=API_CLIENT_ID,client_secret=API_CLIENT_SECRET)\n",
    "sp = spotipy.Spotify(client_credentials_manager=client_credentials_manager)\n",
    "\n",
    "#sp.audio_features({'URI'}) gives us a dictionary within a list of the features and their values\n",
    "\n",
    "def GetAudioFeatures(URI):\n",
    "    features = sp.audio_features(URI)\n",
    "    \n",
    " \n"
   ]
  },
  {
   "cell_type": "code",
   "execution_count": 12,
   "id": "85abacca",
   "metadata": {},
   "outputs": [
    {
     "data": {
      "text/plain": [
       "[{'danceability': 0.55,\n",
       "  'energy': 0.804,\n",
       "  'key': 2,\n",
       "  'loudness': -5.218,\n",
       "  'mode': 1,\n",
       "  'speechiness': 0.0271,\n",
       "  'acousticness': 0.0148,\n",
       "  'instrumentalness': 4.33e-05,\n",
       "  'liveness': 0.105,\n",
       "  'valence': 0.789,\n",
       "  'tempo': 79.166,\n",
       "  'type': 'audio_features',\n",
       "  'id': '5c1QJAiC3773EwiZLwHf5x',\n",
       "  'uri': 'spotify:track:5c1QJAiC3773EwiZLwHf5x',\n",
       "  'track_href': 'https://api.spotify.com/v1/tracks/5c1QJAiC3773EwiZLwHf5x',\n",
       "  'analysis_url': 'https://api.spotify.com/v1/audio-analysis/5c1QJAiC3773EwiZLwHf5x',\n",
       "  'duration_ms': 231667,\n",
       "  'time_signature': 4},\n",
       " {'danceability': 0.678,\n",
       "  'energy': 0.357,\n",
       "  'key': 0,\n",
       "  'loudness': -14.712,\n",
       "  'mode': 0,\n",
       "  'speechiness': 0.128,\n",
       "  'acousticness': 0.675,\n",
       "  'instrumentalness': 0.00569,\n",
       "  'liveness': 0.124,\n",
       "  'valence': 0.0661,\n",
       "  'tempo': 113.301,\n",
       "  'type': 'audio_features',\n",
       "  'id': '5eCkuGPZNl4mISFNPgr3Dd',\n",
       "  'uri': 'spotify:track:5eCkuGPZNl4mISFNPgr3Dd',\n",
       "  'track_href': 'https://api.spotify.com/v1/tracks/5eCkuGPZNl4mISFNPgr3Dd',\n",
       "  'analysis_url': 'https://api.spotify.com/v1/audio-analysis/5eCkuGPZNl4mISFNPgr3Dd',\n",
       "  'duration_ms': 197773,\n",
       "  'time_signature': 5}]"
      ]
     },
     "execution_count": 12,
     "metadata": {},
     "output_type": "execute_result"
    }
   ],
   "source": [
    "sp.audio_features('5c1QJAiC3773EwiZLwHf5x,5eCkuGPZNl4mISFNPgr3Dd')"
   ]
  },
  {
   "cell_type": "code",
   "execution_count": null,
   "id": "5ab0447a",
   "metadata": {},
   "outputs": [],
   "source": []
  }
 ],
 "metadata": {
  "kernelspec": {
   "display_name": "Python 3",
   "language": "python",
   "name": "python3"
  },
  "language_info": {
   "codemirror_mode": {
    "name": "ipython",
    "version": 3
   },
   "file_extension": ".py",
   "mimetype": "text/x-python",
   "name": "python",
   "nbconvert_exporter": "python",
   "pygments_lexer": "ipython3",
   "version": "3.8.8"
  }
 },
 "nbformat": 4,
 "nbformat_minor": 5
}
