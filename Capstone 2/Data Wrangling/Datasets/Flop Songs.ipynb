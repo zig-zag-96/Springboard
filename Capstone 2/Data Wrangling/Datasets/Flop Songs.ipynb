{
 "cells": [
  {
   "cell_type": "markdown",
   "id": "76ad0cfc",
   "metadata": {},
   "source": [
    "In this notebook I will wrangle the data for the flop songs (non-hits). I will do this using a random name generator that I will feed to a search function. I will order the results by album release date and then pick a song whose URI is NOT in the billboard dataset.\n",
    "\n",
    "There are two conditions:\n",
    "1. The song cannot be part of the billboard hit data\n",
    "2. The song needs to have been released in the same time period (2001-2020)\n",
    "\n",
    "Let's get started."
   ]
  },
  {
   "cell_type": "code",
   "execution_count": null,
   "id": "f33c4d0f",
   "metadata": {},
   "outputs": [],
   "source": []
  },
  {
   "cell_type": "code",
   "execution_count": null,
   "id": "1fad07d0",
   "metadata": {},
   "outputs": [],
   "source": []
  },
  {
   "cell_type": "code",
   "execution_count": null,
   "id": "bf0b9688",
   "metadata": {},
   "outputs": [],
   "source": []
  },
  {
   "cell_type": "code",
   "execution_count": null,
   "id": "c14f1cf7",
   "metadata": {},
   "outputs": [],
   "source": []
  },
  {
   "cell_type": "code",
   "execution_count": null,
   "id": "87b2bd5a",
   "metadata": {},
   "outputs": [],
   "source": []
  },
  {
   "cell_type": "code",
   "execution_count": null,
   "id": "66cd387b",
   "metadata": {},
   "outputs": [],
   "source": [
    "# get api key from your .env file\n",
    "\n",
    "import os\n",
    "\n",
    "from dotenv import load_dotenv\n",
    "\n",
    "from pathlib import Path\n",
    "\n",
    " \n",
    "\n",
    "dotenv_path = Path('./SpotifyAPIKey.env')\n",
    "\n",
    "load_dotenv(dotenv_path=dotenv_path)\n",
    "\n",
    " \n",
    "\n",
    "#load_dotenv()\n",
    "\n",
    "API_CLIENT_ID = os.getenv('SPOTIFY_CLIENT_ID')\n",
    "API_CLIENT_SECRET = os.getenv('SPOTIFY_CLIENT_SECRET')\n",
    " \n",
    "print(API_CLIENT_ID)\n",
    "print(API_CLIENT_SECRET)"
   ]
  },
  {
   "cell_type": "code",
   "execution_count": null,
   "id": "8798d5e4",
   "metadata": {},
   "outputs": [],
   "source": []
  },
  {
   "cell_type": "code",
   "execution_count": null,
   "id": "7de1fc7b",
   "metadata": {},
   "outputs": [],
   "source": []
  },
  {
   "cell_type": "code",
   "execution_count": null,
   "id": "7d0b7f47",
   "metadata": {},
   "outputs": [],
   "source": []
  },
  {
   "cell_type": "code",
   "execution_count": null,
   "id": "b46cc375",
   "metadata": {},
   "outputs": [],
   "source": []
  }
 ],
 "metadata": {
  "kernelspec": {
   "display_name": "Python 3",
   "language": "python",
   "name": "python3"
  },
  "language_info": {
   "codemirror_mode": {
    "name": "ipython",
    "version": 3
   },
   "file_extension": ".py",
   "mimetype": "text/x-python",
   "name": "python",
   "nbconvert_exporter": "python",
   "pygments_lexer": "ipython3",
   "version": "3.8.8"
  }
 },
 "nbformat": 4,
 "nbformat_minor": 5
}
