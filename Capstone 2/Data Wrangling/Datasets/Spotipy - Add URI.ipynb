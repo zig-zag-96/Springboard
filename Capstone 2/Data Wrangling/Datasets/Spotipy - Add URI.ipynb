{
 "cells": [
  {
   "cell_type": "markdown",
   "id": "a92d1bb4",
   "metadata": {},
   "source": [
    "In this Notebook I will add the Spotify track URIs to the billboards data set. \n",
    "\n",
    "I will use the spotipy package because the querys are less sensitive and easier to create than connecting directly to the Spotify API.\n",
    "\n",
    "Methodology: \n",
    "1. Import packages & .env to store API keys\n",
    "Easily done thanks to the lessons learnt from the API mini project. DONE\n",
    "2. Authenticate myself via the client credentials through the spotipy package\n",
    "After reading through the documentation this methd of connecting to the API seems easier and fewere errors with the query portion of the GET request. \n",
    "3. Create a funtion to get URIs for songs from the JSON output of the API\n",
    "This is proving to be very dificult. There are many songs that are not \n",
    "4. Apply the funtion to the Billboards dataset\n",
    "5. Check for missing values, duplicates, etc. and make changes to the function as required\n",
    "\n"
   ]
  },
  {
   "cell_type": "code",
   "execution_count": 644,
   "id": "39eb911a",
   "metadata": {},
   "outputs": [
    {
     "name": "stdout",
     "output_type": "stream",
     "text": [
      "3f7295d24d8041688f494196baeb607f\n",
      "42896ec37b22446680c5a485858a4843\n"
     ]
    }
   ],
   "source": [
    "# get api key from your .env file\n",
    "\n",
    "import os\n",
    "\n",
    "from dotenv import load_dotenv\n",
    "\n",
    "from pathlib import Path\n",
    "\n",
    " \n",
    "\n",
    "dotenv_path = Path('./SpotifyAPIKey.env')\n",
    "\n",
    "load_dotenv(dotenv_path=dotenv_path)\n",
    "\n",
    " \n",
    "\n",
    "#load_dotenv()\n",
    "\n",
    "API_CLIENT_ID = os.getenv('SPOTIFY_CLIENT_ID')\n",
    "API_CLIENT_SECRET = os.getenv('SPOTIFY_CLIENT_SECRET')\n",
    " \n",
    "print(API_CLIENT_ID)\n",
    "print(API_CLIENT_SECRET)"
   ]
  },
  {
   "cell_type": "code",
   "execution_count": 645,
   "id": "00d4e6f1",
   "metadata": {},
   "outputs": [],
   "source": [
    "import pandas as pd\n",
    "import spotipy\n",
    "from spotipy.oauth2 import SpotifyClientCredentials\n",
    "\n",
    "#https://spotipy.readthedocs.io/en/2.19.0/"
   ]
  },
  {
   "cell_type": "code",
   "execution_count": 728,
   "id": "d85141fa",
   "metadata": {},
   "outputs": [],
   "source": [
    "client_credentials_manager = SpotifyClientCredentials(client_id=API_CLIENT_ID,client_secret=API_CLIENT_SECRET)\n",
    "sp = spotipy.Spotify(client_credentials_manager=client_credentials_manager)\n",
    "\n",
    "def URI(titleName, artistName):\n",
    "    track = sp.search(q=\"artist:\" + f\"{artistName}\"+\" track:\"+f\"{titleName}\",type='track',limit=50)\n",
    "    result = track['tracks']['items']\n",
    "    result = sorted(result, key = lambda i: i['popularity'], reverse = True)\n",
    "    \n",
    "    for items in result:\n",
    "        for artist in items['artists']:\n",
    "            if artist['name'].lower() == artistName.lower():\n",
    "                uri = items['id']\n",
    "                return(uri)\n",
    "            elif artist['name'].lower() in artistName.lower():\n",
    "                uri = items['id']\n",
    "                return uri\n",
    "            \n",
    "    track = sp.search(titleName,type='track',limit=50)\n",
    "    result = track['tracks']['items']\n",
    "    result = sorted(result, key = lambda i: i['popularity'], reverse = True)\n",
    "    \n",
    "    for items in result:\n",
    "        for artist in items['artists']:\n",
    "            if artist['name'].lower() == artistName.lower():\n",
    "                uri = items['id']\n",
    "                return uri\n",
    "\n",
    "    for items in result:\n",
    "        for artist in items['artists']:\n",
    "            if artist['name'].lower() in artistName.lower():\n",
    "                uri = items['id']\n",
    "                return uri\n",
    "#print(URI('independent women', \"destiny's child\"))"
   ]
  },
  {
   "cell_type": "code",
   "execution_count": null,
   "id": "617cfec0",
   "metadata": {},
   "outputs": [],
   "source": []
  },
  {
   "cell_type": "code",
   "execution_count": 677,
   "id": "7d8df647",
   "metadata": {
    "scrolled": true
   },
   "outputs": [
    {
     "name": "stdout",
     "output_type": "stream",
     "text": [
      "Rodney Atkins\n",
      "Rodney Atkins\n"
     ]
    }
   ],
   "source": [
    "for i in result:\n",
    "    for n in i['artists']:\n",
    "        print(n['name'])"
   ]
  },
  {
   "cell_type": "code",
   "execution_count": null,
   "id": "6fec5c2a",
   "metadata": {},
   "outputs": [],
   "source": []
  },
  {
   "cell_type": "code",
   "execution_count": 678,
   "id": "4c704499",
   "metadata": {},
   "outputs": [],
   "source": [
    "#Make a funtion to get the URIs from the Search function in Spotify API\n",
    "\n",
    "client_credentials_manager = SpotifyClientCredentials(client_id=API_CLIENT_ID,client_secret=API_CLIENT_SECRET)\n",
    "sp = spotipy.Spotify(client_credentials_manager=client_credentials_manager)\n",
    "\n",
    "def GetSongURI(titleName, artistName):\n",
    "    track = sp.search(q='artist:' + artistName+' track:'+titleName,type='track',limit=50)\n",
    "\n",
    "    result = track['tracks']['items']\n",
    "\n",
    "    \n",
    "    for items in result:\n",
    "        for artist in items['artists']:\n",
    "            if artist['name'].lower() == artistName.lower():\n",
    "                uri = items['id']\n",
    "                return uri\n",
    "\n",
    "\n",
    "    track = sp.search(titleName,type='track',limit=50)\n",
    "\n",
    "    result = track['tracks']['items']\n",
    "\n",
    "    for items in result:\n",
    "        for artist in items['artists']:\n",
    "            if artist['name'].lower() == artistName.lower():\n",
    "                uri = items['id']\n",
    "                return uri\n",
    "\n",
    "    for items in result:\n",
    "        for artist in items['artists']:\n",
    "            if artist['name'].lower() in artistName.lower():\n",
    "                uri = items['id']\n",
    "                return uri"
   ]
  },
  {
   "cell_type": "code",
   "execution_count": 679,
   "id": "12ee07e7",
   "metadata": {},
   "outputs": [],
   "source": [
    "client_credentials_manager = SpotifyClientCredentials(client_id=API_CLIENT_ID,client_secret=API_CLIENT_SECRET)\n",
    "sp = spotipy.Spotify(client_credentials_manager=client_credentials_manager)\n",
    "\n",
    "def anotherURI(titleName, artistName):\n",
    "    track = sp.search(q='artist:' + artistName+' track:'+titleName,type='track',limit=50)\n",
    "    result = track['tracks']['items']\n",
    "    \n",
    "    for items in result:\n",
    "        for artist in items['artists']:\n",
    "            if artist['name'].lower() == artistName.lower():\n",
    "                uri = items['id']\n",
    "                return uri\n",
    "            elif artist['name'].lower() in artistName.lower():\n",
    "                uri = items['id']\n",
    "                return uri\n",
    "            elif artistName.lower() == artist['name'].lower():\n",
    "                uri = items['id']\n",
    "                return uri\n",
    "            elif artistName.lower() in artist['name'].lower():\n",
    "                uri = items['id']\n",
    "                return uri\n",
    "\n",
    "    track = sp.search(titleName,type='track',limit=50)\n",
    "    result = track['tracks']['items']\n",
    "\n",
    "    for items in result:\n",
    "        for artist in items['artists']:\n",
    "            if artist['name'].lower() == artistName.lower():\n",
    "                uri = items['id']\n",
    "                return uri\n",
    "            elif artist['name'].lower() in artistName.lower():\n",
    "                uri = items['id']\n",
    "                return uri\n",
    "            elif artistName.lower() == artist['name'].lower():\n",
    "                uri = items['id']\n",
    "                return uri\n",
    "            elif artistName.lower() in artist['name'].lower():\n",
    "                uri = items['id']\n",
    "                return uri\n",
    "\n",
    "    track = sp.search(artistName,type ='track',limit=50)\n",
    "    result = track['tracks']['items']\n",
    "    \n",
    "    for items in result:\n",
    "        if items['name'].lower() == titleName.lower():\n",
    "            uri = items['id']\n",
    "            return uri\n",
    "        elif items['name'].lower() in titleName.lower():\n",
    "            uri = items['id']\n",
    "            return uri\n",
    "        elif titleName.lower() ==items['name'].lower():\n",
    "            uri = items['id']\n",
    "            return uri\n",
    "        elif titleName.lower() in items['name'].lower():\n",
    "            uri = items['id']\n",
    "            return uri"
   ]
  },
  {
   "cell_type": "code",
   "execution_count": 680,
   "id": "cbc5196e",
   "metadata": {},
   "outputs": [],
   "source": [
    "client_credentials_manager = SpotifyClientCredentials(client_id=API_CLIENT_ID,client_secret=API_CLIENT_SECRET)\n",
    "sp = spotipy.Spotify(client_credentials_manager=client_credentials_manager)\n",
    "\n",
    "def SongURI(titleName, artistName):\n",
    "    track = sp.search(q='artist:' + artistName+' track:'+titleName,type='track',limit=50)\n",
    "\n",
    "    result = track['tracks']['items']\n",
    "\n",
    "    \n",
    "    for items in result:\n",
    "        for artist in items['artists']:\n",
    "            if artist['name'].lower() == artistName.lower():\n",
    "                uri = items['id']\n",
    "                return uri  \n",
    "\n",
    "\n",
    "    track = sp.search(titleName,type='track',limit=50)\n",
    "\n",
    "    result = track['tracks']['items']\n",
    "\n",
    "    for items in result:\n",
    "        for artist in items['artists']:\n",
    "            if artist['name'].lower() == artistName.lower():\n",
    "                uri = items['id']\n",
    "                return uri\n",
    "\n",
    "    for items in result:\n",
    "        for artist in items['artists']:\n",
    "            if artist['name'].lower() in artistName.lower():\n",
    "                uri = items['id']\n",
    "                return uri\n",
    "    \n",
    "    track = sp.search(titleName,type='track',limit=50)\n",
    "\n",
    "    result = track['tracks']['items']\n",
    "    \n",
    "    for items in result:\n",
    "        if titleName.lower() == items['name'].lower():\n",
    "            uri = items['id']\n",
    "            return uri\n",
    "    for items in result:\n",
    "        if titleName.lower() in items['name'].lower():\n",
    "            uri = items['id']\n",
    "            return uri"
   ]
  },
  {
   "cell_type": "code",
   "execution_count": 729,
   "id": "d50a100e",
   "metadata": {},
   "outputs": [
    {
     "name": "stdout",
     "output_type": "stream",
     "text": [
      "5c1QJAiC3773EwiZLwHf5x\n"
     ]
    }
   ],
   "source": [
    "print(SongURI(\"again\", \"lenny kravitz\"))"
   ]
  },
  {
   "cell_type": "code",
   "execution_count": 730,
   "id": "f2d03fac",
   "metadata": {},
   "outputs": [
    {
     "name": "stdout",
     "output_type": "stream",
     "text": [
      "5c1QJAiC3773EwiZLwHf5x\n"
     ]
    }
   ],
   "source": [
    "print(anotherURI(\"again\", \"lenny kravitz\"))"
   ]
  },
  {
   "cell_type": "code",
   "execution_count": 731,
   "id": "14846c8f",
   "metadata": {},
   "outputs": [
    {
     "name": "stdout",
     "output_type": "stream",
     "text": [
      "5c1QJAiC3773EwiZLwHf5x\n"
     ]
    }
   ],
   "source": [
    "print(GetSongURI(\"again\", \"lenny kravitz\"))"
   ]
  },
  {
   "cell_type": "code",
   "execution_count": 739,
   "id": "0cd722f5",
   "metadata": {},
   "outputs": [
    {
     "name": "stdout",
     "output_type": "stream",
     "text": [
      "5c1QJAiC3773EwiZLwHf5x\n"
     ]
    }
   ],
   "source": [
    "print(URI('again', 'lenny kravitz'))"
   ]
  },
  {
   "cell_type": "code",
   "execution_count": 707,
   "id": "145a318c",
   "metadata": {},
   "outputs": [],
   "source": [
    "df = pd.read_csv('BillboardFullDataset.csv', index_col = 0)"
   ]
  },
  {
   "cell_type": "code",
   "execution_count": 708,
   "id": "0dbd9e3d",
   "metadata": {
    "scrolled": true
   },
   "outputs": [
    {
     "data": {
      "text/html": [
       "<div>\n",
       "<style scoped>\n",
       "    .dataframe tbody tr th:only-of-type {\n",
       "        vertical-align: middle;\n",
       "    }\n",
       "\n",
       "    .dataframe tbody tr th {\n",
       "        vertical-align: top;\n",
       "    }\n",
       "\n",
       "    .dataframe thead th {\n",
       "        text-align: right;\n",
       "    }\n",
       "</style>\n",
       "<table border=\"1\" class=\"dataframe\">\n",
       "  <thead>\n",
       "    <tr style=\"text-align: right;\">\n",
       "      <th></th>\n",
       "      <th>Artist</th>\n",
       "      <th>Title</th>\n",
       "    </tr>\n",
       "  </thead>\n",
       "  <tbody>\n",
       "    <tr>\n",
       "      <th>count</th>\n",
       "      <td>1875</td>\n",
       "      <td>1875</td>\n",
       "    </tr>\n",
       "    <tr>\n",
       "      <th>unique</th>\n",
       "      <td>1214</td>\n",
       "      <td>1766</td>\n",
       "    </tr>\n",
       "    <tr>\n",
       "      <th>top</th>\n",
       "      <td>Rihanna</td>\n",
       "      <td>Beautiful</td>\n",
       "    </tr>\n",
       "    <tr>\n",
       "      <th>freq</th>\n",
       "      <td>17</td>\n",
       "      <td>4</td>\n",
       "    </tr>\n",
       "  </tbody>\n",
       "</table>\n",
       "</div>"
      ],
      "text/plain": [
       "         Artist      Title\n",
       "count      1875       1875\n",
       "unique     1214       1766\n",
       "top     Rihanna  Beautiful\n",
       "freq         17          4"
      ]
     },
     "execution_count": 708,
     "metadata": {},
     "output_type": "execute_result"
    }
   ],
   "source": [
    "df.describe()"
   ]
  },
  {
   "cell_type": "code",
   "execution_count": 709,
   "id": "20c2a102",
   "metadata": {},
   "outputs": [],
   "source": [
    "df = df[['Title','Artist']]\n",
    "\n",
    "df['Title'] = df['Title'].str.lower()\n",
    "df['Artist'] = df['Artist'].str.lower()"
   ]
  },
  {
   "cell_type": "code",
   "execution_count": 710,
   "id": "e05b1fab",
   "metadata": {},
   "outputs": [
    {
     "data": {
      "text/html": [
       "<div>\n",
       "<style scoped>\n",
       "    .dataframe tbody tr th:only-of-type {\n",
       "        vertical-align: middle;\n",
       "    }\n",
       "\n",
       "    .dataframe tbody tr th {\n",
       "        vertical-align: top;\n",
       "    }\n",
       "\n",
       "    .dataframe thead th {\n",
       "        text-align: right;\n",
       "    }\n",
       "</style>\n",
       "<table border=\"1\" class=\"dataframe\">\n",
       "  <thead>\n",
       "    <tr style=\"text-align: right;\">\n",
       "      <th></th>\n",
       "      <th>Title</th>\n",
       "      <th>Artist</th>\n",
       "    </tr>\n",
       "  </thead>\n",
       "  <tbody>\n",
       "    <tr>\n",
       "      <th>0</th>\n",
       "      <td>hanging by a moment</td>\n",
       "      <td>lifehouse</td>\n",
       "    </tr>\n",
       "    <tr>\n",
       "      <th>1</th>\n",
       "      <td>fallin’</td>\n",
       "      <td>alicia keys</td>\n",
       "    </tr>\n",
       "    <tr>\n",
       "      <th>2</th>\n",
       "      <td>all for you</td>\n",
       "      <td>janet jackson</td>\n",
       "    </tr>\n",
       "    <tr>\n",
       "      <th>3</th>\n",
       "      <td>drops of jupiter (tell me)</td>\n",
       "      <td>train</td>\n",
       "    </tr>\n",
       "    <tr>\n",
       "      <th>4</th>\n",
       "      <td>i’m real</td>\n",
       "      <td>jennifer lopez feat. ja rule</td>\n",
       "    </tr>\n",
       "  </tbody>\n",
       "</table>\n",
       "</div>"
      ],
      "text/plain": [
       "                        Title                        Artist\n",
       "0         hanging by a moment                     lifehouse\n",
       "1                     fallin’                   alicia keys\n",
       "2                 all for you                 janet jackson\n",
       "3  drops of jupiter (tell me)                         train\n",
       "4                    i’m real  jennifer lopez feat. ja rule"
      ]
     },
     "execution_count": 710,
     "metadata": {},
     "output_type": "execute_result"
    }
   ],
   "source": [
    "df.head()"
   ]
  },
  {
   "cell_type": "markdown",
   "id": "5ca8d9b4",
   "metadata": {},
   "source": [
    "df_4['URI'] = df_4.apply(lambda row : Song_URI(row['Title'], row['Artist']), axis = 1)"
   ]
  },
  {
   "cell_type": "markdown",
   "id": "7b1c3f19",
   "metadata": {},
   "source": [
    "#testing\n",
    "\n",
    "df_4.head(50)"
   ]
  },
  {
   "cell_type": "markdown",
   "id": "0d91e005",
   "metadata": {},
   "source": [
    "#testing\n",
    "\n",
    "missing = df_4.loc[df['URI'].isna()]"
   ]
  },
  {
   "cell_type": "code",
   "execution_count": 733,
   "id": "9377666c",
   "metadata": {},
   "outputs": [],
   "source": [
    "def append_URIs(dataframe):\n",
    "    for lab, row in dataframe.iterrows():\n",
    "        dataframe.loc[lab, 'URI'] = URI(row['Title'],row['Artist'])\n",
    "        "
   ]
  },
  {
   "cell_type": "markdown",
   "id": "6d45b880",
   "metadata": {},
   "source": [
    "df['URI'] = df.apply(lambda row : Song_URI(row['Title'], row['Artist']), axis = 1)"
   ]
  },
  {
   "cell_type": "markdown",
   "id": "80691082",
   "metadata": {},
   "source": [
    "df.head(10)"
   ]
  },
  {
   "cell_type": "code",
   "execution_count": 734,
   "id": "2a8abf2d",
   "metadata": {},
   "outputs": [],
   "source": [
    "append_URIs(df)"
   ]
  },
  {
   "cell_type": "code",
   "execution_count": 735,
   "id": "360f7ed3",
   "metadata": {},
   "outputs": [
    {
     "data": {
      "text/html": [
       "<div>\n",
       "<style scoped>\n",
       "    .dataframe tbody tr th:only-of-type {\n",
       "        vertical-align: middle;\n",
       "    }\n",
       "\n",
       "    .dataframe tbody tr th {\n",
       "        vertical-align: top;\n",
       "    }\n",
       "\n",
       "    .dataframe thead th {\n",
       "        text-align: right;\n",
       "    }\n",
       "</style>\n",
       "<table border=\"1\" class=\"dataframe\">\n",
       "  <thead>\n",
       "    <tr style=\"text-align: right;\">\n",
       "      <th></th>\n",
       "      <th>Title</th>\n",
       "      <th>Artist</th>\n",
       "      <th>URI</th>\n",
       "    </tr>\n",
       "  </thead>\n",
       "  <tbody>\n",
       "    <tr>\n",
       "      <th>count</th>\n",
       "      <td>1875</td>\n",
       "      <td>1875</td>\n",
       "      <td>1751</td>\n",
       "    </tr>\n",
       "    <tr>\n",
       "      <th>unique</th>\n",
       "      <td>1748</td>\n",
       "      <td>1206</td>\n",
       "      <td>1688</td>\n",
       "    </tr>\n",
       "    <tr>\n",
       "      <th>top</th>\n",
       "      <td>beautiful</td>\n",
       "      <td>rihanna</td>\n",
       "      <td>0l3GEbH3CviUytD6iX4wzg</td>\n",
       "    </tr>\n",
       "    <tr>\n",
       "      <th>freq</th>\n",
       "      <td>4</td>\n",
       "      <td>17</td>\n",
       "      <td>3</td>\n",
       "    </tr>\n",
       "  </tbody>\n",
       "</table>\n",
       "</div>"
      ],
      "text/plain": [
       "            Title   Artist                     URI\n",
       "count        1875     1875                    1751\n",
       "unique       1748     1206                    1688\n",
       "top     beautiful  rihanna  0l3GEbH3CviUytD6iX4wzg\n",
       "freq            4       17                       3"
      ]
     },
     "execution_count": 735,
     "metadata": {},
     "output_type": "execute_result"
    }
   ],
   "source": [
    "df.describe()"
   ]
  },
  {
   "cell_type": "markdown",
   "id": "00c40a0e",
   "metadata": {},
   "source": [
    "There are issues here. There are missing URIs and duplicate URIs. \n",
    "\n",
    "I'll first attack the missing URIs - I think these can be solved by changing the functions slightly to make sure there are no name issues e.g. sounfs featuring multiple artist on billboard but only showing the main artist on spotify\n",
    "\n",
    "Round 1: Stared with 151 missing URIs. \n",
    "\n",
    "Round 2: After fixing 1 Artist name I am down to 150 missing URIs. \n",
    "\n",
    "Round 3: I changed my append_URIs function to take in all lowercase values for artist. I am now down to missing 138 URIs\n",
    "\n",
    "Round 4: I added some conditions to my function to also look through track names and match the artist and from there. I also added a condition to look at lowercase songs. I am down to 14 missing URIs. \n",
    "\n",
    "Note: this is weird.. function to get the uri works on some of these missing values so there must be an issue with the append uri's function.\n",
    "\n"
   ]
  },
  {
   "cell_type": "code",
   "execution_count": null,
   "id": "567cc231",
   "metadata": {},
   "outputs": [],
   "source": []
  },
  {
   "cell_type": "code",
   "execution_count": 736,
   "id": "d52426a8",
   "metadata": {},
   "outputs": [],
   "source": [
    "missing = df.loc[df['URI'].isna()]"
   ]
  },
  {
   "cell_type": "code",
   "execution_count": 737,
   "id": "10d13fb2",
   "metadata": {
    "scrolled": false
   },
   "outputs": [
    {
     "data": {
      "text/html": [
       "<div>\n",
       "<style scoped>\n",
       "    .dataframe tbody tr th:only-of-type {\n",
       "        vertical-align: middle;\n",
       "    }\n",
       "\n",
       "    .dataframe tbody tr th {\n",
       "        vertical-align: top;\n",
       "    }\n",
       "\n",
       "    .dataframe thead th {\n",
       "        text-align: right;\n",
       "    }\n",
       "</style>\n",
       "<table border=\"1\" class=\"dataframe\">\n",
       "  <thead>\n",
       "    <tr style=\"text-align: right;\">\n",
       "      <th></th>\n",
       "      <th>Title</th>\n",
       "      <th>Artist</th>\n",
       "      <th>URI</th>\n",
       "    </tr>\n",
       "  </thead>\n",
       "  <tbody>\n",
       "    <tr>\n",
       "      <th>8</th>\n",
       "      <td>again</td>\n",
       "      <td>lenny kravitz</td>\n",
       "      <td>None</td>\n",
       "    </tr>\n",
       "    <tr>\n",
       "      <th>9</th>\n",
       "      <td>independent women</td>\n",
       "      <td>destiny’s child</td>\n",
       "      <td>None</td>\n",
       "    </tr>\n",
       "    <tr>\n",
       "      <th>22</th>\n",
       "      <td>survivor</td>\n",
       "      <td>destiny’s child</td>\n",
       "      <td>None</td>\n",
       "    </tr>\n",
       "    <tr>\n",
       "      <th>26</th>\n",
       "      <td>the way you love me</td>\n",
       "      <td>faith hill</td>\n",
       "      <td>None</td>\n",
       "    </tr>\n",
       "    <tr>\n",
       "      <th>35</th>\n",
       "      <td>crazy</td>\n",
       "      <td>k-ci and jojo</td>\n",
       "      <td>None</td>\n",
       "    </tr>\n",
       "    <tr>\n",
       "      <th>...</th>\n",
       "      <td>...</td>\n",
       "      <td>...</td>\n",
       "      <td>...</td>\n",
       "    </tr>\n",
       "    <tr>\n",
       "      <th>1622</th>\n",
       "      <td>bodak yellow (money moves)</td>\n",
       "      <td>cardi b</td>\n",
       "      <td>None</td>\n",
       "    </tr>\n",
       "    <tr>\n",
       "      <th>1658</th>\n",
       "      <td>caroline</td>\n",
       "      <td>amine</td>\n",
       "      <td>None</td>\n",
       "    </tr>\n",
       "    <tr>\n",
       "      <th>1688</th>\n",
       "      <td>down</td>\n",
       "      <td>marian hill</td>\n",
       "      <td>None</td>\n",
       "    </tr>\n",
       "    <tr>\n",
       "      <th>1854</th>\n",
       "      <td>the git up</td>\n",
       "      <td>blanco brown</td>\n",
       "      <td>None</td>\n",
       "    </tr>\n",
       "    <tr>\n",
       "      <th>1992</th>\n",
       "      <td>p*$$y fairy (otw)</td>\n",
       "      <td>jhene aiko</td>\n",
       "      <td>None</td>\n",
       "    </tr>\n",
       "  </tbody>\n",
       "</table>\n",
       "<p>124 rows × 3 columns</p>\n",
       "</div>"
      ],
      "text/plain": [
       "                           Title           Artist   URI\n",
       "8                          again    lenny kravitz  None\n",
       "9              independent women  destiny’s child  None\n",
       "22                      survivor  destiny’s child  None\n",
       "26           the way you love me       faith hill  None\n",
       "35                         crazy    k-ci and jojo  None\n",
       "...                          ...              ...   ...\n",
       "1622  bodak yellow (money moves)          cardi b  None\n",
       "1658                    caroline            amine  None\n",
       "1688                        down      marian hill  None\n",
       "1854                  the git up     blanco brown  None\n",
       "1992           p*$$y fairy (otw)       jhene aiko  None\n",
       "\n",
       "[124 rows x 3 columns]"
      ]
     },
     "execution_count": 737,
     "metadata": {},
     "output_type": "execute_result"
    }
   ],
   "source": [
    "missing"
   ]
  },
  {
   "cell_type": "code",
   "execution_count": 718,
   "id": "b1d3b9a5",
   "metadata": {},
   "outputs": [],
   "source": [
    "missing.to_csv('missing.csv')"
   ]
  },
  {
   "cell_type": "code",
   "execution_count": 719,
   "id": "f6a5fd33",
   "metadata": {},
   "outputs": [
    {
     "name": "stderr",
     "output_type": "stream",
     "text": [
      "C:\\Users\\ziggy\\anaconda3\\lib\\site-packages\\pandas\\core\\indexing.py:1637: SettingWithCopyWarning: \n",
      "A value is trying to be set on a copy of a slice from a DataFrame\n",
      "\n",
      "See the caveats in the documentation: https://pandas.pydata.org/pandas-docs/stable/user_guide/indexing.html#returning-a-view-versus-a-copy\n",
      "  self._setitem_single_block(indexer, value, name)\n",
      "C:\\Users\\ziggy\\anaconda3\\lib\\site-packages\\pandas\\core\\indexing.py:692: SettingWithCopyWarning: \n",
      "A value is trying to be set on a copy of a slice from a DataFrame\n",
      "\n",
      "See the caveats in the documentation: https://pandas.pydata.org/pandas-docs/stable/user_guide/indexing.html#returning-a-view-versus-a-copy\n",
      "  iloc._setitem_with_indexer(indexer, value, self.name)\n"
     ]
    }
   ],
   "source": [
    "append_URIs(missing)"
   ]
  },
  {
   "cell_type": "code",
   "execution_count": 720,
   "id": "674a3ead",
   "metadata": {},
   "outputs": [
    {
     "data": {
      "text/html": [
       "<div>\n",
       "<style scoped>\n",
       "    .dataframe tbody tr th:only-of-type {\n",
       "        vertical-align: middle;\n",
       "    }\n",
       "\n",
       "    .dataframe tbody tr th {\n",
       "        vertical-align: top;\n",
       "    }\n",
       "\n",
       "    .dataframe thead th {\n",
       "        text-align: right;\n",
       "    }\n",
       "</style>\n",
       "<table border=\"1\" class=\"dataframe\">\n",
       "  <thead>\n",
       "    <tr style=\"text-align: right;\">\n",
       "      <th></th>\n",
       "      <th>Title</th>\n",
       "      <th>Artist</th>\n",
       "      <th>URI</th>\n",
       "    </tr>\n",
       "  </thead>\n",
       "  <tbody>\n",
       "    <tr>\n",
       "      <th>count</th>\n",
       "      <td>123</td>\n",
       "      <td>123</td>\n",
       "      <td>0</td>\n",
       "    </tr>\n",
       "    <tr>\n",
       "      <th>unique</th>\n",
       "      <td>121</td>\n",
       "      <td>77</td>\n",
       "      <td>0</td>\n",
       "    </tr>\n",
       "    <tr>\n",
       "      <th>top</th>\n",
       "      <td>bad</td>\n",
       "      <td>beyonce</td>\n",
       "      <td>NaN</td>\n",
       "    </tr>\n",
       "    <tr>\n",
       "      <th>freq</th>\n",
       "      <td>2</td>\n",
       "      <td>12</td>\n",
       "      <td>NaN</td>\n",
       "    </tr>\n",
       "  </tbody>\n",
       "</table>\n",
       "</div>"
      ],
      "text/plain": [
       "       Title   Artist  URI\n",
       "count    123      123    0\n",
       "unique   121       77    0\n",
       "top      bad  beyonce  NaN\n",
       "freq       2       12  NaN"
      ]
     },
     "execution_count": 720,
     "metadata": {},
     "output_type": "execute_result"
    }
   ],
   "source": [
    "missing.describe()"
   ]
  },
  {
   "cell_type": "code",
   "execution_count": 721,
   "id": "9966f069",
   "metadata": {},
   "outputs": [
    {
     "ename": "TypeError",
     "evalue": "'str' object is not callable",
     "output_type": "error",
     "traceback": [
      "\u001b[1;31m---------------------------------------------------------------------------\u001b[0m",
      "\u001b[1;31mTypeError\u001b[0m                                 Traceback (most recent call last)",
      "\u001b[1;32m<ipython-input-721-98aced4055d9>\u001b[0m in \u001b[0;36m<module>\u001b[1;34m\u001b[0m\n\u001b[1;32m----> 1\u001b[1;33m \u001b[0muri\u001b[0m\u001b[1;33m(\u001b[0m\u001b[1;34m'bad'\u001b[0m\u001b[1;33m,\u001b[0m \u001b[1;34m'beyonce'\u001b[0m\u001b[1;33m)\u001b[0m\u001b[1;33m\u001b[0m\u001b[1;33m\u001b[0m\u001b[0m\n\u001b[0m",
      "\u001b[1;31mTypeError\u001b[0m: 'str' object is not callable"
     ]
    }
   ],
   "source": [
    "uri('bad', 'beyonce')"
   ]
  },
  {
   "cell_type": "code",
   "execution_count": null,
   "id": "31439371",
   "metadata": {},
   "outputs": [],
   "source": []
  }
 ],
 "metadata": {
  "kernelspec": {
   "display_name": "Python 3",
   "language": "python",
   "name": "python3"
  },
  "language_info": {
   "codemirror_mode": {
    "name": "ipython",
    "version": 3
   },
   "file_extension": ".py",
   "mimetype": "text/x-python",
   "name": "python",
   "nbconvert_exporter": "python",
   "pygments_lexer": "ipython3",
   "version": "3.8.8"
  }
 },
 "nbformat": 4,
 "nbformat_minor": 5
}
