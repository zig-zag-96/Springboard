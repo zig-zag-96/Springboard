{
 "cells": [
  {
   "cell_type": "markdown",
   "id": "01f5e92a",
   "metadata": {},
   "source": [
    "In this notebook I will wrangle the data for the flop songs (non-hits). I will do this using a random name generator that I will feed to a search function. I will order the results by album release date and then pick a song whose URI is NOT in the billboard dataset.\n",
    "\n",
    "There are two conditions:\n",
    "1. The song cannot be part of the billboard hit data\n",
    "2. The song needs to have been released in the same time period (2001-2020)\n",
    "\n",
    "Let's get started."
   ]
  },
  {
   "cell_type": "markdown",
   "id": "c7ce37c4",
   "metadata": {},
   "source": [
    "I have downloaded a a list of random english words from MIT that is stored in a csv called Random_Words.csv. \n",
    "\n",
    "I will randomly pick words from this list that will be the basis for the tracknames of the flop songs"
   ]
  },
  {
   "cell_type": "code",
   "execution_count": 214,
   "id": "0a446ec7",
   "metadata": {},
   "outputs": [],
   "source": [
    "import pandas as pd\n",
    "import random\n",
    "import datetime\n",
    "import spotipy\n",
    "from spotipy.oauth2 import SpotifyClientCredentials"
   ]
  },
  {
   "cell_type": "code",
   "execution_count": 215,
   "id": "95900025",
   "metadata": {},
   "outputs": [],
   "source": [
    "random_words = pd.read_csv('Random_Words.csv')\n",
    "billboard = pd.read_csv('BillboardWithURI.csv')"
   ]
  },
  {
   "cell_type": "code",
   "execution_count": 216,
   "id": "c70e27a5",
   "metadata": {},
   "outputs": [
    {
     "data": {
      "text/html": [
       "<div>\n",
       "<style scoped>\n",
       "    .dataframe tbody tr th:only-of-type {\n",
       "        vertical-align: middle;\n",
       "    }\n",
       "\n",
       "    .dataframe tbody tr th {\n",
       "        vertical-align: top;\n",
       "    }\n",
       "\n",
       "    .dataframe thead th {\n",
       "        text-align: right;\n",
       "    }\n",
       "</style>\n",
       "<table border=\"1\" class=\"dataframe\">\n",
       "  <thead>\n",
       "    <tr style=\"text-align: right;\">\n",
       "      <th></th>\n",
       "      <th>words</th>\n",
       "    </tr>\n",
       "  </thead>\n",
       "  <tbody>\n",
       "    <tr>\n",
       "      <th>0</th>\n",
       "      <td>a</td>\n",
       "    </tr>\n",
       "    <tr>\n",
       "      <th>1</th>\n",
       "      <td>aa</td>\n",
       "    </tr>\n",
       "    <tr>\n",
       "      <th>2</th>\n",
       "      <td>aaa</td>\n",
       "    </tr>\n",
       "    <tr>\n",
       "      <th>3</th>\n",
       "      <td>aaron</td>\n",
       "    </tr>\n",
       "    <tr>\n",
       "      <th>4</th>\n",
       "      <td>ab</td>\n",
       "    </tr>\n",
       "    <tr>\n",
       "      <th>...</th>\n",
       "      <td>...</td>\n",
       "    </tr>\n",
       "    <tr>\n",
       "      <th>9995</th>\n",
       "      <td>zope</td>\n",
       "    </tr>\n",
       "    <tr>\n",
       "      <th>9996</th>\n",
       "      <td>zshops</td>\n",
       "    </tr>\n",
       "    <tr>\n",
       "      <th>9997</th>\n",
       "      <td>zu</td>\n",
       "    </tr>\n",
       "    <tr>\n",
       "      <th>9998</th>\n",
       "      <td>zum</td>\n",
       "    </tr>\n",
       "    <tr>\n",
       "      <th>9999</th>\n",
       "      <td>zus</td>\n",
       "    </tr>\n",
       "  </tbody>\n",
       "</table>\n",
       "<p>10000 rows × 1 columns</p>\n",
       "</div>"
      ],
      "text/plain": [
       "       words\n",
       "0          a\n",
       "1         aa\n",
       "2        aaa\n",
       "3      aaron\n",
       "4         ab\n",
       "...      ...\n",
       "9995    zope\n",
       "9996  zshops\n",
       "9997      zu\n",
       "9998     zum\n",
       "9999     zus\n",
       "\n",
       "[10000 rows x 1 columns]"
      ]
     },
     "execution_count": 216,
     "metadata": {},
     "output_type": "execute_result"
    }
   ],
   "source": [
    "random_words\n"
   ]
  },
  {
   "cell_type": "code",
   "execution_count": 235,
   "id": "ea6fef63",
   "metadata": {},
   "outputs": [
    {
     "name": "stdout",
     "output_type": "stream",
     "text": [
      "3f7295d24d8041688f494196baeb607f\n",
      "42896ec37b22446680c5a485858a4843\n"
     ]
    }
   ],
   "source": [
    "# get api key from your .env file\n",
    "\n",
    "import os\n",
    "\n",
    "from dotenv import load_dotenv\n",
    "\n",
    "from pathlib import Path\n",
    "\n",
    " \n",
    "\n",
    "dotenv_path = Path('./SpotifyAPIKey.env')\n",
    "\n",
    "load_dotenv(dotenv_path=dotenv_path)\n",
    "\n",
    " \n",
    "\n",
    "#load_dotenv()\n",
    "\n",
    "API_CLIENT_ID = os.getenv('SPOTIFY_CLIENT_ID')\n",
    "API_CLIENT_SECRET = os.getenv('SPOTIFY_CLIENT_SECRET')\n",
    " \n",
    "print(API_CLIENT_ID)\n",
    "print(API_CLIENT_SECRET)"
   ]
  },
  {
   "cell_type": "markdown",
   "id": "9f27518a",
   "metadata": {},
   "source": [
    "artist_list = []\n",
    "track_list = []\n",
    "uri_list = []\n",
    "\n",
    "def get track, artist, uri: \n",
    "\n",
    "track = sp.search(q=track:\"+f\"{word}\",type='track',limit=50)\n",
    "result = track['tracks']['items']\n",
    "\n",
    "for items in result:\n",
    "    if uri not in billboard['URI']\n",
    "        artist = items['artist']['name']\n",
    "        track = items['name']\n",
    "        uri = items['id']\n",
    "        artisartist_list.append(artist)\n",
    "        track_list.append(track)\n",
    "        uri_list.append(uri)\n"
   ]
  },
  {
   "cell_type": "code",
   "execution_count": 236,
   "id": "6bc2a243",
   "metadata": {},
   "outputs": [],
   "source": [
    "client_credentials_manager = SpotifyClientCredentials(client_id=API_CLIENT_ID,client_secret=API_CLIENT_SECRET)\n",
    "sp = spotipy.Spotify(client_credentials_manager=client_credentials_manager)"
   ]
  },
  {
   "cell_type": "code",
   "execution_count": 237,
   "id": "aedc43dd",
   "metadata": {},
   "outputs": [],
   "source": [
    "import dateutil.parser as parser"
   ]
  },
  {
   "cell_type": "code",
   "execution_count": null,
   "id": "73b3691d",
   "metadata": {},
   "outputs": [],
   "source": [
    "l_artist = []"
   ]
  },
  {
   "cell_type": "code",
   "execution_count": 238,
   "id": "c31ff009",
   "metadata": {},
   "outputs": [],
   "source": [
    "def get_artist(rand_word): \n",
    "\n",
    "    track = sp.search(q=\"track:\" +f\"{rand_word}\",type='track',limit=50)\n",
    "    result = track['tracks']['items']\n",
    "    \n",
    "    for items in result:\n",
    "        uri = items['id']\n",
    "        dict1 = items['album']\n",
    "        year = parser.parse(dict1['release_date']).year \n",
    "        if uri not in billboard['URI'] and year in range(2001,2021):\n",
    "            for artist in items['artists']:\n",
    "                artist_name = artist['name']\n",
    "                l_artist.append(artist_name)\n",
    "                \n",
    "def get_track(rand_word):\n",
    "    track = sp.search(q=\"track:\" +f\"{rand_word}\",type='track',limit=50)\n",
    "    result = track['tracks']['items']\n",
    "    \n",
    "    for items in result:\n",
    "        uri = items['id']\n",
    "        track_name = items['name']\n",
    "        dict1 = items['album']\n",
    "        year = parser.parse(dict1['release_date']).year \n",
    "        if uri not in billboard['URI'] and year in range(2001,2021):\n",
    "            return track_name\n",
    "\n",
    "def get_uri(rand_word):\n",
    "    track = sp.search(q=\"track:\" +f\"{rand_word}\",type='track',limit=50)\n",
    "    result = track['tracks']['items']\n",
    "    \n",
    "    for items in result:\n",
    "        uri = items['id']\n",
    "        dict1 = items['album']\n",
    "        year = parser.parse(dict1['release_date']).year \n",
    "        if uri not in billboard['URI'] and year in range(2001,2021):\n",
    "            return uri\n"
   ]
  },
  {
   "cell_type": "code",
   "execution_count": 239,
   "id": "5016df29",
   "metadata": {},
   "outputs": [
    {
     "name": "stdout",
     "output_type": "stream",
     "text": [
      "Chris Stapleton\n",
      "Amanda (feat. Morgane Stapleton)\n",
      "31N3agcx1BKlLkYBXAx1Ax\n"
     ]
    }
   ],
   "source": [
    "print(get_artist('amanda'))\n",
    "print(get_track('amanda'))\n",
    "print(get_uri('amanda'))"
   ]
  },
  {
   "cell_type": "code",
   "execution_count": 240,
   "id": "d0781979",
   "metadata": {},
   "outputs": [],
   "source": [
    "df = pd.DataFrame()"
   ]
  },
  {
   "cell_type": "code",
   "execution_count": 241,
   "id": "8326e1ff",
   "metadata": {},
   "outputs": [
    {
     "data": {
      "text/plain": [
       "pandas.core.frame.DataFrame"
      ]
     },
     "execution_count": 241,
     "metadata": {},
     "output_type": "execute_result"
    }
   ],
   "source": [
    "for i in range(10001):\n",
    "    word = random_words.sample(i, replace= True)\n",
    "\n",
    "type(word)"
   ]
  },
  {
   "cell_type": "code",
   "execution_count": 242,
   "id": "59b5b908",
   "metadata": {},
   "outputs": [
    {
     "data": {
      "text/html": [
       "<div>\n",
       "<style scoped>\n",
       "    .dataframe tbody tr th:only-of-type {\n",
       "        vertical-align: middle;\n",
       "    }\n",
       "\n",
       "    .dataframe tbody tr th {\n",
       "        vertical-align: top;\n",
       "    }\n",
       "\n",
       "    .dataframe thead th {\n",
       "        text-align: right;\n",
       "    }\n",
       "</style>\n",
       "<table border=\"1\" class=\"dataframe\">\n",
       "  <thead>\n",
       "    <tr style=\"text-align: right;\">\n",
       "      <th></th>\n",
       "      <th>words</th>\n",
       "    </tr>\n",
       "  </thead>\n",
       "  <tbody>\n",
       "    <tr>\n",
       "      <th>2260</th>\n",
       "      <td>cv</td>\n",
       "    </tr>\n",
       "    <tr>\n",
       "      <th>6940</th>\n",
       "      <td>printer</td>\n",
       "    </tr>\n",
       "    <tr>\n",
       "      <th>2106</th>\n",
       "      <td>corrected</td>\n",
       "    </tr>\n",
       "    <tr>\n",
       "      <th>3886</th>\n",
       "      <td>good</td>\n",
       "    </tr>\n",
       "    <tr>\n",
       "      <th>8759</th>\n",
       "      <td>syndrome</td>\n",
       "    </tr>\n",
       "  </tbody>\n",
       "</table>\n",
       "</div>"
      ],
      "text/plain": [
       "          words\n",
       "2260         cv\n",
       "6940    printer\n",
       "2106  corrected\n",
       "3886       good\n",
       "8759   syndrome"
      ]
     },
     "execution_count": 242,
     "metadata": {},
     "output_type": "execute_result"
    }
   ],
   "source": [
    "word.head()"
   ]
  },
  {
   "cell_type": "code",
   "execution_count": 245,
   "id": "38cbfc3a",
   "metadata": {},
   "outputs": [],
   "source": [
    "def create_flops(dataframe):\n",
    "    for lab,row in dataframe.iterrows():\n",
    "        dataframe.loc[lab, 'Title'] = get_track(row['words'])"
   ]
  },
  {
   "cell_type": "code",
   "execution_count": 246,
   "id": "031d4f40",
   "metadata": {},
   "outputs": [],
   "source": [
    "create_flops(word)"
   ]
  },
  {
   "cell_type": "code",
   "execution_count": 247,
   "id": "e545c154",
   "metadata": {},
   "outputs": [
    {
     "data": {
      "text/html": [
       "<div>\n",
       "<style scoped>\n",
       "    .dataframe tbody tr th:only-of-type {\n",
       "        vertical-align: middle;\n",
       "    }\n",
       "\n",
       "    .dataframe tbody tr th {\n",
       "        vertical-align: top;\n",
       "    }\n",
       "\n",
       "    .dataframe thead th {\n",
       "        text-align: right;\n",
       "    }\n",
       "</style>\n",
       "<table border=\"1\" class=\"dataframe\">\n",
       "  <thead>\n",
       "    <tr style=\"text-align: right;\">\n",
       "      <th></th>\n",
       "      <th>words</th>\n",
       "      <th>Title</th>\n",
       "    </tr>\n",
       "  </thead>\n",
       "  <tbody>\n",
       "    <tr>\n",
       "      <th>2260</th>\n",
       "      <td>cv</td>\n",
       "      <td>Pretty Cvnt</td>\n",
       "    </tr>\n",
       "    <tr>\n",
       "      <th>6940</th>\n",
       "      <td>printer</td>\n",
       "      <td>Fixing an Office Printer</td>\n",
       "    </tr>\n",
       "    <tr>\n",
       "      <th>2106</th>\n",
       "      <td>corrected</td>\n",
       "      <td>I Stand Corrected</td>\n",
       "    </tr>\n",
       "    <tr>\n",
       "      <th>3886</th>\n",
       "      <td>good</td>\n",
       "      <td>Good Days</td>\n",
       "    </tr>\n",
       "    <tr>\n",
       "      <th>8759</th>\n",
       "      <td>syndrome</td>\n",
       "      <td>Stockholm Syndrome</td>\n",
       "    </tr>\n",
       "  </tbody>\n",
       "</table>\n",
       "</div>"
      ],
      "text/plain": [
       "          words                     Title\n",
       "2260         cv               Pretty Cvnt\n",
       "6940    printer  Fixing an Office Printer\n",
       "2106  corrected         I Stand Corrected\n",
       "3886       good                 Good Days\n",
       "8759   syndrome        Stockholm Syndrome"
      ]
     },
     "execution_count": 247,
     "metadata": {},
     "output_type": "execute_result"
    }
   ],
   "source": [
    "word.head()"
   ]
  },
  {
   "cell_type": "code",
   "execution_count": 248,
   "id": "98c5963d",
   "metadata": {},
   "outputs": [
    {
     "data": {
      "text/html": [
       "<div>\n",
       "<style scoped>\n",
       "    .dataframe tbody tr th:only-of-type {\n",
       "        vertical-align: middle;\n",
       "    }\n",
       "\n",
       "    .dataframe tbody tr th {\n",
       "        vertical-align: top;\n",
       "    }\n",
       "\n",
       "    .dataframe thead th {\n",
       "        text-align: right;\n",
       "    }\n",
       "</style>\n",
       "<table border=\"1\" class=\"dataframe\">\n",
       "  <thead>\n",
       "    <tr style=\"text-align: right;\">\n",
       "      <th></th>\n",
       "      <th>words</th>\n",
       "      <th>Title</th>\n",
       "    </tr>\n",
       "  </thead>\n",
       "  <tbody>\n",
       "    <tr>\n",
       "      <th>count</th>\n",
       "      <td>10000</td>\n",
       "      <td>9915</td>\n",
       "    </tr>\n",
       "    <tr>\n",
       "      <th>unique</th>\n",
       "      <td>6343</td>\n",
       "      <td>5545</td>\n",
       "    </tr>\n",
       "    <tr>\n",
       "      <th>top</th>\n",
       "      <td>southwest</td>\n",
       "      <td>Laugh Now Cry Later (feat. Lil Durk)</td>\n",
       "    </tr>\n",
       "    <tr>\n",
       "      <th>freq</th>\n",
       "      <td>6</td>\n",
       "      <td>14</td>\n",
       "    </tr>\n",
       "  </tbody>\n",
       "</table>\n",
       "</div>"
      ],
      "text/plain": [
       "            words                                 Title\n",
       "count       10000                                  9915\n",
       "unique       6343                                  5545\n",
       "top     southwest  Laugh Now Cry Later (feat. Lil Durk)\n",
       "freq            6                                    14"
      ]
     },
     "execution_count": 248,
     "metadata": {},
     "output_type": "execute_result"
    }
   ],
   "source": [
    "word.describe()"
   ]
  },
  {
   "cell_type": "code",
   "execution_count": null,
   "id": "92bdcdec",
   "metadata": {},
   "outputs": [],
   "source": [
    "def create_flops2(dataframe):\n",
    "    for lab, row in dataframe.iterrows():\n",
    "        dataframe.loc[lab, 'Artist'] = get_artist(row['words'])"
   ]
  },
  {
   "cell_type": "code",
   "execution_count": null,
   "id": "824a54fc",
   "metadata": {},
   "outputs": [],
   "source": [
    "def create_flops3(dataframe):\n",
    "    for lab, row in dataframe.iterrows():\n",
    "        dataframe.loc[lab, 'URI'] = get_artist(row['words']) "
   ]
  }
 ],
 "metadata": {
  "kernelspec": {
   "display_name": "Python 3",
   "language": "python",
   "name": "python3"
  },
  "language_info": {
   "codemirror_mode": {
    "name": "ipython",
    "version": 3
   },
   "file_extension": ".py",
   "mimetype": "text/x-python",
   "name": "python",
   "nbconvert_exporter": "python",
   "pygments_lexer": "ipython3",
   "version": "3.8.8"
  }
 },
 "nbformat": 4,
 "nbformat_minor": 5
}
