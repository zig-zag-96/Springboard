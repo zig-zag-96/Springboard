{
 "cells": [
  {
   "cell_type": "markdown",
   "id": "91817d07",
   "metadata": {},
   "source": [
    "In this Notebook I will add the Spotify track URIs to the billboards data set.\n",
    "\n",
    "I will use the spotipy package because the querys are less sensitive and easier to create than connecting directly to the Spotify API.\n",
    "\n",
    "Methodology:\n",
    "\n",
    "Import packages & .env to store API keys Easily done thanks to the lessons learnt from the API mini project. DONE\n",
    "Authenticate myself via the client credentials through the spotipy package After reading through the documentation this methd of connecting to the API seems easier and fewere errors with the query portion of the GET request.\n",
    "Create a funtion to get URIs for songs from the JSON output of the API This is proving to be very dificult. There are many songs that are not\n",
    "Apply the funtion to the Billboards dataset\n",
    "Check for missing values, duplicates, etc. and make changes to the function as required"
   ]
  },
  {
   "cell_type": "code",
   "execution_count": 37,
   "id": "2ac9a8c0",
   "metadata": {},
   "outputs": [
    {
     "name": "stdout",
     "output_type": "stream",
     "text": [
      "3f7295d24d8041688f494196baeb607f\n",
      "42896ec37b22446680c5a485858a4843\n"
     ]
    }
   ],
   "source": [
    "# get api key from your .env file\n",
    "\n",
    "import os\n",
    "\n",
    "from dotenv import load_dotenv\n",
    "\n",
    "from pathlib import Path\n",
    "\n",
    " \n",
    "\n",
    "dotenv_path = Path('./SpotifyAPIKey.env')\n",
    "\n",
    "load_dotenv(dotenv_path=dotenv_path)\n",
    "\n",
    " \n",
    "\n",
    "#load_dotenv()\n",
    "\n",
    "API_CLIENT_ID = os.getenv('SPOTIFY_CLIENT_ID')\n",
    "API_CLIENT_SECRET = os.getenv('SPOTIFY_CLIENT_SECRET')\n",
    " \n",
    "print(API_CLIENT_ID)\n",
    "print(API_CLIENT_SECRET)"
   ]
  },
  {
   "cell_type": "code",
   "execution_count": 38,
   "id": "68cd4139",
   "metadata": {},
   "outputs": [],
   "source": [
    "import pandas as pd\n",
    "import spotipy\n",
    "from spotipy.oauth2 import SpotifyClientCredentials\n",
    "\n",
    "#https://spotipy.readthedocs.io/en/2.19.0/"
   ]
  },
  {
   "cell_type": "code",
   "execution_count": 39,
   "id": "9918505e",
   "metadata": {},
   "outputs": [
    {
     "name": "stdout",
     "output_type": "stream",
     "text": [
      "5hTpBe8h35rJ67eAWHQsJx\n"
     ]
    }
   ],
   "source": [
    "client_credentials_manager = SpotifyClientCredentials(client_id=API_CLIENT_ID,client_secret=API_CLIENT_SECRET)\n",
    "sp = spotipy.Spotify(client_credentials_manager=client_credentials_manager)\n",
    "\n",
    "def URI(titleName, artistName):\n",
    "    track = sp.search(q=\"artist:\" + f\"{artistName}\"+\" track:\"+f\"{titleName}\",type='track',limit=50)\n",
    "    result = track['tracks']['items']\n",
    "    result = sorted(result, key = lambda i: i['popularity'], reverse = True)\n",
    "    \n",
    "    for items in result:\n",
    "        for artist in items['artists']:\n",
    "            if artist['name'].lower() == artistName.lower():\n",
    "                uri = items['id']\n",
    "                return(uri)\n",
    "            elif artist['name'].lower() in artistName.lower():\n",
    "                uri = items['id']\n",
    "                return uri\n",
    "            \n",
    "    track = sp.search(titleName,type='track',limit=50)\n",
    "    result = track['tracks']['items']\n",
    "    result = sorted(result, key = lambda i: i['popularity'], reverse = True)\n",
    "    \n",
    "    for items in result:\n",
    "        for artist in items['artists']:\n",
    "            if artist['name'].lower() == artistName.lower():\n",
    "                uri = items['id']\n",
    "                return uri\n",
    "\n",
    "    for items in result:\n",
    "        for artist in items['artists']:\n",
    "            if artist['name'].lower() in artistName.lower():\n",
    "                uri = items['id']\n",
    "                return uri\n",
    "            \n",
    "    track = sp.search(titleName,type='track',limit=50)\n",
    "    result = track['tracks']['items']\n",
    "    result = sorted(result, key = lambda i: i['popularity'], reverse = True)\n",
    "    \n",
    "    for items in result:\n",
    "        if items['name'].lower() == titleName.lower():\n",
    "            uri = items['id']\n",
    "            return uri\n",
    "        elif items['name'].lower() in titleName.lower():\n",
    "            uri = items['id']\n",
    "            return uri\n",
    "    \n",
    "\n",
    "print(URI('caroline', \"amine\"))"
   ]
  },
  {
   "cell_type": "code",
   "execution_count": 40,
   "id": "3ad25948",
   "metadata": {},
   "outputs": [
    {
     "name": "stdout",
     "output_type": "stream",
     "text": [
      "6vgN6KGstss0GnBbKlMNK9\n"
     ]
    }
   ],
   "source": [
    "print(URI(\"the way you love me\", \"faith hill\"))"
   ]
  },
  {
   "cell_type": "code",
   "execution_count": 41,
   "id": "fe3d2c18",
   "metadata": {},
   "outputs": [],
   "source": [
    "df=pd.read_csv('BillboardFullDataset.csv')"
   ]
  },
  {
   "cell_type": "code",
   "execution_count": 42,
   "id": "9c8104fd",
   "metadata": {},
   "outputs": [],
   "source": [
    "#As discovered there are some issues with some of the data. They contain \\xa0 in place of spaces. I change those here. \n",
    "\n",
    "df['Title'] = df['Title'].apply(lambda x: str(x).replace(u'\\xa0', u' '))\n",
    "df['Artist'] = df['Artist'].apply(lambda x: str(x).replace(u'\\xa0', u' '))"
   ]
  },
  {
   "cell_type": "code",
   "execution_count": 43,
   "id": "2a7db654",
   "metadata": {},
   "outputs": [
    {
     "data": {
      "text/html": [
       "<div>\n",
       "<style scoped>\n",
       "    .dataframe tbody tr th:only-of-type {\n",
       "        vertical-align: middle;\n",
       "    }\n",
       "\n",
       "    .dataframe tbody tr th {\n",
       "        vertical-align: top;\n",
       "    }\n",
       "\n",
       "    .dataframe thead th {\n",
       "        text-align: right;\n",
       "    }\n",
       "</style>\n",
       "<table border=\"1\" class=\"dataframe\">\n",
       "  <thead>\n",
       "    <tr style=\"text-align: right;\">\n",
       "      <th></th>\n",
       "      <th>Unnamed: 0</th>\n",
       "      <th>Artist</th>\n",
       "      <th>Title</th>\n",
       "    </tr>\n",
       "  </thead>\n",
       "  <tbody>\n",
       "    <tr>\n",
       "      <th>0</th>\n",
       "      <td>0</td>\n",
       "      <td>Lifehouse</td>\n",
       "      <td>Hanging By A Moment</td>\n",
       "    </tr>\n",
       "    <tr>\n",
       "      <th>1</th>\n",
       "      <td>1</td>\n",
       "      <td>Alicia Keys</td>\n",
       "      <td>Fallin’</td>\n",
       "    </tr>\n",
       "    <tr>\n",
       "      <th>2</th>\n",
       "      <td>2</td>\n",
       "      <td>Janet Jackson</td>\n",
       "      <td>All For You</td>\n",
       "    </tr>\n",
       "    <tr>\n",
       "      <th>3</th>\n",
       "      <td>3</td>\n",
       "      <td>Train</td>\n",
       "      <td>Drops Of Jupiter (Tell Me)</td>\n",
       "    </tr>\n",
       "    <tr>\n",
       "      <th>4</th>\n",
       "      <td>4</td>\n",
       "      <td>Jennifer Lopez feat. Ja Rule</td>\n",
       "      <td>I’m Real</td>\n",
       "    </tr>\n",
       "    <tr>\n",
       "      <th>5</th>\n",
       "      <td>5</td>\n",
       "      <td>matchbox twenty</td>\n",
       "      <td>If You’re Gone</td>\n",
       "    </tr>\n",
       "    <tr>\n",
       "      <th>6</th>\n",
       "      <td>6</td>\n",
       "      <td>Eve feat. Gwen Stefani</td>\n",
       "      <td>Let Me Blow Ya Mind</td>\n",
       "    </tr>\n",
       "    <tr>\n",
       "      <th>7</th>\n",
       "      <td>7</td>\n",
       "      <td>Dido</td>\n",
       "      <td>Thank You</td>\n",
       "    </tr>\n",
       "    <tr>\n",
       "      <th>8</th>\n",
       "      <td>8</td>\n",
       "      <td>Lenny Kravitz</td>\n",
       "      <td>Again</td>\n",
       "    </tr>\n",
       "    <tr>\n",
       "      <th>9</th>\n",
       "      <td>9</td>\n",
       "      <td>Destiny’s Child</td>\n",
       "      <td>Independent Women</td>\n",
       "    </tr>\n",
       "  </tbody>\n",
       "</table>\n",
       "</div>"
      ],
      "text/plain": [
       "   Unnamed: 0                        Artist                       Title\n",
       "0           0                     Lifehouse         Hanging By A Moment\n",
       "1           1                   Alicia Keys                     Fallin’\n",
       "2           2                 Janet Jackson                 All For You\n",
       "3           3                         Train  Drops Of Jupiter (Tell Me)\n",
       "4           4  Jennifer Lopez feat. Ja Rule                    I’m Real\n",
       "5           5               matchbox twenty              If You’re Gone\n",
       "6           6        Eve feat. Gwen Stefani         Let Me Blow Ya Mind\n",
       "7           7                          Dido                   Thank You\n",
       "8           8                 Lenny Kravitz                       Again\n",
       "9           9               Destiny’s Child           Independent Women"
      ]
     },
     "execution_count": 43,
     "metadata": {},
     "output_type": "execute_result"
    }
   ],
   "source": [
    "df.head(10)"
   ]
  },
  {
   "cell_type": "code",
   "execution_count": 44,
   "id": "58c82a95",
   "metadata": {},
   "outputs": [],
   "source": [
    "df = df[['Title','Artist']]\n",
    "\n",
    "df['Title'] = df['Title'].str.lower()\n",
    "df['Artist'] = df['Artist'].str.lower()"
   ]
  },
  {
   "cell_type": "code",
   "execution_count": 45,
   "id": "bdfd7667",
   "metadata": {},
   "outputs": [
    {
     "data": {
      "text/html": [
       "<div>\n",
       "<style scoped>\n",
       "    .dataframe tbody tr th:only-of-type {\n",
       "        vertical-align: middle;\n",
       "    }\n",
       "\n",
       "    .dataframe tbody tr th {\n",
       "        vertical-align: top;\n",
       "    }\n",
       "\n",
       "    .dataframe thead th {\n",
       "        text-align: right;\n",
       "    }\n",
       "</style>\n",
       "<table border=\"1\" class=\"dataframe\">\n",
       "  <thead>\n",
       "    <tr style=\"text-align: right;\">\n",
       "      <th></th>\n",
       "      <th>Title</th>\n",
       "      <th>Artist</th>\n",
       "    </tr>\n",
       "  </thead>\n",
       "  <tbody>\n",
       "    <tr>\n",
       "      <th>0</th>\n",
       "      <td>hanging by a moment</td>\n",
       "      <td>lifehouse</td>\n",
       "    </tr>\n",
       "    <tr>\n",
       "      <th>1</th>\n",
       "      <td>fallin’</td>\n",
       "      <td>alicia keys</td>\n",
       "    </tr>\n",
       "    <tr>\n",
       "      <th>2</th>\n",
       "      <td>all for you</td>\n",
       "      <td>janet jackson</td>\n",
       "    </tr>\n",
       "    <tr>\n",
       "      <th>3</th>\n",
       "      <td>drops of jupiter (tell me)</td>\n",
       "      <td>train</td>\n",
       "    </tr>\n",
       "    <tr>\n",
       "      <th>4</th>\n",
       "      <td>i’m real</td>\n",
       "      <td>jennifer lopez feat. ja rule</td>\n",
       "    </tr>\n",
       "  </tbody>\n",
       "</table>\n",
       "</div>"
      ],
      "text/plain": [
       "                        Title                        Artist\n",
       "0         hanging by a moment                     lifehouse\n",
       "1                     fallin’                   alicia keys\n",
       "2                 all for you                 janet jackson\n",
       "3  drops of jupiter (tell me)                         train\n",
       "4                    i’m real  jennifer lopez feat. ja rule"
      ]
     },
     "execution_count": 45,
     "metadata": {},
     "output_type": "execute_result"
    }
   ],
   "source": [
    "df.head()"
   ]
  },
  {
   "cell_type": "code",
   "execution_count": 46,
   "id": "f337c404",
   "metadata": {},
   "outputs": [],
   "source": [
    "def append_URIs(dataframe):\n",
    "    for lab, row in dataframe.iterrows():\n",
    "        dataframe.loc[lab, 'URI'] = URI(row['Title'],row['Artist'])"
   ]
  },
  {
   "cell_type": "code",
   "execution_count": 47,
   "id": "48686869",
   "metadata": {},
   "outputs": [],
   "source": [
    "append_URIs(df)"
   ]
  },
  {
   "cell_type": "code",
   "execution_count": 48,
   "id": "207affb0",
   "metadata": {},
   "outputs": [
    {
     "data": {
      "text/html": [
       "<div>\n",
       "<style scoped>\n",
       "    .dataframe tbody tr th:only-of-type {\n",
       "        vertical-align: middle;\n",
       "    }\n",
       "\n",
       "    .dataframe tbody tr th {\n",
       "        vertical-align: top;\n",
       "    }\n",
       "\n",
       "    .dataframe thead th {\n",
       "        text-align: right;\n",
       "    }\n",
       "</style>\n",
       "<table border=\"1\" class=\"dataframe\">\n",
       "  <thead>\n",
       "    <tr style=\"text-align: right;\">\n",
       "      <th></th>\n",
       "      <th>Title</th>\n",
       "      <th>Artist</th>\n",
       "      <th>URI</th>\n",
       "    </tr>\n",
       "  </thead>\n",
       "  <tbody>\n",
       "    <tr>\n",
       "      <th>count</th>\n",
       "      <td>1875</td>\n",
       "      <td>1875</td>\n",
       "      <td>1870</td>\n",
       "    </tr>\n",
       "    <tr>\n",
       "      <th>unique</th>\n",
       "      <td>1746</td>\n",
       "      <td>1188</td>\n",
       "      <td>1798</td>\n",
       "    </tr>\n",
       "    <tr>\n",
       "      <th>top</th>\n",
       "      <td>beautiful</td>\n",
       "      <td>rihanna</td>\n",
       "      <td>0l3GEbH3CviUytD6iX4wzg</td>\n",
       "    </tr>\n",
       "    <tr>\n",
       "      <th>freq</th>\n",
       "      <td>4</td>\n",
       "      <td>17</td>\n",
       "      <td>3</td>\n",
       "    </tr>\n",
       "  </tbody>\n",
       "</table>\n",
       "</div>"
      ],
      "text/plain": [
       "            Title   Artist                     URI\n",
       "count        1875     1875                    1870\n",
       "unique       1746     1188                    1798\n",
       "top     beautiful  rihanna  0l3GEbH3CviUytD6iX4wzg\n",
       "freq            4       17                       3"
      ]
     },
     "execution_count": 48,
     "metadata": {},
     "output_type": "execute_result"
    }
   ],
   "source": [
    "df.describe()"
   ]
  },
  {
   "cell_type": "markdown",
   "id": "7428f45a",
   "metadata": {},
   "source": [
    "There are issues here. There are missing URIs and duplicate URIs.\n",
    "\n",
    "I'll first attack the missing URIs - I think these can be solved by changing the functions slightly to make sure there are no name issues e.g. sounfs featuring multiple artist on billboard but only showing the main artist on spotify\n",
    "\n",
    "Round 1: Stared with 151 missing URIs.\n",
    "\n",
    "Round 2: After fixing 1 Artist name I am down to 150 missing URIs.\n",
    "\n",
    "Round 3: I changed my append_URIs function to take in all lowercase values for artist. I am now down to missing 138 URIs\n",
    "\n",
    "Round 4: I added some conditions to my function to also look through track names and match the artist and from there. I also added a condition to look at lowercase songs. I am down to 14 missing URIs.\n",
    "\n",
    "Note: this is weird.. function to get the uri works on some of these missing values so there must be an issue with the append uri's function."
   ]
  },
  {
   "cell_type": "code",
   "execution_count": 49,
   "id": "53341e8c",
   "metadata": {},
   "outputs": [],
   "source": [
    "missing = df.loc[df['URI'].isna()]"
   ]
  },
  {
   "cell_type": "code",
   "execution_count": 50,
   "id": "7a6f3fca",
   "metadata": {},
   "outputs": [
    {
     "data": {
      "text/html": [
       "<div>\n",
       "<style scoped>\n",
       "    .dataframe tbody tr th:only-of-type {\n",
       "        vertical-align: middle;\n",
       "    }\n",
       "\n",
       "    .dataframe tbody tr th {\n",
       "        vertical-align: top;\n",
       "    }\n",
       "\n",
       "    .dataframe thead th {\n",
       "        text-align: right;\n",
       "    }\n",
       "</style>\n",
       "<table border=\"1\" class=\"dataframe\">\n",
       "  <thead>\n",
       "    <tr style=\"text-align: right;\">\n",
       "      <th></th>\n",
       "      <th>Title</th>\n",
       "      <th>Artist</th>\n",
       "      <th>URI</th>\n",
       "    </tr>\n",
       "  </thead>\n",
       "  <tbody>\n",
       "    <tr>\n",
       "      <th>70</th>\n",
       "      <td>ain’t nothing `bout you</td>\n",
       "      <td>brooks and dunn</td>\n",
       "      <td>None</td>\n",
       "    </tr>\n",
       "    <tr>\n",
       "      <th>166</th>\n",
       "      <td>if i could go!</td>\n",
       "      <td>angie martinez feat. lil’ mo and sacario</td>\n",
       "      <td>None</td>\n",
       "    </tr>\n",
       "    <tr>\n",
       "      <th>576</th>\n",
       "      <td>for you i will (condience)</td>\n",
       "      <td>teddy geiger</td>\n",
       "      <td>None</td>\n",
       "    </tr>\n",
       "    <tr>\n",
       "      <th>889</th>\n",
       "      <td>haven’t met you yet</td>\n",
       "      <td>michael buble</td>\n",
       "      <td>None</td>\n",
       "    </tr>\n",
       "    <tr>\n",
       "      <th>1204</th>\n",
       "      <td>c’mon</td>\n",
       "      <td>ke$ha</td>\n",
       "      <td>None</td>\n",
       "    </tr>\n",
       "  </tbody>\n",
       "</table>\n",
       "</div>"
      ],
      "text/plain": [
       "                           Title                                    Artist  \\\n",
       "70       ain’t nothing `bout you                           brooks and dunn   \n",
       "166               if i could go!  angie martinez feat. lil’ mo and sacario   \n",
       "576   for you i will (condience)                              teddy geiger   \n",
       "889          haven’t met you yet                             michael buble   \n",
       "1204                       c’mon                                    ke$ha    \n",
       "\n",
       "       URI  \n",
       "70    None  \n",
       "166   None  \n",
       "576   None  \n",
       "889   None  \n",
       "1204  None  "
      ]
     },
     "execution_count": 50,
     "metadata": {},
     "output_type": "execute_result"
    }
   ],
   "source": [
    "missing"
   ]
  },
  {
   "cell_type": "code",
   "execution_count": 51,
   "id": "fd41d34f",
   "metadata": {},
   "outputs": [],
   "source": [
    "#Dropping the last two NaN values.\n",
    "\n",
    "df = df.dropna()"
   ]
  },
  {
   "cell_type": "code",
   "execution_count": 52,
   "id": "c97534a1",
   "metadata": {},
   "outputs": [],
   "source": [
    "df_dups = df[df.duplicated('URI', keep=False)]"
   ]
  },
  {
   "cell_type": "code",
   "execution_count": 53,
   "id": "1ce7f7b3",
   "metadata": {},
   "outputs": [
    {
     "data": {
      "text/html": [
       "<div>\n",
       "<style scoped>\n",
       "    .dataframe tbody tr th:only-of-type {\n",
       "        vertical-align: middle;\n",
       "    }\n",
       "\n",
       "    .dataframe tbody tr th {\n",
       "        vertical-align: top;\n",
       "    }\n",
       "\n",
       "    .dataframe thead th {\n",
       "        text-align: right;\n",
       "    }\n",
       "</style>\n",
       "<table border=\"1\" class=\"dataframe\">\n",
       "  <thead>\n",
       "    <tr style=\"text-align: right;\">\n",
       "      <th></th>\n",
       "      <th>Title</th>\n",
       "      <th>Artist</th>\n",
       "      <th>URI</th>\n",
       "    </tr>\n",
       "  </thead>\n",
       "  <tbody>\n",
       "    <tr>\n",
       "      <th>1421</th>\n",
       "      <td>sorry</td>\n",
       "      <td>justin bieber</td>\n",
       "      <td>09CtPGIpYB4BrO8qb1RGsF</td>\n",
       "    </tr>\n",
       "    <tr>\n",
       "      <th>1482</th>\n",
       "      <td>sorry</td>\n",
       "      <td>beyonce</td>\n",
       "      <td>09CtPGIpYB4BrO8qb1RGsF</td>\n",
       "    </tr>\n",
       "    <tr>\n",
       "      <th>1246</th>\n",
       "      <td>let her go</td>\n",
       "      <td>passenger</td>\n",
       "      <td>0JmiBCpWc1IAc0et7Xm7FL</td>\n",
       "    </tr>\n",
       "    <tr>\n",
       "      <th>1170</th>\n",
       "      <td>let her go</td>\n",
       "      <td>passenger</td>\n",
       "      <td>0JmiBCpWc1IAc0et7Xm7FL</td>\n",
       "    </tr>\n",
       "    <tr>\n",
       "      <th>1707</th>\n",
       "      <td>eastside</td>\n",
       "      <td>benny blanco, halsey &amp; khalid</td>\n",
       "      <td>0d2iYfpKoM0QCKvcLCkBao</td>\n",
       "    </tr>\n",
       "    <tr>\n",
       "      <th>...</th>\n",
       "      <td>...</td>\n",
       "      <td>...</td>\n",
       "      <td>...</td>\n",
       "    </tr>\n",
       "    <tr>\n",
       "      <th>367</th>\n",
       "      <td>step in the name of love</td>\n",
       "      <td>r. kelly</td>\n",
       "      <td>7lrAsaTw9CTh5uSr0fvHOd</td>\n",
       "    </tr>\n",
       "    <tr>\n",
       "      <th>305</th>\n",
       "      <td>confessions part ii</td>\n",
       "      <td>usher</td>\n",
       "      <td>7wBThXx7BGZHJJ3aN3OPvv</td>\n",
       "    </tr>\n",
       "    <tr>\n",
       "      <th>670</th>\n",
       "      <td>same girl</td>\n",
       "      <td>r. kelly and usher</td>\n",
       "      <td>7wBThXx7BGZHJJ3aN3OPvv</td>\n",
       "    </tr>\n",
       "    <tr>\n",
       "      <th>429</th>\n",
       "      <td>run it!</td>\n",
       "      <td>chris brown</td>\n",
       "      <td>7xYnUQigPoIDAMPVK79NEq</td>\n",
       "    </tr>\n",
       "    <tr>\n",
       "      <th>500</th>\n",
       "      <td>run it!</td>\n",
       "      <td>chris brown</td>\n",
       "      <td>7xYnUQigPoIDAMPVK79NEq</td>\n",
       "    </tr>\n",
       "  </tbody>\n",
       "</table>\n",
       "<p>143 rows × 3 columns</p>\n",
       "</div>"
      ],
      "text/plain": [
       "                         Title                         Artist  \\\n",
       "1421                     sorry                  justin bieber   \n",
       "1482                     sorry                        beyonce   \n",
       "1246                let her go                      passenger   \n",
       "1170                let her go                     passenger    \n",
       "1707                  eastside  benny blanco, halsey & khalid   \n",
       "...                        ...                            ...   \n",
       "367   step in the name of love                       r. kelly   \n",
       "305        confessions part ii                          usher   \n",
       "670                  same girl             r. kelly and usher   \n",
       "429                    run it!                    chris brown   \n",
       "500                    run it!                    chris brown   \n",
       "\n",
       "                         URI  \n",
       "1421  09CtPGIpYB4BrO8qb1RGsF  \n",
       "1482  09CtPGIpYB4BrO8qb1RGsF  \n",
       "1246  0JmiBCpWc1IAc0et7Xm7FL  \n",
       "1170  0JmiBCpWc1IAc0et7Xm7FL  \n",
       "1707  0d2iYfpKoM0QCKvcLCkBao  \n",
       "...                      ...  \n",
       "367   7lrAsaTw9CTh5uSr0fvHOd  \n",
       "305   7wBThXx7BGZHJJ3aN3OPvv  \n",
       "670   7wBThXx7BGZHJJ3aN3OPvv  \n",
       "429   7xYnUQigPoIDAMPVK79NEq  \n",
       "500   7xYnUQigPoIDAMPVK79NEq  \n",
       "\n",
       "[143 rows x 3 columns]"
      ]
     },
     "execution_count": 53,
     "metadata": {},
     "output_type": "execute_result"
    }
   ],
   "source": [
    "df_dups.sort_values(by='URI', ascending=True)"
   ]
  },
  {
   "cell_type": "code",
   "execution_count": 54,
   "id": "f3ae11dd",
   "metadata": {},
   "outputs": [],
   "source": [
    "df.drop_duplicates(subset = 'URI', inplace=True)"
   ]
  },
  {
   "cell_type": "code",
   "execution_count": 55,
   "id": "d053eca2",
   "metadata": {},
   "outputs": [
    {
     "name": "stdout",
     "output_type": "stream",
     "text": [
      "<class 'pandas.core.frame.DataFrame'>\n",
      "Int64Index: 1798 entries, 0 to 1874\n",
      "Data columns (total 3 columns):\n",
      " #   Column  Non-Null Count  Dtype \n",
      "---  ------  --------------  ----- \n",
      " 0   Title   1798 non-null   object\n",
      " 1   Artist  1798 non-null   object\n",
      " 2   URI     1798 non-null   object\n",
      "dtypes: object(3)\n",
      "memory usage: 56.2+ KB\n"
     ]
    }
   ],
   "source": [
    "df.info()"
   ]
  },
  {
   "cell_type": "code",
   "execution_count": 56,
   "id": "9f38bf90",
   "metadata": {},
   "outputs": [],
   "source": [
    "df.to_csv('BillboardWithURI.csv')"
   ]
  },
  {
   "cell_type": "code",
   "execution_count": null,
   "id": "53218816",
   "metadata": {},
   "outputs": [],
   "source": []
  }
 ],
 "metadata": {
  "kernelspec": {
   "display_name": "Python 3 (ipykernel)",
   "language": "python",
   "name": "python3"
  },
  "language_info": {
   "codemirror_mode": {
    "name": "ipython",
    "version": 3
   },
   "file_extension": ".py",
   "mimetype": "text/x-python",
   "name": "python",
   "nbconvert_exporter": "python",
   "pygments_lexer": "ipython3",
   "version": "3.8.12"
  }
 },
 "nbformat": 4,
 "nbformat_minor": 5
}
