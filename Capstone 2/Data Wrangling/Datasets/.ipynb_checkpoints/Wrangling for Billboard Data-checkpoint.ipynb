{
 "cells": [
  {
   "cell_type": "markdown",
   "id": "ae67fd5f",
   "metadata": {},
   "source": [
    "Data Wrangling Methodology:\n",
    "\n",
    "Billboard Data\n",
    "\n",
    "I first need to make sure the datasets collected from Billboard are clean. The data for each year is kept in CSV files in the Datasets Folder from the root.\n",
    "\n",
    "There should be 20 csvs with 100 records each. \n",
    "\n",
    "Methodology:\n",
    "\n",
    "Concatenate all csvs into one large df. I can then check for missing values and duplicates. \n"
   ]
  },
  {
   "cell_type": "code",
   "execution_count": 1,
   "id": "72652b5b",
   "metadata": {},
   "outputs": [],
   "source": [
    "#Import packages\n",
    "import pandas as pd\n",
    "import glob"
   ]
  },
  {
   "cell_type": "code",
   "execution_count": 2,
   "id": "90bd1fa0",
   "metadata": {},
   "outputs": [],
   "source": [
    "path = 'Billboard Data'\n",
    "all_files = glob.glob(path + \"*/.csv\")"
   ]
  },
  {
   "cell_type": "code",
   "execution_count": 3,
   "id": "7e66ed5a",
   "metadata": {},
   "outputs": [],
   "source": [
    "l1 = []"
   ]
  },
  {
   "cell_type": "code",
   "execution_count": 4,
   "id": "af480746",
   "metadata": {},
   "outputs": [],
   "source": [
    "bill_datasets = ['01','02','03','04','05','06','07','08','09','10','11','12','13','14','15','16','17','18','19','20']"
   ]
  },
  {
   "cell_type": "code",
   "execution_count": 5,
   "id": "04f4c029",
   "metadata": {},
   "outputs": [],
   "source": [
    "#concatenate all csvs\n",
    "for year in bill_datasets:\n",
    "    \n",
    "    df = pd.read_csv(f'Billboard Data/{year}.csv', index_col=None, header = 0)\n",
    "    l1.append(df)\n",
    "\n",
    "billboard_df = pd.concat(l1, axis = 0, ignore_index = True)"
   ]
  },
  {
   "cell_type": "code",
   "execution_count": 6,
   "id": "be086f14",
   "metadata": {
    "scrolled": true
   },
   "outputs": [
    {
     "data": {
      "text/html": [
       "<div>\n",
       "<style scoped>\n",
       "    .dataframe tbody tr th:only-of-type {\n",
       "        vertical-align: middle;\n",
       "    }\n",
       "\n",
       "    .dataframe tbody tr th {\n",
       "        vertical-align: top;\n",
       "    }\n",
       "\n",
       "    .dataframe thead th {\n",
       "        text-align: right;\n",
       "    }\n",
       "</style>\n",
       "<table border=\"1\" class=\"dataframe\">\n",
       "  <thead>\n",
       "    <tr style=\"text-align: right;\">\n",
       "      <th></th>\n",
       "      <th>Artist</th>\n",
       "      <th>Title</th>\n",
       "    </tr>\n",
       "  </thead>\n",
       "  <tbody>\n",
       "    <tr>\n",
       "      <th>0</th>\n",
       "      <td>Lifehouse</td>\n",
       "      <td>Hanging By A Moment</td>\n",
       "    </tr>\n",
       "    <tr>\n",
       "      <th>1</th>\n",
       "      <td>Alicia Keys</td>\n",
       "      <td>Fallin’</td>\n",
       "    </tr>\n",
       "    <tr>\n",
       "      <th>2</th>\n",
       "      <td>Janet Jackson</td>\n",
       "      <td>All For You</td>\n",
       "    </tr>\n",
       "    <tr>\n",
       "      <th>3</th>\n",
       "      <td>Train</td>\n",
       "      <td>Drops Of Jupiter (Tell Me)</td>\n",
       "    </tr>\n",
       "    <tr>\n",
       "      <th>4</th>\n",
       "      <td>Jennifer Lopez feat. Ja Rule</td>\n",
       "      <td>I’m Real</td>\n",
       "    </tr>\n",
       "    <tr>\n",
       "      <th>...</th>\n",
       "      <td>...</td>\n",
       "      <td>...</td>\n",
       "    </tr>\n",
       "    <tr>\n",
       "      <th>97</th>\n",
       "      <td>QB’s Finest feat. Nas and Braveheart’s</td>\n",
       "      <td>Oochie Wally</td>\n",
       "    </tr>\n",
       "    <tr>\n",
       "      <th>98</th>\n",
       "      <td>Enrique Iglesias</td>\n",
       "      <td>Hero</td>\n",
       "    </tr>\n",
       "    <tr>\n",
       "      <th>99</th>\n",
       "      <td>Fuel</td>\n",
       "      <td>Hemorrhage (In My Hands)</td>\n",
       "    </tr>\n",
       "    <tr>\n",
       "      <th>100</th>\n",
       "      <td>Nickelback</td>\n",
       "      <td>How Your Remind Me</td>\n",
       "    </tr>\n",
       "    <tr>\n",
       "      <th>101</th>\n",
       "      <td>Ashanti</td>\n",
       "      <td>Foolish</td>\n",
       "    </tr>\n",
       "  </tbody>\n",
       "</table>\n",
       "<p>102 rows × 2 columns</p>\n",
       "</div>"
      ],
      "text/plain": [
       "                                     Artist                       Title\n",
       "0                                 Lifehouse         Hanging By A Moment\n",
       "1                               Alicia Keys                     Fallin’\n",
       "2                             Janet Jackson                 All For You\n",
       "3                                     Train  Drops Of Jupiter (Tell Me)\n",
       "4              Jennifer Lopez feat. Ja Rule                    I’m Real\n",
       "..                                      ...                         ...\n",
       "97   QB’s Finest feat. Nas and Braveheart’s                Oochie Wally\n",
       "98                         Enrique Iglesias                        Hero\n",
       "99                                     Fuel    Hemorrhage (In My Hands)\n",
       "100                              Nickelback          How Your Remind Me\n",
       "101                                 Ashanti                     Foolish\n",
       "\n",
       "[102 rows x 2 columns]"
      ]
     },
     "execution_count": 6,
     "metadata": {},
     "output_type": "execute_result"
    }
   ],
   "source": [
    "billboard_df.head(102)"
   ]
  },
  {
   "cell_type": "code",
   "execution_count": 7,
   "id": "84700ed2",
   "metadata": {},
   "outputs": [
    {
     "data": {
      "text/html": [
       "<div>\n",
       "<style scoped>\n",
       "    .dataframe tbody tr th:only-of-type {\n",
       "        vertical-align: middle;\n",
       "    }\n",
       "\n",
       "    .dataframe tbody tr th {\n",
       "        vertical-align: top;\n",
       "    }\n",
       "\n",
       "    .dataframe thead th {\n",
       "        text-align: right;\n",
       "    }\n",
       "</style>\n",
       "<table border=\"1\" class=\"dataframe\">\n",
       "  <thead>\n",
       "    <tr style=\"text-align: right;\">\n",
       "      <th></th>\n",
       "      <th>Artist</th>\n",
       "      <th>Title</th>\n",
       "    </tr>\n",
       "  </thead>\n",
       "  <tbody>\n",
       "    <tr>\n",
       "      <th>count</th>\n",
       "      <td>1999</td>\n",
       "      <td>1998</td>\n",
       "    </tr>\n",
       "    <tr>\n",
       "      <th>unique</th>\n",
       "      <td>1215</td>\n",
       "      <td>1766</td>\n",
       "    </tr>\n",
       "    <tr>\n",
       "      <th>top</th>\n",
       "      <td>Taylor Swift</td>\n",
       "      <td>Rockstar</td>\n",
       "    </tr>\n",
       "    <tr>\n",
       "      <th>freq</th>\n",
       "      <td>21</td>\n",
       "      <td>4</td>\n",
       "    </tr>\n",
       "  </tbody>\n",
       "</table>\n",
       "</div>"
      ],
      "text/plain": [
       "              Artist     Title\n",
       "count           1999      1998\n",
       "unique          1215      1766\n",
       "top     Taylor Swift  Rockstar\n",
       "freq              21         4"
      ]
     },
     "execution_count": 7,
     "metadata": {},
     "output_type": "execute_result"
    }
   ],
   "source": [
    "billboard_df.describe()"
   ]
  },
  {
   "cell_type": "code",
   "execution_count": 8,
   "id": "694fa140",
   "metadata": {},
   "outputs": [
    {
     "data": {
      "text/html": [
       "<div>\n",
       "<style scoped>\n",
       "    .dataframe tbody tr th:only-of-type {\n",
       "        vertical-align: middle;\n",
       "    }\n",
       "\n",
       "    .dataframe tbody tr th {\n",
       "        vertical-align: top;\n",
       "    }\n",
       "\n",
       "    .dataframe thead th {\n",
       "        text-align: right;\n",
       "    }\n",
       "</style>\n",
       "<table border=\"1\" class=\"dataframe\">\n",
       "  <thead>\n",
       "    <tr style=\"text-align: right;\">\n",
       "      <th></th>\n",
       "      <th>Artist</th>\n",
       "      <th>Title</th>\n",
       "    </tr>\n",
       "  </thead>\n",
       "  <tbody>\n",
       "    <tr>\n",
       "      <th>1831</th>\n",
       "      <td>5 Seconds Of Summer</td>\n",
       "      <td>Youngblood</td>\n",
       "    </tr>\n",
       "    <tr>\n",
       "      <th>1170</th>\n",
       "      <td>Adele</td>\n",
       "      <td>Rolling In The Deep</td>\n",
       "    </tr>\n",
       "    <tr>\n",
       "      <th>1505</th>\n",
       "      <td>Adele</td>\n",
       "      <td>Hello</td>\n",
       "    </tr>\n",
       "    <tr>\n",
       "      <th>1142</th>\n",
       "      <td>Adele</td>\n",
       "      <td>Someone Like You</td>\n",
       "    </tr>\n",
       "    <tr>\n",
       "      <th>614</th>\n",
       "      <td>Akon feat. Eminem</td>\n",
       "      <td>Smack That</td>\n",
       "    </tr>\n",
       "    <tr>\n",
       "      <th>...</th>\n",
       "      <td>...</td>\n",
       "      <td>...</td>\n",
       "    </tr>\n",
       "    <tr>\n",
       "      <th>1570</th>\n",
       "      <td>Weeknd</td>\n",
       "      <td>Can’t Feel My Face</td>\n",
       "    </tr>\n",
       "    <tr>\n",
       "      <th>1597</th>\n",
       "      <td>Wiz Khalifa feat. Charlie Puth</td>\n",
       "      <td>See You Again</td>\n",
       "    </tr>\n",
       "    <tr>\n",
       "      <th>587</th>\n",
       "      <td>Young Jeezy feat. Akon</td>\n",
       "      <td>Soul Survivor</td>\n",
       "    </tr>\n",
       "    <tr>\n",
       "      <th>367</th>\n",
       "      <td>YoungBloodZ feat. Lil Jon</td>\n",
       "      <td>Damn!</td>\n",
       "    </tr>\n",
       "    <tr>\n",
       "      <th>1656</th>\n",
       "      <td>twenty one pilots</td>\n",
       "      <td>Heathens</td>\n",
       "    </tr>\n",
       "  </tbody>\n",
       "</table>\n",
       "<p>124 rows × 2 columns</p>\n",
       "</div>"
      ],
      "text/plain": [
       "                              Artist                Title\n",
       "1831             5 Seconds Of Summer           Youngblood\n",
       "1170                           Adele  Rolling In The Deep\n",
       "1505                           Adele                Hello\n",
       "1142                           Adele     Someone Like You\n",
       "614                Akon feat. Eminem           Smack That\n",
       "...                              ...                  ...\n",
       "1570                          Weeknd   Can’t Feel My Face\n",
       "1597  Wiz Khalifa feat. Charlie Puth        See You Again\n",
       "587           Young Jeezy feat. Akon        Soul Survivor\n",
       "367        YoungBloodZ feat. Lil Jon                Damn!\n",
       "1656               twenty one pilots             Heathens\n",
       "\n",
       "[124 rows x 2 columns]"
      ]
     },
     "execution_count": 8,
     "metadata": {},
     "output_type": "execute_result"
    }
   ],
   "source": [
    "#Check for duplicates\n",
    "duplicates = billboard_df.duplicated()\n",
    "billboard_df[duplicates].sort_values(by = 'Artist')"
   ]
  },
  {
   "cell_type": "code",
   "execution_count": 9,
   "id": "030c8cbd",
   "metadata": {},
   "outputs": [],
   "source": [
    "billboard_df.drop_duplicates(inplace=True)"
   ]
  },
  {
   "cell_type": "code",
   "execution_count": 10,
   "id": "fed6d8a7",
   "metadata": {},
   "outputs": [
    {
     "data": {
      "text/plain": [
       "0       False\n",
       "1328    False\n",
       "1327    False\n",
       "1326    False\n",
       "1325    False\n",
       "        ...  \n",
       "643     False\n",
       "642     False\n",
       "641     False\n",
       "653     False\n",
       "1998    False\n",
       "Length: 1875, dtype: bool"
      ]
     },
     "execution_count": 10,
     "metadata": {},
     "output_type": "execute_result"
    }
   ],
   "source": [
    "billboard_df.duplicated().sort_values()"
   ]
  },
  {
   "cell_type": "markdown",
   "id": "15dc70c9",
   "metadata": {},
   "source": [
    "We found 116 duplicates and removed them."
   ]
  },
  {
   "cell_type": "code",
   "execution_count": 11,
   "id": "b1a643ae",
   "metadata": {},
   "outputs": [
    {
     "data": {
      "text/html": [
       "<div>\n",
       "<style scoped>\n",
       "    .dataframe tbody tr th:only-of-type {\n",
       "        vertical-align: middle;\n",
       "    }\n",
       "\n",
       "    .dataframe tbody tr th {\n",
       "        vertical-align: top;\n",
       "    }\n",
       "\n",
       "    .dataframe thead th {\n",
       "        text-align: right;\n",
       "    }\n",
       "</style>\n",
       "<table border=\"1\" class=\"dataframe\">\n",
       "  <thead>\n",
       "    <tr style=\"text-align: right;\">\n",
       "      <th></th>\n",
       "      <th>Artist</th>\n",
       "      <th>Title</th>\n",
       "    </tr>\n",
       "  </thead>\n",
       "  <tbody>\n",
       "    <tr>\n",
       "      <th>count</th>\n",
       "      <td>1875</td>\n",
       "      <td>1874</td>\n",
       "    </tr>\n",
       "    <tr>\n",
       "      <th>unique</th>\n",
       "      <td>1215</td>\n",
       "      <td>1766</td>\n",
       "    </tr>\n",
       "    <tr>\n",
       "      <th>top</th>\n",
       "      <td>Rihanna</td>\n",
       "      <td>Beautiful</td>\n",
       "    </tr>\n",
       "    <tr>\n",
       "      <th>freq</th>\n",
       "      <td>17</td>\n",
       "      <td>4</td>\n",
       "    </tr>\n",
       "  </tbody>\n",
       "</table>\n",
       "</div>"
      ],
      "text/plain": [
       "         Artist      Title\n",
       "count      1875       1874\n",
       "unique     1215       1766\n",
       "top     Rihanna  Beautiful\n",
       "freq         17          4"
      ]
     },
     "execution_count": 11,
     "metadata": {},
     "output_type": "execute_result"
    }
   ],
   "source": [
    "billboard_df.describe()\n",
    "\n"
   ]
  },
  {
   "cell_type": "markdown",
   "id": "ab918f5d",
   "metadata": {},
   "source": [
    "Time to deal with missing values. There was 1 initial missing Artist name (we would have expected 2000 values in the Artist column and found 1999). Serendipitously, upon inspection of the first dataset I found it contained 99 values for Artist and Title. There are therefor only 99 Artist : Title pairs in the 2001 dataset.\n",
    "\n",
    "However, this still leaves the one Artist that is missing a Title. Let's see what that is.."
   ]
  },
  {
   "cell_type": "code",
   "execution_count": 12,
   "id": "0b238d91",
   "metadata": {},
   "outputs": [
    {
     "data": {
      "text/plain": [
       "Artist    0\n",
       "Title     1\n",
       "dtype: int64"
      ]
     },
     "execution_count": 12,
     "metadata": {},
     "output_type": "execute_result"
    }
   ],
   "source": [
    "billboard_df.isna().sum()"
   ]
  },
  {
   "cell_type": "code",
   "execution_count": 13,
   "id": "e96ea1df",
   "metadata": {},
   "outputs": [],
   "source": [
    "missing = billboard_df[billboard_df['Title'].isna()]"
   ]
  },
  {
   "cell_type": "code",
   "execution_count": 14,
   "id": "1a47692d",
   "metadata": {},
   "outputs": [
    {
     "data": {
      "text/html": [
       "<div>\n",
       "<style scoped>\n",
       "    .dataframe tbody tr th:only-of-type {\n",
       "        vertical-align: middle;\n",
       "    }\n",
       "\n",
       "    .dataframe tbody tr th {\n",
       "        vertical-align: top;\n",
       "    }\n",
       "\n",
       "    .dataframe thead th {\n",
       "        text-align: right;\n",
       "    }\n",
       "</style>\n",
       "<table border=\"1\" class=\"dataframe\">\n",
       "  <thead>\n",
       "    <tr style=\"text-align: right;\">\n",
       "      <th></th>\n",
       "      <th>Artist</th>\n",
       "      <th>Title</th>\n",
       "    </tr>\n",
       "  </thead>\n",
       "  <tbody>\n",
       "    <tr>\n",
       "      <th>1239</th>\n",
       "      <td>Mike WiLL Made-It FeaturingMiley Cyrus, Wiz Kh...</td>\n",
       "      <td>NaN</td>\n",
       "    </tr>\n",
       "  </tbody>\n",
       "</table>\n",
       "</div>"
      ],
      "text/plain": [
       "                                                 Artist Title\n",
       "1239  Mike WiLL Made-It FeaturingMiley Cyrus, Wiz Kh...   NaN"
      ]
     },
     "execution_count": 14,
     "metadata": {},
     "output_type": "execute_result"
    }
   ],
   "source": [
    "missing"
   ]
  },
  {
   "cell_type": "markdown",
   "id": "3f742156",
   "metadata": {},
   "source": [
    "The missing value is actually pretty obvious. It is the song '23' by Mike Will Made-it feat. Miley Cyrus, Wiz Khalifa, etc. \n",
    "\n",
    "Lucky the Artist column was so specific! Lets add the value back in to complete the df. "
   ]
  },
  {
   "cell_type": "code",
   "execution_count": 15,
   "id": "c6a2fda2",
   "metadata": {},
   "outputs": [],
   "source": [
    "billboard_df.loc[1239,'Title'] = '23'"
   ]
  },
  {
   "cell_type": "code",
   "execution_count": 16,
   "id": "2c4f0640",
   "metadata": {},
   "outputs": [
    {
     "data": {
      "text/html": [
       "<div>\n",
       "<style scoped>\n",
       "    .dataframe tbody tr th:only-of-type {\n",
       "        vertical-align: middle;\n",
       "    }\n",
       "\n",
       "    .dataframe tbody tr th {\n",
       "        vertical-align: top;\n",
       "    }\n",
       "\n",
       "    .dataframe thead th {\n",
       "        text-align: right;\n",
       "    }\n",
       "</style>\n",
       "<table border=\"1\" class=\"dataframe\">\n",
       "  <thead>\n",
       "    <tr style=\"text-align: right;\">\n",
       "      <th></th>\n",
       "      <th>Artist</th>\n",
       "      <th>Title</th>\n",
       "    </tr>\n",
       "  </thead>\n",
       "  <tbody>\n",
       "    <tr>\n",
       "      <th>count</th>\n",
       "      <td>1875</td>\n",
       "      <td>1875</td>\n",
       "    </tr>\n",
       "    <tr>\n",
       "      <th>unique</th>\n",
       "      <td>1215</td>\n",
       "      <td>1766</td>\n",
       "    </tr>\n",
       "    <tr>\n",
       "      <th>top</th>\n",
       "      <td>Rihanna</td>\n",
       "      <td>Beautiful</td>\n",
       "    </tr>\n",
       "    <tr>\n",
       "      <th>freq</th>\n",
       "      <td>17</td>\n",
       "      <td>4</td>\n",
       "    </tr>\n",
       "  </tbody>\n",
       "</table>\n",
       "</div>"
      ],
      "text/plain": [
       "         Artist      Title\n",
       "count      1875       1875\n",
       "unique     1215       1766\n",
       "top     Rihanna  Beautiful\n",
       "freq         17          4"
      ]
     },
     "execution_count": 16,
     "metadata": {},
     "output_type": "execute_result"
    }
   ],
   "source": [
    "billboard_df.describe()"
   ]
  },
  {
   "cell_type": "code",
   "execution_count": 17,
   "id": "5bab86ea",
   "metadata": {},
   "outputs": [],
   "source": [
    "#Found an incorrect Artist name. Need to correct All for you by Janet to all for you by Janet Jackson\n",
    "\n",
    "billboard_df.loc[2,'Artist'] = 'Janet Jackson'"
   ]
  },
  {
   "cell_type": "code",
   "execution_count": 18,
   "id": "5289f1ce",
   "metadata": {},
   "outputs": [],
   "source": [
    "#replace all instance of Pink, the artist) with the correct spelling: \"p!ink\"\n",
    "\n",
    "billboard_df.replace(to_replace = 'Pink', value = 'P!nk',inplace = True)"
   ]
  },
  {
   "cell_type": "code",
   "execution_count": 19,
   "id": "4cf5ad52",
   "metadata": {},
   "outputs": [
    {
     "data": {
      "text/html": [
       "<div>\n",
       "<style scoped>\n",
       "    .dataframe tbody tr th:only-of-type {\n",
       "        vertical-align: middle;\n",
       "    }\n",
       "\n",
       "    .dataframe tbody tr th {\n",
       "        vertical-align: top;\n",
       "    }\n",
       "\n",
       "    .dataframe thead th {\n",
       "        text-align: right;\n",
       "    }\n",
       "</style>\n",
       "<table border=\"1\" class=\"dataframe\">\n",
       "  <thead>\n",
       "    <tr style=\"text-align: right;\">\n",
       "      <th></th>\n",
       "      <th>Artist</th>\n",
       "      <th>Title</th>\n",
       "    </tr>\n",
       "  </thead>\n",
       "  <tbody>\n",
       "    <tr>\n",
       "      <th>0</th>\n",
       "      <td>Lifehouse</td>\n",
       "      <td>Hanging By A Moment</td>\n",
       "    </tr>\n",
       "    <tr>\n",
       "      <th>1</th>\n",
       "      <td>Alicia Keys</td>\n",
       "      <td>Fallin’</td>\n",
       "    </tr>\n",
       "    <tr>\n",
       "      <th>2</th>\n",
       "      <td>Janet Jackson</td>\n",
       "      <td>All For You</td>\n",
       "    </tr>\n",
       "    <tr>\n",
       "      <th>3</th>\n",
       "      <td>Train</td>\n",
       "      <td>Drops Of Jupiter (Tell Me)</td>\n",
       "    </tr>\n",
       "    <tr>\n",
       "      <th>4</th>\n",
       "      <td>Jennifer Lopez feat. Ja Rule</td>\n",
       "      <td>I’m Real</td>\n",
       "    </tr>\n",
       "  </tbody>\n",
       "</table>\n",
       "</div>"
      ],
      "text/plain": [
       "                         Artist                       Title\n",
       "0                     Lifehouse         Hanging By A Moment\n",
       "1                   Alicia Keys                     Fallin’\n",
       "2                 Janet Jackson                 All For You\n",
       "3                         Train  Drops Of Jupiter (Tell Me)\n",
       "4  Jennifer Lopez feat. Ja Rule                    I’m Real"
      ]
     },
     "execution_count": 19,
     "metadata": {},
     "output_type": "execute_result"
    }
   ],
   "source": [
    "billboard_df.head()"
   ]
  },
  {
   "cell_type": "code",
   "execution_count": 20,
   "id": "59b43b53",
   "metadata": {},
   "outputs": [],
   "source": [
    "#Save billboard_df to csv. \n",
    "\n",
    "billboard_df.to_csv('BillboardFullDataset.csv')"
   ]
  }
 ],
 "metadata": {
  "kernelspec": {
   "display_name": "Python 3",
   "language": "python",
   "name": "python3"
  },
  "language_info": {
   "codemirror_mode": {
    "name": "ipython",
    "version": 3
   },
   "file_extension": ".py",
   "mimetype": "text/x-python",
   "name": "python",
   "nbconvert_exporter": "python",
   "pygments_lexer": "ipython3",
   "version": "3.8.8"
  }
 },
 "nbformat": 4,
 "nbformat_minor": 5
}
